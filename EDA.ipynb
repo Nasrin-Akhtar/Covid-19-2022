{
 "cells": [
  {
   "cell_type": "code",
   "execution_count": 45,
   "metadata": {},
   "outputs": [],
   "source": [
    "#importing libraries\n",
    "import pandas as  pd\n",
    "import numpy as np\n",
    "import seaborn as sns\n",
    "import matplotlib.pyplot as plt\n",
    "import plotly.express as px\n"
   ]
  },
  {
   "cell_type": "code",
   "execution_count": 46,
   "metadata": {},
   "outputs": [
    {
     "data": {
      "text/html": [
       "<div>\n",
       "<style scoped>\n",
       "    .dataframe tbody tr th:only-of-type {\n",
       "        vertical-align: middle;\n",
       "    }\n",
       "\n",
       "    .dataframe tbody tr th {\n",
       "        vertical-align: top;\n",
       "    }\n",
       "\n",
       "    .dataframe thead th {\n",
       "        text-align: right;\n",
       "    }\n",
       "</style>\n",
       "<table border=\"1\" class=\"dataframe\">\n",
       "  <thead>\n",
       "    <tr style=\"text-align: right;\">\n",
       "      <th></th>\n",
       "      <th>iso_code</th>\n",
       "      <th>continent</th>\n",
       "      <th>location</th>\n",
       "      <th>last_updated_date</th>\n",
       "      <th>total_cases</th>\n",
       "      <th>new_cases</th>\n",
       "      <th>new_cases_smoothed</th>\n",
       "      <th>total_deaths</th>\n",
       "      <th>new_deaths</th>\n",
       "      <th>new_deaths_smoothed</th>\n",
       "      <th>...</th>\n",
       "      <th>female_smokers</th>\n",
       "      <th>male_smokers</th>\n",
       "      <th>handwashing_facilities</th>\n",
       "      <th>hospital_beds_per_thousand</th>\n",
       "      <th>life_expectancy</th>\n",
       "      <th>human_development_index</th>\n",
       "      <th>excess_mortality_cumulative_absolute</th>\n",
       "      <th>excess_mortality_cumulative</th>\n",
       "      <th>excess_mortality</th>\n",
       "      <th>excess_mortality_cumulative_per_million</th>\n",
       "    </tr>\n",
       "  </thead>\n",
       "  <tbody>\n",
       "    <tr>\n",
       "      <th>0</th>\n",
       "      <td>AFG</td>\n",
       "      <td>Asia</td>\n",
       "      <td>Afghanistan</td>\n",
       "      <td>2022-09-18</td>\n",
       "      <td>197240.0</td>\n",
       "      <td>174.0</td>\n",
       "      <td>187.857</td>\n",
       "      <td>7795.0</td>\n",
       "      <td>1.0</td>\n",
       "      <td>1.143</td>\n",
       "      <td>...</td>\n",
       "      <td>NaN</td>\n",
       "      <td>NaN</td>\n",
       "      <td>37.746</td>\n",
       "      <td>0.50</td>\n",
       "      <td>64.83</td>\n",
       "      <td>0.511</td>\n",
       "      <td>NaN</td>\n",
       "      <td>NaN</td>\n",
       "      <td>NaN</td>\n",
       "      <td>NaN</td>\n",
       "    </tr>\n",
       "    <tr>\n",
       "      <th>1</th>\n",
       "      <td>OWID_AFR</td>\n",
       "      <td>NaN</td>\n",
       "      <td>Africa</td>\n",
       "      <td>2022-09-18</td>\n",
       "      <td>12345472.0</td>\n",
       "      <td>162.0</td>\n",
       "      <td>1161.857</td>\n",
       "      <td>256668.0</td>\n",
       "      <td>1.0</td>\n",
       "      <td>5.143</td>\n",
       "      <td>...</td>\n",
       "      <td>NaN</td>\n",
       "      <td>NaN</td>\n",
       "      <td>NaN</td>\n",
       "      <td>NaN</td>\n",
       "      <td>NaN</td>\n",
       "      <td>NaN</td>\n",
       "      <td>NaN</td>\n",
       "      <td>NaN</td>\n",
       "      <td>NaN</td>\n",
       "      <td>NaN</td>\n",
       "    </tr>\n",
       "    <tr>\n",
       "      <th>2</th>\n",
       "      <td>ALB</td>\n",
       "      <td>Europe</td>\n",
       "      <td>Albania</td>\n",
       "      <td>2022-09-18</td>\n",
       "      <td>331583.0</td>\n",
       "      <td>43.0</td>\n",
       "      <td>78.143</td>\n",
       "      <td>3586.0</td>\n",
       "      <td>0.0</td>\n",
       "      <td>0.286</td>\n",
       "      <td>...</td>\n",
       "      <td>7.1</td>\n",
       "      <td>51.2</td>\n",
       "      <td>NaN</td>\n",
       "      <td>2.89</td>\n",
       "      <td>78.57</td>\n",
       "      <td>0.795</td>\n",
       "      <td>NaN</td>\n",
       "      <td>NaN</td>\n",
       "      <td>NaN</td>\n",
       "      <td>NaN</td>\n",
       "    </tr>\n",
       "    <tr>\n",
       "      <th>3</th>\n",
       "      <td>DZA</td>\n",
       "      <td>Africa</td>\n",
       "      <td>Algeria</td>\n",
       "      <td>2022-09-18</td>\n",
       "      <td>270609.0</td>\n",
       "      <td>3.0</td>\n",
       "      <td>10.000</td>\n",
       "      <td>6879.0</td>\n",
       "      <td>0.0</td>\n",
       "      <td>0.000</td>\n",
       "      <td>...</td>\n",
       "      <td>0.7</td>\n",
       "      <td>30.4</td>\n",
       "      <td>83.741</td>\n",
       "      <td>1.90</td>\n",
       "      <td>76.88</td>\n",
       "      <td>0.748</td>\n",
       "      <td>NaN</td>\n",
       "      <td>NaN</td>\n",
       "      <td>NaN</td>\n",
       "      <td>NaN</td>\n",
       "    </tr>\n",
       "    <tr>\n",
       "      <th>4</th>\n",
       "      <td>AND</td>\n",
       "      <td>Europe</td>\n",
       "      <td>Andorra</td>\n",
       "      <td>2022-09-18</td>\n",
       "      <td>46147.0</td>\n",
       "      <td>0.0</td>\n",
       "      <td>4.857</td>\n",
       "      <td>155.0</td>\n",
       "      <td>0.0</td>\n",
       "      <td>0.000</td>\n",
       "      <td>...</td>\n",
       "      <td>29.0</td>\n",
       "      <td>37.8</td>\n",
       "      <td>NaN</td>\n",
       "      <td>NaN</td>\n",
       "      <td>83.73</td>\n",
       "      <td>0.868</td>\n",
       "      <td>NaN</td>\n",
       "      <td>NaN</td>\n",
       "      <td>NaN</td>\n",
       "      <td>NaN</td>\n",
       "    </tr>\n",
       "  </tbody>\n",
       "</table>\n",
       "<p>5 rows × 67 columns</p>\n",
       "</div>"
      ],
      "text/plain": [
       "   iso_code continent     location last_updated_date  total_cases  new_cases  \\\n",
       "0       AFG      Asia  Afghanistan        2022-09-18     197240.0      174.0   \n",
       "1  OWID_AFR       NaN       Africa        2022-09-18   12345472.0      162.0   \n",
       "2       ALB    Europe      Albania        2022-09-18     331583.0       43.0   \n",
       "3       DZA    Africa      Algeria        2022-09-18     270609.0        3.0   \n",
       "4       AND    Europe      Andorra        2022-09-18      46147.0        0.0   \n",
       "\n",
       "   new_cases_smoothed  total_deaths  new_deaths  new_deaths_smoothed  ...  \\\n",
       "0             187.857        7795.0         1.0                1.143  ...   \n",
       "1            1161.857      256668.0         1.0                5.143  ...   \n",
       "2              78.143        3586.0         0.0                0.286  ...   \n",
       "3              10.000        6879.0         0.0                0.000  ...   \n",
       "4               4.857         155.0         0.0                0.000  ...   \n",
       "\n",
       "   female_smokers  male_smokers  handwashing_facilities  \\\n",
       "0             NaN           NaN                  37.746   \n",
       "1             NaN           NaN                     NaN   \n",
       "2             7.1          51.2                     NaN   \n",
       "3             0.7          30.4                  83.741   \n",
       "4            29.0          37.8                     NaN   \n",
       "\n",
       "   hospital_beds_per_thousand  life_expectancy  human_development_index  \\\n",
       "0                        0.50            64.83                    0.511   \n",
       "1                         NaN              NaN                      NaN   \n",
       "2                        2.89            78.57                    0.795   \n",
       "3                        1.90            76.88                    0.748   \n",
       "4                         NaN            83.73                    0.868   \n",
       "\n",
       "   excess_mortality_cumulative_absolute  excess_mortality_cumulative  \\\n",
       "0                                   NaN                          NaN   \n",
       "1                                   NaN                          NaN   \n",
       "2                                   NaN                          NaN   \n",
       "3                                   NaN                          NaN   \n",
       "4                                   NaN                          NaN   \n",
       "\n",
       "   excess_mortality  excess_mortality_cumulative_per_million  \n",
       "0               NaN                                      NaN  \n",
       "1               NaN                                      NaN  \n",
       "2               NaN                                      NaN  \n",
       "3               NaN                                      NaN  \n",
       "4               NaN                                      NaN  \n",
       "\n",
       "[5 rows x 67 columns]"
      ]
     },
     "execution_count": 46,
     "metadata": {},
     "output_type": "execute_result"
    }
   ],
   "source": [
    "#loading dataset\n",
    "df=pd.read_csv('C:/Users/user/Downloads/owid-covid-latest.csv')\n",
    "df.head(5)"
   ]
  },
  {
   "cell_type": "markdown",
   "metadata": {},
   "source": [
    "# Data_Cleaning"
   ]
  },
  {
   "cell_type": "code",
   "execution_count": 47,
   "metadata": {},
   "outputs": [
    {
     "data": {
      "text/plain": [
       "iso_code                                     0\n",
       "continent                                   13\n",
       "location                                     0\n",
       "last_updated_date                            0\n",
       "total_cases                                  1\n",
       "                                          ... \n",
       "human_development_index                     43\n",
       "excess_mortality_cumulative_absolute       232\n",
       "excess_mortality_cumulative                232\n",
       "excess_mortality                           232\n",
       "excess_mortality_cumulative_per_million    232\n",
       "Length: 67, dtype: int64"
      ]
     },
     "execution_count": 47,
     "metadata": {},
     "output_type": "execute_result"
    }
   ],
   "source": [
    "df.isnull().sum().transpose() #checking missing values"
   ]
  },
  {
   "cell_type": "code",
   "execution_count": 48,
   "metadata": {},
   "outputs": [
    {
     "data": {
      "text/plain": [
       "Index(['iso_code', 'continent', 'location', 'last_updated_date', 'total_cases',\n",
       "       'new_cases', 'new_cases_smoothed', 'total_deaths', 'new_deaths',\n",
       "       'new_deaths_smoothed', 'total_cases_per_million',\n",
       "       'new_cases_per_million', 'new_cases_smoothed_per_million',\n",
       "       'total_deaths_per_million', 'new_deaths_per_million',\n",
       "       'new_deaths_smoothed_per_million', 'reproduction_rate', 'icu_patients',\n",
       "       'icu_patients_per_million', 'hosp_patients',\n",
       "       'hosp_patients_per_million', 'weekly_icu_admissions',\n",
       "       'weekly_icu_admissions_per_million', 'weekly_hosp_admissions',\n",
       "       'weekly_hosp_admissions_per_million', 'total_tests', 'new_tests',\n",
       "       'total_tests_per_thousand', 'new_tests_per_thousand',\n",
       "       'new_tests_smoothed', 'new_tests_smoothed_per_thousand',\n",
       "       'positive_rate', 'tests_per_case', 'tests_units', 'total_vaccinations',\n",
       "       'people_vaccinated', 'people_fully_vaccinated', 'total_boosters',\n",
       "       'new_vaccinations', 'new_vaccinations_smoothed',\n",
       "       'total_vaccinations_per_hundred', 'people_vaccinated_per_hundred',\n",
       "       'people_fully_vaccinated_per_hundred', 'total_boosters_per_hundred',\n",
       "       'new_vaccinations_smoothed_per_million',\n",
       "       'new_people_vaccinated_smoothed',\n",
       "       'new_people_vaccinated_smoothed_per_hundred', 'stringency_index',\n",
       "       'population', 'population_density', 'median_age', 'aged_65_older',\n",
       "       'aged_70_older', 'gdp_per_capita', 'extreme_poverty',\n",
       "       'cardiovasc_death_rate', 'diabetes_prevalence', 'female_smokers',\n",
       "       'male_smokers', 'handwashing_facilities', 'hospital_beds_per_thousand',\n",
       "       'life_expectancy', 'human_development_index',\n",
       "       'excess_mortality_cumulative_absolute', 'excess_mortality_cumulative',\n",
       "       'excess_mortality', 'excess_mortality_cumulative_per_million'],\n",
       "      dtype='object')"
      ]
     },
     "execution_count": 48,
     "metadata": {},
     "output_type": "execute_result"
    }
   ],
   "source": [
    "df.columns #column_names"
   ]
  },
  {
   "cell_type": "code",
   "execution_count": 49,
   "metadata": {},
   "outputs": [],
   "source": [
    "df.drop(df.columns[[0,3,10,11,12,13,14,15,18,20,22,21,23,24,25,26,27,28,29,30,31,32,33,40,41,42,43,44,45,46,47,62,66,65,64,63]],axis=1,inplace=True)\n",
    "#columns with maximum 'NAN' values has been dropped. We can't really interprete much with these values"
   ]
  },
  {
   "cell_type": "code",
   "execution_count": 50,
   "metadata": {},
   "outputs": [
    {
     "data": {
      "text/html": [
       "<div>\n",
       "<style scoped>\n",
       "    .dataframe tbody tr th:only-of-type {\n",
       "        vertical-align: middle;\n",
       "    }\n",
       "\n",
       "    .dataframe tbody tr th {\n",
       "        vertical-align: top;\n",
       "    }\n",
       "\n",
       "    .dataframe thead th {\n",
       "        text-align: right;\n",
       "    }\n",
       "</style>\n",
       "<table border=\"1\" class=\"dataframe\">\n",
       "  <thead>\n",
       "    <tr style=\"text-align: right;\">\n",
       "      <th></th>\n",
       "      <th>continent</th>\n",
       "      <th>location</th>\n",
       "      <th>total_cases</th>\n",
       "      <th>new_cases</th>\n",
       "      <th>new_cases_smoothed</th>\n",
       "      <th>total_deaths</th>\n",
       "      <th>new_deaths</th>\n",
       "      <th>new_deaths_smoothed</th>\n",
       "      <th>reproduction_rate</th>\n",
       "      <th>icu_patients</th>\n",
       "      <th>...</th>\n",
       "      <th>aged_70_older</th>\n",
       "      <th>gdp_per_capita</th>\n",
       "      <th>extreme_poverty</th>\n",
       "      <th>cardiovasc_death_rate</th>\n",
       "      <th>diabetes_prevalence</th>\n",
       "      <th>female_smokers</th>\n",
       "      <th>male_smokers</th>\n",
       "      <th>handwashing_facilities</th>\n",
       "      <th>hospital_beds_per_thousand</th>\n",
       "      <th>life_expectancy</th>\n",
       "    </tr>\n",
       "  </thead>\n",
       "  <tbody>\n",
       "    <tr>\n",
       "      <th>1</th>\n",
       "      <td>NaN</td>\n",
       "      <td>Africa</td>\n",
       "      <td>12345472.0</td>\n",
       "      <td>162.0</td>\n",
       "      <td>1161.857</td>\n",
       "      <td>256668.0</td>\n",
       "      <td>1.0</td>\n",
       "      <td>5.143</td>\n",
       "      <td>NaN</td>\n",
       "      <td>NaN</td>\n",
       "      <td>...</td>\n",
       "      <td>NaN</td>\n",
       "      <td>NaN</td>\n",
       "      <td>NaN</td>\n",
       "      <td>NaN</td>\n",
       "      <td>NaN</td>\n",
       "      <td>NaN</td>\n",
       "      <td>NaN</td>\n",
       "      <td>NaN</td>\n",
       "      <td>NaN</td>\n",
       "      <td>NaN</td>\n",
       "    </tr>\n",
       "    <tr>\n",
       "      <th>11</th>\n",
       "      <td>NaN</td>\n",
       "      <td>Asia</td>\n",
       "      <td>183584372.0</td>\n",
       "      <td>153084.0</td>\n",
       "      <td>211258.143</td>\n",
       "      <td>1480906.0</td>\n",
       "      <td>282.0</td>\n",
       "      <td>413.143</td>\n",
       "      <td>NaN</td>\n",
       "      <td>NaN</td>\n",
       "      <td>...</td>\n",
       "      <td>NaN</td>\n",
       "      <td>NaN</td>\n",
       "      <td>NaN</td>\n",
       "      <td>NaN</td>\n",
       "      <td>NaN</td>\n",
       "      <td>NaN</td>\n",
       "      <td>NaN</td>\n",
       "      <td>NaN</td>\n",
       "      <td>NaN</td>\n",
       "      <td>NaN</td>\n",
       "    </tr>\n",
       "    <tr>\n",
       "      <th>68</th>\n",
       "      <td>NaN</td>\n",
       "      <td>Europe</td>\n",
       "      <td>226411359.0</td>\n",
       "      <td>84222.0</td>\n",
       "      <td>185184.571</td>\n",
       "      <td>1935189.0</td>\n",
       "      <td>165.0</td>\n",
       "      <td>561.857</td>\n",
       "      <td>NaN</td>\n",
       "      <td>NaN</td>\n",
       "      <td>...</td>\n",
       "      <td>NaN</td>\n",
       "      <td>NaN</td>\n",
       "      <td>NaN</td>\n",
       "      <td>NaN</td>\n",
       "      <td>NaN</td>\n",
       "      <td>NaN</td>\n",
       "      <td>NaN</td>\n",
       "      <td>NaN</td>\n",
       "      <td>NaN</td>\n",
       "      <td>NaN</td>\n",
       "    </tr>\n",
       "    <tr>\n",
       "      <th>69</th>\n",
       "      <td>NaN</td>\n",
       "      <td>European Union</td>\n",
       "      <td>165823982.0</td>\n",
       "      <td>25802.0</td>\n",
       "      <td>118383.714</td>\n",
       "      <td>1144121.0</td>\n",
       "      <td>56.0</td>\n",
       "      <td>412.429</td>\n",
       "      <td>NaN</td>\n",
       "      <td>NaN</td>\n",
       "      <td>...</td>\n",
       "      <td>NaN</td>\n",
       "      <td>NaN</td>\n",
       "      <td>NaN</td>\n",
       "      <td>NaN</td>\n",
       "      <td>NaN</td>\n",
       "      <td>NaN</td>\n",
       "      <td>NaN</td>\n",
       "      <td>NaN</td>\n",
       "      <td>NaN</td>\n",
       "      <td>NaN</td>\n",
       "    </tr>\n",
       "    <tr>\n",
       "      <th>90</th>\n",
       "      <td>NaN</td>\n",
       "      <td>High income</td>\n",
       "      <td>376701181.0</td>\n",
       "      <td>166684.0</td>\n",
       "      <td>381390.571</td>\n",
       "      <td>2657816.0</td>\n",
       "      <td>256.0</td>\n",
       "      <td>1246.714</td>\n",
       "      <td>NaN</td>\n",
       "      <td>NaN</td>\n",
       "      <td>...</td>\n",
       "      <td>NaN</td>\n",
       "      <td>NaN</td>\n",
       "      <td>NaN</td>\n",
       "      <td>NaN</td>\n",
       "      <td>NaN</td>\n",
       "      <td>NaN</td>\n",
       "      <td>NaN</td>\n",
       "      <td>NaN</td>\n",
       "      <td>NaN</td>\n",
       "      <td>NaN</td>\n",
       "    </tr>\n",
       "    <tr>\n",
       "      <th>97</th>\n",
       "      <td>NaN</td>\n",
       "      <td>International</td>\n",
       "      <td>721.0</td>\n",
       "      <td>0.0</td>\n",
       "      <td>0.000</td>\n",
       "      <td>15.0</td>\n",
       "      <td>0.0</td>\n",
       "      <td>0.000</td>\n",
       "      <td>NaN</td>\n",
       "      <td>NaN</td>\n",
       "      <td>...</td>\n",
       "      <td>NaN</td>\n",
       "      <td>NaN</td>\n",
       "      <td>NaN</td>\n",
       "      <td>NaN</td>\n",
       "      <td>NaN</td>\n",
       "      <td>NaN</td>\n",
       "      <td>NaN</td>\n",
       "      <td>NaN</td>\n",
       "      <td>NaN</td>\n",
       "      <td>NaN</td>\n",
       "    </tr>\n",
       "    <tr>\n",
       "      <th>122</th>\n",
       "      <td>NaN</td>\n",
       "      <td>Low income</td>\n",
       "      <td>2240445.0</td>\n",
       "      <td>221.0</td>\n",
       "      <td>435.143</td>\n",
       "      <td>47582.0</td>\n",
       "      <td>2.0</td>\n",
       "      <td>1.714</td>\n",
       "      <td>NaN</td>\n",
       "      <td>NaN</td>\n",
       "      <td>...</td>\n",
       "      <td>NaN</td>\n",
       "      <td>NaN</td>\n",
       "      <td>NaN</td>\n",
       "      <td>NaN</td>\n",
       "      <td>NaN</td>\n",
       "      <td>NaN</td>\n",
       "      <td>NaN</td>\n",
       "      <td>NaN</td>\n",
       "      <td>NaN</td>\n",
       "      <td>NaN</td>\n",
       "    </tr>\n",
       "    <tr>\n",
       "      <th>123</th>\n",
       "      <td>NaN</td>\n",
       "      <td>Lower middle income</td>\n",
       "      <td>95845987.0</td>\n",
       "      <td>12914.0</td>\n",
       "      <td>19242.286</td>\n",
       "      <td>1332904.0</td>\n",
       "      <td>85.0</td>\n",
       "      <td>122.714</td>\n",
       "      <td>NaN</td>\n",
       "      <td>NaN</td>\n",
       "      <td>...</td>\n",
       "      <td>NaN</td>\n",
       "      <td>NaN</td>\n",
       "      <td>NaN</td>\n",
       "      <td>NaN</td>\n",
       "      <td>NaN</td>\n",
       "      <td>NaN</td>\n",
       "      <td>NaN</td>\n",
       "      <td>NaN</td>\n",
       "      <td>NaN</td>\n",
       "      <td>NaN</td>\n",
       "    </tr>\n",
       "    <tr>\n",
       "      <th>154</th>\n",
       "      <td>NaN</td>\n",
       "      <td>North America</td>\n",
       "      <td>113451564.0</td>\n",
       "      <td>7792.0</td>\n",
       "      <td>69643.429</td>\n",
       "      <td>1506109.0</td>\n",
       "      <td>29.0</td>\n",
       "      <td>523.286</td>\n",
       "      <td>NaN</td>\n",
       "      <td>NaN</td>\n",
       "      <td>...</td>\n",
       "      <td>NaN</td>\n",
       "      <td>NaN</td>\n",
       "      <td>NaN</td>\n",
       "      <td>NaN</td>\n",
       "      <td>NaN</td>\n",
       "      <td>NaN</td>\n",
       "      <td>NaN</td>\n",
       "      <td>NaN</td>\n",
       "      <td>NaN</td>\n",
       "      <td>NaN</td>\n",
       "    </tr>\n",
       "    <tr>\n",
       "      <th>158</th>\n",
       "      <td>NaN</td>\n",
       "      <td>Oceania</td>\n",
       "      <td>12297202.0</td>\n",
       "      <td>1168.0</td>\n",
       "      <td>6255.429</td>\n",
       "      <td>19513.0</td>\n",
       "      <td>4.0</td>\n",
       "      <td>49.429</td>\n",
       "      <td>NaN</td>\n",
       "      <td>NaN</td>\n",
       "      <td>...</td>\n",
       "      <td>NaN</td>\n",
       "      <td>NaN</td>\n",
       "      <td>NaN</td>\n",
       "      <td>NaN</td>\n",
       "      <td>NaN</td>\n",
       "      <td>NaN</td>\n",
       "      <td>NaN</td>\n",
       "      <td>NaN</td>\n",
       "      <td>NaN</td>\n",
       "      <td>NaN</td>\n",
       "    </tr>\n",
       "    <tr>\n",
       "      <th>193</th>\n",
       "      <td>NaN</td>\n",
       "      <td>South America</td>\n",
       "      <td>63784153.0</td>\n",
       "      <td>7081.0</td>\n",
       "      <td>10889.286</td>\n",
       "      <td>1327550.0</td>\n",
       "      <td>50.0</td>\n",
       "      <td>106.857</td>\n",
       "      <td>NaN</td>\n",
       "      <td>NaN</td>\n",
       "      <td>...</td>\n",
       "      <td>NaN</td>\n",
       "      <td>NaN</td>\n",
       "      <td>NaN</td>\n",
       "      <td>NaN</td>\n",
       "      <td>NaN</td>\n",
       "      <td>NaN</td>\n",
       "      <td>NaN</td>\n",
       "      <td>NaN</td>\n",
       "      <td>NaN</td>\n",
       "      <td>NaN</td>\n",
       "    </tr>\n",
       "    <tr>\n",
       "      <th>220</th>\n",
       "      <td>NaN</td>\n",
       "      <td>Upper middle income</td>\n",
       "      <td>137057783.0</td>\n",
       "      <td>73690.0</td>\n",
       "      <td>83307.571</td>\n",
       "      <td>2487566.0</td>\n",
       "      <td>188.0</td>\n",
       "      <td>288.571</td>\n",
       "      <td>NaN</td>\n",
       "      <td>NaN</td>\n",
       "      <td>...</td>\n",
       "      <td>NaN</td>\n",
       "      <td>NaN</td>\n",
       "      <td>NaN</td>\n",
       "      <td>NaN</td>\n",
       "      <td>NaN</td>\n",
       "      <td>NaN</td>\n",
       "      <td>NaN</td>\n",
       "      <td>NaN</td>\n",
       "      <td>NaN</td>\n",
       "      <td>NaN</td>\n",
       "    </tr>\n",
       "    <tr>\n",
       "      <th>228</th>\n",
       "      <td>NaN</td>\n",
       "      <td>World</td>\n",
       "      <td>611874843.0</td>\n",
       "      <td>253509.0</td>\n",
       "      <td>484392.714</td>\n",
       "      <td>6525950.0</td>\n",
       "      <td>531.0</td>\n",
       "      <td>1659.714</td>\n",
       "      <td>0.91</td>\n",
       "      <td>NaN</td>\n",
       "      <td>...</td>\n",
       "      <td>5.355</td>\n",
       "      <td>15469.207</td>\n",
       "      <td>10.0</td>\n",
       "      <td>233.07</td>\n",
       "      <td>8.51</td>\n",
       "      <td>6.434</td>\n",
       "      <td>34.635</td>\n",
       "      <td>60.13</td>\n",
       "      <td>2.705</td>\n",
       "      <td>72.58</td>\n",
       "    </tr>\n",
       "  </tbody>\n",
       "</table>\n",
       "<p>13 rows × 31 columns</p>\n",
       "</div>"
      ],
      "text/plain": [
       "    continent             location  total_cases  new_cases  \\\n",
       "1         NaN               Africa   12345472.0      162.0   \n",
       "11        NaN                 Asia  183584372.0   153084.0   \n",
       "68        NaN               Europe  226411359.0    84222.0   \n",
       "69        NaN       European Union  165823982.0    25802.0   \n",
       "90        NaN          High income  376701181.0   166684.0   \n",
       "97        NaN        International        721.0        0.0   \n",
       "122       NaN           Low income    2240445.0      221.0   \n",
       "123       NaN  Lower middle income   95845987.0    12914.0   \n",
       "154       NaN        North America  113451564.0     7792.0   \n",
       "158       NaN              Oceania   12297202.0     1168.0   \n",
       "193       NaN        South America   63784153.0     7081.0   \n",
       "220       NaN  Upper middle income  137057783.0    73690.0   \n",
       "228       NaN                World  611874843.0   253509.0   \n",
       "\n",
       "     new_cases_smoothed  total_deaths  new_deaths  new_deaths_smoothed  \\\n",
       "1              1161.857      256668.0         1.0                5.143   \n",
       "11           211258.143     1480906.0       282.0              413.143   \n",
       "68           185184.571     1935189.0       165.0              561.857   \n",
       "69           118383.714     1144121.0        56.0              412.429   \n",
       "90           381390.571     2657816.0       256.0             1246.714   \n",
       "97                0.000          15.0         0.0                0.000   \n",
       "122             435.143       47582.0         2.0                1.714   \n",
       "123           19242.286     1332904.0        85.0              122.714   \n",
       "154           69643.429     1506109.0        29.0              523.286   \n",
       "158            6255.429       19513.0         4.0               49.429   \n",
       "193           10889.286     1327550.0        50.0              106.857   \n",
       "220           83307.571     2487566.0       188.0              288.571   \n",
       "228          484392.714     6525950.0       531.0             1659.714   \n",
       "\n",
       "     reproduction_rate  icu_patients  ...  aged_70_older  gdp_per_capita  \\\n",
       "1                  NaN           NaN  ...            NaN             NaN   \n",
       "11                 NaN           NaN  ...            NaN             NaN   \n",
       "68                 NaN           NaN  ...            NaN             NaN   \n",
       "69                 NaN           NaN  ...            NaN             NaN   \n",
       "90                 NaN           NaN  ...            NaN             NaN   \n",
       "97                 NaN           NaN  ...            NaN             NaN   \n",
       "122                NaN           NaN  ...            NaN             NaN   \n",
       "123                NaN           NaN  ...            NaN             NaN   \n",
       "154                NaN           NaN  ...            NaN             NaN   \n",
       "158                NaN           NaN  ...            NaN             NaN   \n",
       "193                NaN           NaN  ...            NaN             NaN   \n",
       "220                NaN           NaN  ...            NaN             NaN   \n",
       "228               0.91           NaN  ...          5.355       15469.207   \n",
       "\n",
       "     extreme_poverty  cardiovasc_death_rate  diabetes_prevalence  \\\n",
       "1                NaN                    NaN                  NaN   \n",
       "11               NaN                    NaN                  NaN   \n",
       "68               NaN                    NaN                  NaN   \n",
       "69               NaN                    NaN                  NaN   \n",
       "90               NaN                    NaN                  NaN   \n",
       "97               NaN                    NaN                  NaN   \n",
       "122              NaN                    NaN                  NaN   \n",
       "123              NaN                    NaN                  NaN   \n",
       "154              NaN                    NaN                  NaN   \n",
       "158              NaN                    NaN                  NaN   \n",
       "193              NaN                    NaN                  NaN   \n",
       "220              NaN                    NaN                  NaN   \n",
       "228             10.0                 233.07                 8.51   \n",
       "\n",
       "     female_smokers  male_smokers  handwashing_facilities  \\\n",
       "1               NaN           NaN                     NaN   \n",
       "11              NaN           NaN                     NaN   \n",
       "68              NaN           NaN                     NaN   \n",
       "69              NaN           NaN                     NaN   \n",
       "90              NaN           NaN                     NaN   \n",
       "97              NaN           NaN                     NaN   \n",
       "122             NaN           NaN                     NaN   \n",
       "123             NaN           NaN                     NaN   \n",
       "154             NaN           NaN                     NaN   \n",
       "158             NaN           NaN                     NaN   \n",
       "193             NaN           NaN                     NaN   \n",
       "220             NaN           NaN                     NaN   \n",
       "228           6.434        34.635                   60.13   \n",
       "\n",
       "     hospital_beds_per_thousand  life_expectancy  \n",
       "1                           NaN              NaN  \n",
       "11                          NaN              NaN  \n",
       "68                          NaN              NaN  \n",
       "69                          NaN              NaN  \n",
       "90                          NaN              NaN  \n",
       "97                          NaN              NaN  \n",
       "122                         NaN              NaN  \n",
       "123                         NaN              NaN  \n",
       "154                         NaN              NaN  \n",
       "158                         NaN              NaN  \n",
       "193                         NaN              NaN  \n",
       "220                         NaN              NaN  \n",
       "228                       2.705            72.58  \n",
       "\n",
       "[13 rows x 31 columns]"
      ]
     },
     "execution_count": 50,
     "metadata": {},
     "output_type": "execute_result"
    }
   ],
   "source": [
    "df1=df[df['continent'].isna()]\n",
    "df1\n",
    "#by comparing the two columns 'continent' and 'location' we can see few rows are completely irrelevant for example 'High income' can't be location also by looking at 'Africa' in 'location' we can interprete continent to be 'Africa' but not the place to compare. So it's better to drop these 13 rows"
   ]
  },
  {
   "cell_type": "markdown",
   "metadata": {},
   "source": []
  },
  {
   "cell_type": "code",
   "execution_count": 51,
   "metadata": {},
   "outputs": [
    {
     "name": "stdout",
     "output_type": "stream",
     "text": [
      "(219, 31)\n"
     ]
    }
   ],
   "source": [
    "df_new=df.drop(df1.index) #creating new modified dataset\n",
    "print(df_new.shape)\n"
   ]
  },
  {
   "cell_type": "code",
   "execution_count": 52,
   "metadata": {},
   "outputs": [
    {
     "data": {
      "text/plain": [
       "continent                       0\n",
       "location                        0\n",
       "total_cases                     1\n",
       "new_cases                       1\n",
       "new_cases_smoothed              1\n",
       "total_deaths                    5\n",
       "new_deaths                      5\n",
       "new_deaths_smoothed             5\n",
       "reproduction_rate              26\n",
       "icu_patients                  187\n",
       "hosp_patients                 189\n",
       "total_vaccinations            129\n",
       "people_vaccinated             129\n",
       "people_fully_vaccinated       129\n",
       "total_boosters                138\n",
       "new_vaccinations              165\n",
       "new_vaccinations_smoothed     129\n",
       "population                      0\n",
       "population_density             13\n",
       "median_age                     29\n",
       "aged_65_older                  31\n",
       "aged_70_older                  30\n",
       "gdp_per_capita                 27\n",
       "extreme_poverty                94\n",
       "cardiovasc_death_rate          30\n",
       "diabetes_prevalence            18\n",
       "female_smokers                 73\n",
       "male_smokers                   75\n",
       "handwashing_facilities        125\n",
       "hospital_beds_per_thousand     48\n",
       "life_expectancy                 2\n",
       "dtype: int64"
      ]
     },
     "execution_count": 52,
     "metadata": {},
     "output_type": "execute_result"
    }
   ],
   "source": [
    "df_new.isnull().sum() #checking for existence of any more missing values"
   ]
  },
  {
   "cell_type": "code",
   "execution_count": 53,
   "metadata": {},
   "outputs": [],
   "source": [
    "df_new.fillna(0,inplace=True) #replacing missing values by 0"
   ]
  },
  {
   "cell_type": "code",
   "execution_count": 54,
   "metadata": {},
   "outputs": [
    {
     "name": "stdout",
     "output_type": "stream",
     "text": [
      "<class 'pandas.core.frame.DataFrame'>\n",
      "Int64Index: 219 entries, 0 to 231\n",
      "Data columns (total 31 columns):\n",
      " #   Column                      Non-Null Count  Dtype  \n",
      "---  ------                      --------------  -----  \n",
      " 0   continent                   219 non-null    object \n",
      " 1   location                    219 non-null    object \n",
      " 2   total_cases                 219 non-null    float64\n",
      " 3   new_cases                   219 non-null    float64\n",
      " 4   new_cases_smoothed          219 non-null    float64\n",
      " 5   total_deaths                219 non-null    float64\n",
      " 6   new_deaths                  219 non-null    float64\n",
      " 7   new_deaths_smoothed         219 non-null    float64\n",
      " 8   reproduction_rate           219 non-null    float64\n",
      " 9   icu_patients                219 non-null    float64\n",
      " 10  hosp_patients               219 non-null    float64\n",
      " 11  total_vaccinations          219 non-null    float64\n",
      " 12  people_vaccinated           219 non-null    float64\n",
      " 13  people_fully_vaccinated     219 non-null    float64\n",
      " 14  total_boosters              219 non-null    float64\n",
      " 15  new_vaccinations            219 non-null    float64\n",
      " 16  new_vaccinations_smoothed   219 non-null    float64\n",
      " 17  population                  219 non-null    float64\n",
      " 18  population_density          219 non-null    float64\n",
      " 19  median_age                  219 non-null    float64\n",
      " 20  aged_65_older               219 non-null    float64\n",
      " 21  aged_70_older               219 non-null    float64\n",
      " 22  gdp_per_capita              219 non-null    float64\n",
      " 23  extreme_poverty             219 non-null    float64\n",
      " 24  cardiovasc_death_rate       219 non-null    float64\n",
      " 25  diabetes_prevalence         219 non-null    float64\n",
      " 26  female_smokers              219 non-null    float64\n",
      " 27  male_smokers                219 non-null    float64\n",
      " 28  handwashing_facilities      219 non-null    float64\n",
      " 29  hospital_beds_per_thousand  219 non-null    float64\n",
      " 30  life_expectancy             219 non-null    float64\n",
      "dtypes: float64(29), object(2)\n",
      "memory usage: 54.8+ KB\n"
     ]
    }
   ],
   "source": [
    "df_new.info() #checking for types of the variables"
   ]
  },
  {
   "cell_type": "code",
   "execution_count": 55,
   "metadata": {},
   "outputs": [
    {
     "data": {
      "text/plain": [
       "Index(['continent', 'location', 'total_cases', 'new_cases',\n",
       "       'new_cases_smoothed', 'total_deaths', 'new_deaths',\n",
       "       'new_deaths_smoothed', 'reproduction_rate', 'icu_patients',\n",
       "       'hosp_patients', 'total_vaccinations', 'people_vaccinated',\n",
       "       'people_fully_vaccinated', 'total_boosters', 'new_vaccinations',\n",
       "       'new_vaccinations_smoothed', 'population', 'population_density',\n",
       "       'median_age', 'aged_65_older', 'aged_70_older', 'gdp_per_capita',\n",
       "       'extreme_poverty', 'cardiovasc_death_rate', 'diabetes_prevalence',\n",
       "       'female_smokers', 'male_smokers', 'handwashing_facilities',\n",
       "       'hospital_beds_per_thousand', 'life_expectancy'],\n",
       "      dtype='object')"
      ]
     },
     "execution_count": 55,
     "metadata": {},
     "output_type": "execute_result"
    }
   ],
   "source": [
    "df_new.columns #column names of our new dataframe"
   ]
  },
  {
   "cell_type": "code",
   "execution_count": 56,
   "metadata": {},
   "outputs": [],
   "source": [
    "#modifying new dataframe\n",
    "df_new['senior_citizen(>65)']=df['aged_65_older']+df['aged_70_older']\n",
    "df_new['hospital_beds']=df_new['hospital_beds_per_thousand']*1000\n",
    "df_new.drop(['aged_65_older', 'aged_70_older', 'hospital_beds_per_thousand'],axis=1,inplace=True)"
   ]
  },
  {
   "cell_type": "code",
   "execution_count": 57,
   "metadata": {},
   "outputs": [],
   "source": [
    "#renaming column\n",
    "df_new=df_new.rename(columns={'location': 'country'})"
   ]
  },
  {
   "cell_type": "code",
   "execution_count": 58,
   "metadata": {},
   "outputs": [
    {
     "data": {
      "text/html": [
       "<div>\n",
       "<style scoped>\n",
       "    .dataframe tbody tr th:only-of-type {\n",
       "        vertical-align: middle;\n",
       "    }\n",
       "\n",
       "    .dataframe tbody tr th {\n",
       "        vertical-align: top;\n",
       "    }\n",
       "\n",
       "    .dataframe thead th {\n",
       "        text-align: right;\n",
       "    }\n",
       "</style>\n",
       "<table border=\"1\" class=\"dataframe\">\n",
       "  <thead>\n",
       "    <tr style=\"text-align: right;\">\n",
       "      <th></th>\n",
       "      <th>continent</th>\n",
       "      <th>country</th>\n",
       "      <th>total_cases</th>\n",
       "      <th>new_cases</th>\n",
       "      <th>new_cases_smoothed</th>\n",
       "      <th>total_deaths</th>\n",
       "      <th>new_deaths</th>\n",
       "      <th>new_deaths_smoothed</th>\n",
       "      <th>reproduction_rate</th>\n",
       "      <th>icu_patients</th>\n",
       "      <th>...</th>\n",
       "      <th>gdp_per_capita</th>\n",
       "      <th>extreme_poverty</th>\n",
       "      <th>cardiovasc_death_rate</th>\n",
       "      <th>diabetes_prevalence</th>\n",
       "      <th>female_smokers</th>\n",
       "      <th>male_smokers</th>\n",
       "      <th>handwashing_facilities</th>\n",
       "      <th>life_expectancy</th>\n",
       "      <th>senior_citizen(&gt;65)</th>\n",
       "      <th>hospital_beds</th>\n",
       "    </tr>\n",
       "  </thead>\n",
       "  <tbody>\n",
       "    <tr>\n",
       "      <th>0</th>\n",
       "      <td>Asia</td>\n",
       "      <td>Afghanistan</td>\n",
       "      <td>197240.0</td>\n",
       "      <td>174.0</td>\n",
       "      <td>187.857</td>\n",
       "      <td>7795.0</td>\n",
       "      <td>1.0</td>\n",
       "      <td>1.143</td>\n",
       "      <td>1.06</td>\n",
       "      <td>0.0</td>\n",
       "      <td>...</td>\n",
       "      <td>1803.987</td>\n",
       "      <td>0.0</td>\n",
       "      <td>597.029</td>\n",
       "      <td>9.59</td>\n",
       "      <td>0.0</td>\n",
       "      <td>0.0</td>\n",
       "      <td>37.746</td>\n",
       "      <td>64.83</td>\n",
       "      <td>3.918</td>\n",
       "      <td>500.0</td>\n",
       "    </tr>\n",
       "    <tr>\n",
       "      <th>1</th>\n",
       "      <td>Europe</td>\n",
       "      <td>Albania</td>\n",
       "      <td>331583.0</td>\n",
       "      <td>43.0</td>\n",
       "      <td>78.143</td>\n",
       "      <td>3586.0</td>\n",
       "      <td>0.0</td>\n",
       "      <td>0.286</td>\n",
       "      <td>0.59</td>\n",
       "      <td>0.0</td>\n",
       "      <td>...</td>\n",
       "      <td>11803.431</td>\n",
       "      <td>1.1</td>\n",
       "      <td>304.195</td>\n",
       "      <td>10.08</td>\n",
       "      <td>7.1</td>\n",
       "      <td>51.2</td>\n",
       "      <td>0.000</td>\n",
       "      <td>78.57</td>\n",
       "      <td>21.831</td>\n",
       "      <td>2890.0</td>\n",
       "    </tr>\n",
       "    <tr>\n",
       "      <th>2</th>\n",
       "      <td>Africa</td>\n",
       "      <td>Algeria</td>\n",
       "      <td>270609.0</td>\n",
       "      <td>3.0</td>\n",
       "      <td>10.000</td>\n",
       "      <td>6879.0</td>\n",
       "      <td>0.0</td>\n",
       "      <td>0.000</td>\n",
       "      <td>0.48</td>\n",
       "      <td>3.0</td>\n",
       "      <td>...</td>\n",
       "      <td>13913.839</td>\n",
       "      <td>0.5</td>\n",
       "      <td>278.364</td>\n",
       "      <td>6.73</td>\n",
       "      <td>0.7</td>\n",
       "      <td>30.4</td>\n",
       "      <td>83.741</td>\n",
       "      <td>76.88</td>\n",
       "      <td>10.068</td>\n",
       "      <td>1900.0</td>\n",
       "    </tr>\n",
       "    <tr>\n",
       "      <th>3</th>\n",
       "      <td>Europe</td>\n",
       "      <td>Andorra</td>\n",
       "      <td>46147.0</td>\n",
       "      <td>0.0</td>\n",
       "      <td>4.857</td>\n",
       "      <td>155.0</td>\n",
       "      <td>0.0</td>\n",
       "      <td>0.000</td>\n",
       "      <td>0.63</td>\n",
       "      <td>0.0</td>\n",
       "      <td>...</td>\n",
       "      <td>0.000</td>\n",
       "      <td>0.0</td>\n",
       "      <td>109.135</td>\n",
       "      <td>7.97</td>\n",
       "      <td>29.0</td>\n",
       "      <td>37.8</td>\n",
       "      <td>0.000</td>\n",
       "      <td>83.73</td>\n",
       "      <td>NaN</td>\n",
       "      <td>0.0</td>\n",
       "    </tr>\n",
       "    <tr>\n",
       "      <th>4</th>\n",
       "      <td>Africa</td>\n",
       "      <td>Angola</td>\n",
       "      <td>103131.0</td>\n",
       "      <td>0.0</td>\n",
       "      <td>0.000</td>\n",
       "      <td>1917.0</td>\n",
       "      <td>0.0</td>\n",
       "      <td>0.000</td>\n",
       "      <td>0.02</td>\n",
       "      <td>0.0</td>\n",
       "      <td>...</td>\n",
       "      <td>5819.495</td>\n",
       "      <td>0.0</td>\n",
       "      <td>276.045</td>\n",
       "      <td>3.94</td>\n",
       "      <td>0.0</td>\n",
       "      <td>0.0</td>\n",
       "      <td>26.664</td>\n",
       "      <td>61.15</td>\n",
       "      <td>3.767</td>\n",
       "      <td>0.0</td>\n",
       "    </tr>\n",
       "  </tbody>\n",
       "</table>\n",
       "<p>5 rows × 30 columns</p>\n",
       "</div>"
      ],
      "text/plain": [
       "  continent      country  total_cases  new_cases  new_cases_smoothed  \\\n",
       "0      Asia  Afghanistan     197240.0      174.0             187.857   \n",
       "1    Europe      Albania     331583.0       43.0              78.143   \n",
       "2    Africa      Algeria     270609.0        3.0              10.000   \n",
       "3    Europe      Andorra      46147.0        0.0               4.857   \n",
       "4    Africa       Angola     103131.0        0.0               0.000   \n",
       "\n",
       "   total_deaths  new_deaths  new_deaths_smoothed  reproduction_rate  \\\n",
       "0        7795.0         1.0                1.143               1.06   \n",
       "1        3586.0         0.0                0.286               0.59   \n",
       "2        6879.0         0.0                0.000               0.48   \n",
       "3         155.0         0.0                0.000               0.63   \n",
       "4        1917.0         0.0                0.000               0.02   \n",
       "\n",
       "   icu_patients  ...  gdp_per_capita  extreme_poverty  cardiovasc_death_rate  \\\n",
       "0           0.0  ...        1803.987              0.0                597.029   \n",
       "1           0.0  ...       11803.431              1.1                304.195   \n",
       "2           3.0  ...       13913.839              0.5                278.364   \n",
       "3           0.0  ...           0.000              0.0                109.135   \n",
       "4           0.0  ...        5819.495              0.0                276.045   \n",
       "\n",
       "   diabetes_prevalence  female_smokers  male_smokers  handwashing_facilities  \\\n",
       "0                 9.59             0.0           0.0                  37.746   \n",
       "1                10.08             7.1          51.2                   0.000   \n",
       "2                 6.73             0.7          30.4                  83.741   \n",
       "3                 7.97            29.0          37.8                   0.000   \n",
       "4                 3.94             0.0           0.0                  26.664   \n",
       "\n",
       "   life_expectancy  senior_citizen(>65)  hospital_beds  \n",
       "0            64.83                3.918          500.0  \n",
       "1            78.57               21.831         2890.0  \n",
       "2            76.88               10.068         1900.0  \n",
       "3            83.73                  NaN            0.0  \n",
       "4            61.15                3.767            0.0  \n",
       "\n",
       "[5 rows x 30 columns]"
      ]
     },
     "execution_count": 58,
     "metadata": {},
     "output_type": "execute_result"
    }
   ],
   "source": [
    "#resetting index\n",
    "df_new=df_new.reset_index(drop=True)\n",
    "df_new.head()\n"
   ]
  },
  {
   "cell_type": "markdown",
   "metadata": {},
   "source": [
    "So, now our data looks good with no null value. And our data has 2 categorical, 28 numerical variable. Let's proceed our work further."
   ]
  },
  {
   "cell_type": "code",
   "execution_count": 59,
   "metadata": {},
   "outputs": [],
   "source": [
    "\n",
    "df_new.to_excel(r'C:\\Users\\user\\Downloads\\covid_19.xlsx',index= False) \n",
    "#converted the dataset to excel file to make dashboard using different platform"
   ]
  },
  {
   "cell_type": "markdown",
   "metadata": {},
   "source": [
    "# Summary Statistics"
   ]
  },
  {
   "cell_type": "code",
   "execution_count": 60,
   "metadata": {},
   "outputs": [
    {
     "data": {
      "text/html": [
       "<div>\n",
       "<style scoped>\n",
       "    .dataframe tbody tr th:only-of-type {\n",
       "        vertical-align: middle;\n",
       "    }\n",
       "\n",
       "    .dataframe tbody tr th {\n",
       "        vertical-align: top;\n",
       "    }\n",
       "\n",
       "    .dataframe thead th {\n",
       "        text-align: right;\n",
       "    }\n",
       "</style>\n",
       "<table border=\"1\" class=\"dataframe\">\n",
       "  <thead>\n",
       "    <tr style=\"text-align: right;\">\n",
       "      <th></th>\n",
       "      <th>count</th>\n",
       "      <th>mean</th>\n",
       "      <th>std</th>\n",
       "      <th>min</th>\n",
       "      <th>25%</th>\n",
       "      <th>50%</th>\n",
       "      <th>75%</th>\n",
       "      <th>max</th>\n",
       "    </tr>\n",
       "  </thead>\n",
       "  <tbody>\n",
       "    <tr>\n",
       "      <th>total_cases</th>\n",
       "      <td>219.0</td>\n",
       "      <td>2.793946e+06</td>\n",
       "      <td>8.815068e+06</td>\n",
       "      <td>0.00</td>\n",
       "      <td>27417.5000</td>\n",
       "      <td>230219.000</td>\n",
       "      <td>1.271126e+06</td>\n",
       "      <td>9.565824e+07</td>\n",
       "    </tr>\n",
       "    <tr>\n",
       "      <th>new_cases</th>\n",
       "      <td>219.0</td>\n",
       "      <td>2.350256e+03</td>\n",
       "      <td>7.846169e+03</td>\n",
       "      <td>0.00</td>\n",
       "      <td>0.0000</td>\n",
       "      <td>14.000</td>\n",
       "      <td>6.830000e+02</td>\n",
       "      <td>6.400900e+04</td>\n",
       "    </tr>\n",
       "    <tr>\n",
       "      <th>new_cases_smoothed</th>\n",
       "      <td>219.0</td>\n",
       "      <td>2.278639e+03</td>\n",
       "      <td>9.225898e+03</td>\n",
       "      <td>0.00</td>\n",
       "      <td>2.0715</td>\n",
       "      <td>21.857</td>\n",
       "      <td>5.649285e+02</td>\n",
       "      <td>7.675543e+04</td>\n",
       "    </tr>\n",
       "    <tr>\n",
       "      <th>total_deaths</th>\n",
       "      <td>219.0</td>\n",
       "      <td>2.979879e+04</td>\n",
       "      <td>1.020218e+05</td>\n",
       "      <td>0.00</td>\n",
       "      <td>219.0000</td>\n",
       "      <td>2563.000</td>\n",
       "      <td>1.543550e+04</td>\n",
       "      <td>1.053419e+06</td>\n",
       "    </tr>\n",
       "    <tr>\n",
       "      <th>new_deaths</th>\n",
       "      <td>219.0</td>\n",
       "      <td>9.799087e+00</td>\n",
       "      <td>3.705730e+01</td>\n",
       "      <td>0.00</td>\n",
       "      <td>0.0000</td>\n",
       "      <td>0.000</td>\n",
       "      <td>2.000000e+00</td>\n",
       "      <td>4.460000e+02</td>\n",
       "    </tr>\n",
       "    <tr>\n",
       "      <th>new_deaths_smoothed</th>\n",
       "      <td>219.0</td>\n",
       "      <td>8.039799e+00</td>\n",
       "      <td>3.403763e+01</td>\n",
       "      <td>0.00</td>\n",
       "      <td>0.0000</td>\n",
       "      <td>0.143</td>\n",
       "      <td>2.286000e+00</td>\n",
       "      <td>4.272860e+02</td>\n",
       "    </tr>\n",
       "    <tr>\n",
       "      <th>reproduction_rate</th>\n",
       "      <td>219.0</td>\n",
       "      <td>6.188584e-01</td>\n",
       "      <td>4.632703e-01</td>\n",
       "      <td>-0.09</td>\n",
       "      <td>0.0850</td>\n",
       "      <td>0.650</td>\n",
       "      <td>9.900000e-01</td>\n",
       "      <td>1.780000e+00</td>\n",
       "    </tr>\n",
       "    <tr>\n",
       "      <th>icu_patients</th>\n",
       "      <td>219.0</td>\n",
       "      <td>3.368037e+01</td>\n",
       "      <td>2.419218e+02</td>\n",
       "      <td>0.00</td>\n",
       "      <td>0.0000</td>\n",
       "      <td>0.000</td>\n",
       "      <td>0.000000e+00</td>\n",
       "      <td>3.238000e+03</td>\n",
       "    </tr>\n",
       "    <tr>\n",
       "      <th>hosp_patients</th>\n",
       "      <td>219.0</td>\n",
       "      <td>4.221096e+02</td>\n",
       "      <td>2.579560e+03</td>\n",
       "      <td>0.00</td>\n",
       "      <td>0.0000</td>\n",
       "      <td>0.000</td>\n",
       "      <td>0.000000e+00</td>\n",
       "      <td>2.546800e+04</td>\n",
       "    </tr>\n",
       "    <tr>\n",
       "      <th>total_vaccinations</th>\n",
       "      <td>219.0</td>\n",
       "      <td>4.828720e+07</td>\n",
       "      <td>2.817016e+08</td>\n",
       "      <td>0.00</td>\n",
       "      <td>0.0000</td>\n",
       "      <td>0.000</td>\n",
       "      <td>8.394176e+06</td>\n",
       "      <td>3.435302e+09</td>\n",
       "    </tr>\n",
       "    <tr>\n",
       "      <th>people_vaccinated</th>\n",
       "      <td>219.0</td>\n",
       "      <td>2.002329e+07</td>\n",
       "      <td>1.152360e+08</td>\n",
       "      <td>0.00</td>\n",
       "      <td>0.0000</td>\n",
       "      <td>0.000</td>\n",
       "      <td>3.642121e+06</td>\n",
       "      <td>1.302773e+09</td>\n",
       "    </tr>\n",
       "    <tr>\n",
       "      <th>people_fully_vaccinated</th>\n",
       "      <td>219.0</td>\n",
       "      <td>1.869172e+07</td>\n",
       "      <td>1.096300e+08</td>\n",
       "      <td>0.00</td>\n",
       "      <td>0.0000</td>\n",
       "      <td>0.000</td>\n",
       "      <td>3.240104e+06</td>\n",
       "      <td>1.270656e+09</td>\n",
       "    </tr>\n",
       "    <tr>\n",
       "      <th>total_boosters</th>\n",
       "      <td>219.0</td>\n",
       "      <td>9.726716e+06</td>\n",
       "      <td>5.807921e+07</td>\n",
       "      <td>0.00</td>\n",
       "      <td>0.0000</td>\n",
       "      <td>0.000</td>\n",
       "      <td>9.712260e+05</td>\n",
       "      <td>8.057050e+08</td>\n",
       "    </tr>\n",
       "    <tr>\n",
       "      <th>new_vaccinations</th>\n",
       "      <td>219.0</td>\n",
       "      <td>1.177488e+04</td>\n",
       "      <td>1.101891e+05</td>\n",
       "      <td>0.00</td>\n",
       "      <td>0.0000</td>\n",
       "      <td>0.000</td>\n",
       "      <td>0.000000e+00</td>\n",
       "      <td>1.585702e+06</td>\n",
       "    </tr>\n",
       "    <tr>\n",
       "      <th>new_vaccinations_smoothed</th>\n",
       "      <td>219.0</td>\n",
       "      <td>1.814952e+04</td>\n",
       "      <td>1.554371e+05</td>\n",
       "      <td>0.00</td>\n",
       "      <td>0.0000</td>\n",
       "      <td>0.000</td>\n",
       "      <td>1.045000e+03</td>\n",
       "      <td>2.265750e+06</td>\n",
       "    </tr>\n",
       "    <tr>\n",
       "      <th>population</th>\n",
       "      <td>219.0</td>\n",
       "      <td>3.606580e+07</td>\n",
       "      <td>1.405583e+08</td>\n",
       "      <td>511.00</td>\n",
       "      <td>697229.0000</td>\n",
       "      <td>6527743.000</td>\n",
       "      <td>2.558691e+07</td>\n",
       "      <td>1.425893e+09</td>\n",
       "    </tr>\n",
       "    <tr>\n",
       "      <th>population_density</th>\n",
       "      <td>219.0</td>\n",
       "      <td>4.219858e+02</td>\n",
       "      <td>2.032945e+03</td>\n",
       "      <td>0.00</td>\n",
       "      <td>25.0845</td>\n",
       "      <td>81.721</td>\n",
       "      <td>2.089710e+02</td>\n",
       "      <td>2.054677e+04</td>\n",
       "    </tr>\n",
       "    <tr>\n",
       "      <th>median_age</th>\n",
       "      <td>219.0</td>\n",
       "      <td>2.632648e+01</td>\n",
       "      <td>1.335688e+01</td>\n",
       "      <td>0.00</td>\n",
       "      <td>19.1500</td>\n",
       "      <td>28.100</td>\n",
       "      <td>3.750000e+01</td>\n",
       "      <td>4.820000e+01</td>\n",
       "    </tr>\n",
       "    <tr>\n",
       "      <th>gdp_per_capita</th>\n",
       "      <td>219.0</td>\n",
       "      <td>1.668857e+04</td>\n",
       "      <td>2.019450e+04</td>\n",
       "      <td>0.00</td>\n",
       "      <td>2135.0795</td>\n",
       "      <td>8827.010</td>\n",
       "      <td>2.461438e+04</td>\n",
       "      <td>1.169356e+05</td>\n",
       "    </tr>\n",
       "    <tr>\n",
       "      <th>extreme_poverty</th>\n",
       "      <td>219.0</td>\n",
       "      <td>7.921918e+00</td>\n",
       "      <td>1.675289e+01</td>\n",
       "      <td>0.00</td>\n",
       "      <td>0.0000</td>\n",
       "      <td>0.200</td>\n",
       "      <td>3.800000e+00</td>\n",
       "      <td>7.760000e+01</td>\n",
       "    </tr>\n",
       "    <tr>\n",
       "      <th>cardiovasc_death_rate</th>\n",
       "      <td>219.0</td>\n",
       "      <td>2.276511e+02</td>\n",
       "      <td>1.446435e+02</td>\n",
       "      <td>0.00</td>\n",
       "      <td>128.3105</td>\n",
       "      <td>227.376</td>\n",
       "      <td>3.189700e+02</td>\n",
       "      <td>7.244170e+02</td>\n",
       "    </tr>\n",
       "    <tr>\n",
       "      <th>diabetes_prevalence</th>\n",
       "      <td>219.0</td>\n",
       "      <td>7.768402e+00</td>\n",
       "      <td>5.249885e+00</td>\n",
       "      <td>0.00</td>\n",
       "      <td>4.4850</td>\n",
       "      <td>7.110</td>\n",
       "      <td>1.041000e+01</td>\n",
       "      <td>3.053000e+01</td>\n",
       "    </tr>\n",
       "    <tr>\n",
       "      <th>female_smokers</th>\n",
       "      <td>219.0</td>\n",
       "      <td>7.213242e+00</td>\n",
       "      <td>1.021761e+01</td>\n",
       "      <td>0.00</td>\n",
       "      <td>0.0000</td>\n",
       "      <td>1.900</td>\n",
       "      <td>1.035000e+01</td>\n",
       "      <td>4.400000e+01</td>\n",
       "    </tr>\n",
       "    <tr>\n",
       "      <th>male_smokers</th>\n",
       "      <td>219.0</td>\n",
       "      <td>2.163151e+01</td>\n",
       "      <td>1.916717e+01</td>\n",
       "      <td>0.00</td>\n",
       "      <td>0.0000</td>\n",
       "      <td>21.400</td>\n",
       "      <td>3.705000e+01</td>\n",
       "      <td>7.810000e+01</td>\n",
       "    </tr>\n",
       "    <tr>\n",
       "      <th>handwashing_facilities</th>\n",
       "      <td>219.0</td>\n",
       "      <td>2.153242e+01</td>\n",
       "      <td>3.251812e+01</td>\n",
       "      <td>0.00</td>\n",
       "      <td>0.0000</td>\n",
       "      <td>0.000</td>\n",
       "      <td>3.939650e+01</td>\n",
       "      <td>9.899900e+01</td>\n",
       "    </tr>\n",
       "    <tr>\n",
       "      <th>life_expectancy</th>\n",
       "      <td>219.0</td>\n",
       "      <td>7.272689e+01</td>\n",
       "      <td>1.023256e+01</td>\n",
       "      <td>0.00</td>\n",
       "      <td>67.9300</td>\n",
       "      <td>74.620</td>\n",
       "      <td>7.887000e+01</td>\n",
       "      <td>8.675000e+01</td>\n",
       "    </tr>\n",
       "    <tr>\n",
       "      <th>senior_citizen(&gt;65)</th>\n",
       "      <td>187.0</td>\n",
       "      <td>1.403805e+01</td>\n",
       "      <td>1.025627e+01</td>\n",
       "      <td>1.67</td>\n",
       "      <td>5.5115</td>\n",
       "      <td>9.889</td>\n",
       "      <td>2.225750e+01</td>\n",
       "      <td>4.554200e+01</td>\n",
       "    </tr>\n",
       "    <tr>\n",
       "      <th>hospital_beds</th>\n",
       "      <td>219.0</td>\n",
       "      <td>2.400356e+03</td>\n",
       "      <td>2.586963e+03</td>\n",
       "      <td>0.00</td>\n",
       "      <td>450.0000</td>\n",
       "      <td>1700.000</td>\n",
       "      <td>3.450000e+03</td>\n",
       "      <td>1.380000e+04</td>\n",
       "    </tr>\n",
       "  </tbody>\n",
       "</table>\n",
       "</div>"
      ],
      "text/plain": [
       "                           count          mean           std     min  \\\n",
       "total_cases                219.0  2.793946e+06  8.815068e+06    0.00   \n",
       "new_cases                  219.0  2.350256e+03  7.846169e+03    0.00   \n",
       "new_cases_smoothed         219.0  2.278639e+03  9.225898e+03    0.00   \n",
       "total_deaths               219.0  2.979879e+04  1.020218e+05    0.00   \n",
       "new_deaths                 219.0  9.799087e+00  3.705730e+01    0.00   \n",
       "new_deaths_smoothed        219.0  8.039799e+00  3.403763e+01    0.00   \n",
       "reproduction_rate          219.0  6.188584e-01  4.632703e-01   -0.09   \n",
       "icu_patients               219.0  3.368037e+01  2.419218e+02    0.00   \n",
       "hosp_patients              219.0  4.221096e+02  2.579560e+03    0.00   \n",
       "total_vaccinations         219.0  4.828720e+07  2.817016e+08    0.00   \n",
       "people_vaccinated          219.0  2.002329e+07  1.152360e+08    0.00   \n",
       "people_fully_vaccinated    219.0  1.869172e+07  1.096300e+08    0.00   \n",
       "total_boosters             219.0  9.726716e+06  5.807921e+07    0.00   \n",
       "new_vaccinations           219.0  1.177488e+04  1.101891e+05    0.00   \n",
       "new_vaccinations_smoothed  219.0  1.814952e+04  1.554371e+05    0.00   \n",
       "population                 219.0  3.606580e+07  1.405583e+08  511.00   \n",
       "population_density         219.0  4.219858e+02  2.032945e+03    0.00   \n",
       "median_age                 219.0  2.632648e+01  1.335688e+01    0.00   \n",
       "gdp_per_capita             219.0  1.668857e+04  2.019450e+04    0.00   \n",
       "extreme_poverty            219.0  7.921918e+00  1.675289e+01    0.00   \n",
       "cardiovasc_death_rate      219.0  2.276511e+02  1.446435e+02    0.00   \n",
       "diabetes_prevalence        219.0  7.768402e+00  5.249885e+00    0.00   \n",
       "female_smokers             219.0  7.213242e+00  1.021761e+01    0.00   \n",
       "male_smokers               219.0  2.163151e+01  1.916717e+01    0.00   \n",
       "handwashing_facilities     219.0  2.153242e+01  3.251812e+01    0.00   \n",
       "life_expectancy            219.0  7.272689e+01  1.023256e+01    0.00   \n",
       "senior_citizen(>65)        187.0  1.403805e+01  1.025627e+01    1.67   \n",
       "hospital_beds              219.0  2.400356e+03  2.586963e+03    0.00   \n",
       "\n",
       "                                   25%          50%           75%  \\\n",
       "total_cases                 27417.5000   230219.000  1.271126e+06   \n",
       "new_cases                       0.0000       14.000  6.830000e+02   \n",
       "new_cases_smoothed              2.0715       21.857  5.649285e+02   \n",
       "total_deaths                  219.0000     2563.000  1.543550e+04   \n",
       "new_deaths                      0.0000        0.000  2.000000e+00   \n",
       "new_deaths_smoothed             0.0000        0.143  2.286000e+00   \n",
       "reproduction_rate               0.0850        0.650  9.900000e-01   \n",
       "icu_patients                    0.0000        0.000  0.000000e+00   \n",
       "hosp_patients                   0.0000        0.000  0.000000e+00   \n",
       "total_vaccinations              0.0000        0.000  8.394176e+06   \n",
       "people_vaccinated               0.0000        0.000  3.642121e+06   \n",
       "people_fully_vaccinated         0.0000        0.000  3.240104e+06   \n",
       "total_boosters                  0.0000        0.000  9.712260e+05   \n",
       "new_vaccinations                0.0000        0.000  0.000000e+00   \n",
       "new_vaccinations_smoothed       0.0000        0.000  1.045000e+03   \n",
       "population                 697229.0000  6527743.000  2.558691e+07   \n",
       "population_density             25.0845       81.721  2.089710e+02   \n",
       "median_age                     19.1500       28.100  3.750000e+01   \n",
       "gdp_per_capita               2135.0795     8827.010  2.461438e+04   \n",
       "extreme_poverty                 0.0000        0.200  3.800000e+00   \n",
       "cardiovasc_death_rate         128.3105      227.376  3.189700e+02   \n",
       "diabetes_prevalence             4.4850        7.110  1.041000e+01   \n",
       "female_smokers                  0.0000        1.900  1.035000e+01   \n",
       "male_smokers                    0.0000       21.400  3.705000e+01   \n",
       "handwashing_facilities          0.0000        0.000  3.939650e+01   \n",
       "life_expectancy                67.9300       74.620  7.887000e+01   \n",
       "senior_citizen(>65)             5.5115        9.889  2.225750e+01   \n",
       "hospital_beds                 450.0000     1700.000  3.450000e+03   \n",
       "\n",
       "                                    max  \n",
       "total_cases                9.565824e+07  \n",
       "new_cases                  6.400900e+04  \n",
       "new_cases_smoothed         7.675543e+04  \n",
       "total_deaths               1.053419e+06  \n",
       "new_deaths                 4.460000e+02  \n",
       "new_deaths_smoothed        4.272860e+02  \n",
       "reproduction_rate          1.780000e+00  \n",
       "icu_patients               3.238000e+03  \n",
       "hosp_patients              2.546800e+04  \n",
       "total_vaccinations         3.435302e+09  \n",
       "people_vaccinated          1.302773e+09  \n",
       "people_fully_vaccinated    1.270656e+09  \n",
       "total_boosters             8.057050e+08  \n",
       "new_vaccinations           1.585702e+06  \n",
       "new_vaccinations_smoothed  2.265750e+06  \n",
       "population                 1.425893e+09  \n",
       "population_density         2.054677e+04  \n",
       "median_age                 4.820000e+01  \n",
       "gdp_per_capita             1.169356e+05  \n",
       "extreme_poverty            7.760000e+01  \n",
       "cardiovasc_death_rate      7.244170e+02  \n",
       "diabetes_prevalence        3.053000e+01  \n",
       "female_smokers             4.400000e+01  \n",
       "male_smokers               7.810000e+01  \n",
       "handwashing_facilities     9.899900e+01  \n",
       "life_expectancy            8.675000e+01  \n",
       "senior_citizen(>65)        4.554200e+01  \n",
       "hospital_beds              1.380000e+04  "
      ]
     },
     "execution_count": 60,
     "metadata": {},
     "output_type": "execute_result"
    }
   ],
   "source": [
    "df_new.describe().transpose()"
   ]
  },
  {
   "cell_type": "markdown",
   "metadata": {},
   "source": [
    "### Covariance and correlation\n",
    "Covariance is  basically a measure of how much two random variables change together.\n",
    "The correlation coefficient is the specific measure that quantifies the strength of the linear relationship between two variable in a correlation analysis"
   ]
  },
  {
   "cell_type": "code",
   "execution_count": 61,
   "metadata": {},
   "outputs": [],
   "source": [
    "corr_df=df_new.copy()\n",
    "corr_df.drop(corr_df.columns[[4,7,9,12,13,14,15,16,18,21,29]],axis=1,inplace=True)"
   ]
  },
  {
   "cell_type": "markdown",
   "metadata": {},
   "source": [
    "As our dataset has many columns if we try to find correlation between all 28 variables it will be waste of time. Because few vaiables are si ilar type. So, we filtered our data before proceeding to correlation calculation"
   ]
  },
  {
   "cell_type": "code",
   "execution_count": 62,
   "metadata": {},
   "outputs": [
    {
     "data": {
      "text/plain": [
       "<AxesSubplot:>"
      ]
     },
     "execution_count": 62,
     "metadata": {},
     "output_type": "execute_result"
    },
    {
     "data": {
      "image/png": "[encoded data removed]",
      "text/plain": [
       "<Figure size 2160x720 with 2 Axes>"
      ]
     },
     "metadata": {
      "needs_background": "light"
     },
     "output_type": "display_data"
    }
   ],
   "source": [
    "\n",
    "mask=np.triu(np.ones_like(corr_df.corr(),dtype=bool))\n",
    "plt.figure(figsize=(30,10))\n",
    "sns.heatmap(corr_df.corr(),mask=mask,annot=True) #correlation matrix"
   ]
  },
  {
   "cell_type": "markdown",
   "metadata": {},
   "source": [
    "Here, we can see many variables are highly correlated for example 'population-total_vaccination' whereas few are highly uncorrelated ."
   ]
  },
  {
   "cell_type": "markdown",
   "metadata": {},
   "source": [
    "# Plotting"
   ]
  },
  {
   "cell_type": "code",
   "execution_count": 63,
   "metadata": {},
   "outputs": [
    {
     "data": {
      "application/vnd.plotly.v1+json": {
       "config": {
        "plotlyServerURL": "https://plot.ly"
       },
       "data": [
        {
         "hovertemplate": "continent=Asia<br>country=%{x}<br>new_cases=%{y}<extra></extra>",
         "legendgroup": "Asia",
         "marker": {
          "color": "#636efa",
          "symbol": "circle"
         },
         "mode": "markers",
         "name": "Asia",
         "orientation": "v",
         "showlegend": true,
         "type": "scatter",
         "x": [
          "Afghanistan",
          "Armenia",
          "Azerbaijan",
          "Bahrain",
          "Bangladesh",
          "Bhutan",
          "Brunei",
          "Cambodia",
          "China",
          "Georgia",
          "Hong Kong",
          "India",
          "Indonesia",
          "Iran",
          "Iraq",
          "Israel",
          "Japan",
          "Jordan",
          "Kazakhstan",
          "Kuwait",
          "Kyrgyzstan",
          "Laos",
          "Lebanon",
          "Macao",
          "Malaysia",
          "Maldives",
          "Mongolia",
          "Myanmar",
          "Nepal",
          "North Korea",
          "Oman",
          "Pakistan",
          "Palestine",
          "Philippines",
          "Qatar",
          "Saudi Arabia",
          "Singapore",
          "South Korea",
          "Sri Lanka",
          "Syria",
          "Taiwan",
          "Tajikistan",
          "Thailand",
          "Timor",
          "Turkey",
          "United Arab Emirates",
          "Uzbekistan",
          "Vietnam",
          "Yemen"
         ],
         "xaxis": "x",
         "y": [
          174,
          2575,
          180,
          353,
          527,
          186,
          1551,
          12,
          1153,
          26524,
          7322,
          4858,
          1683,
          289,
          0,
          967,
          64009,
          2776,
          314,
          0,
          0,
          57,
          180,
          0,
          1639,
          0,
          345,
          234,
          25,
          0,
          0,
          162,
          177,
          2364,
          865,
          98,
          1528,
          19407,
          13,
          9,
          39511,
          0,
          242,
          0,
          22441,
          422,
          0,
          1891,
          0
         ],
         "yaxis": "y"
        },
        {
         "hovertemplate": "continent=Europe<br>country=%{x}<br>new_cases=%{y}<extra></extra>",
         "legendgroup": "Europe",
         "marker": {
          "color": "#EF553B",
          "symbol": "circle"
         },
         "mode": "markers",
         "name": "Europe",
         "orientation": "v",
         "showlegend": true,
         "type": "scatter",
         "x": [
          "Albania",
          "Andorra",
          "Austria",
          "Belarus",
          "Belgium",
          "Bosnia and Herzegovina",
          "Bulgaria",
          "Croatia",
          "Cyprus",
          "Czechia",
          "Denmark",
          "Estonia",
          "Faeroe Islands",
          "Finland",
          "France",
          "Germany",
          "Gibraltar",
          "Greece",
          "Hungary",
          "Iceland",
          "Ireland",
          "Isle of Man",
          "Italy",
          "Jersey",
          "Kosovo",
          "Latvia",
          "Liechtenstein",
          "Lithuania",
          "Luxembourg",
          "Malta",
          "Moldova",
          "Monaco",
          "Montenegro",
          "Netherlands",
          "North Macedonia",
          "Norway",
          "Poland",
          "Portugal",
          "Romania",
          "Russia",
          "San Marino",
          "Serbia",
          "Slovakia",
          "Slovenia",
          "Spain",
          "Sweden",
          "Switzerland",
          "Ukraine",
          "United Kingdom",
          "Vatican"
         ],
         "xaxis": "x2",
         "y": [
          43,
          0,
          10213,
          0,
          7484,
          144,
          140,
          471,
          2482,
          302,
          744,
          960,
          0,
          5957,
          28686,
          0,
          0,
          33829,
          11596,
          275,
          1601,
          0,
          12081,
          0,
          7,
          1369,
          0,
          125,
          0,
          19,
          4073,
          0,
          134,
          4308,
          0,
          25,
          675,
          2777,
          719,
          56148,
          0,
          1460,
          293,
          764,
          10760,
          4973,
          13816,
          603,
          30786,
          0
         ],
         "yaxis": "y2"
        },
        {
         "hovertemplate": "continent=Africa<br>country=%{x}<br>new_cases=%{y}<extra></extra>",
         "legendgroup": "Africa",
         "marker": {
          "color": "#00cc96",
          "symbol": "circle"
         },
         "mode": "markers",
         "name": "Africa",
         "orientation": "v",
         "showlegend": true,
         "type": "scatter",
         "x": [
          "Algeria",
          "Angola",
          "Benin",
          "Botswana",
          "Burkina Faso",
          "Burundi",
          "Cameroon",
          "Cape Verde",
          "Central African Republic",
          "Chad",
          "Comoros",
          "Congo",
          "Cote d'Ivoire",
          "Democratic Republic of Congo",
          "Djibouti",
          "Egypt",
          "Equatorial Guinea",
          "Eritrea",
          "Eswatini",
          "Ethiopia",
          "Gabon",
          "Gambia",
          "Ghana",
          "Guinea",
          "Guinea-Bissau",
          "Kenya",
          "Lesotho",
          "Liberia",
          "Libya",
          "Madagascar",
          "Malawi",
          "Mali",
          "Mauritania",
          "Mauritius",
          "Morocco",
          "Mozambique",
          "Namibia",
          "Niger",
          "Nigeria",
          "Rwanda",
          "Saint Helena",
          "Sao Tome and Principe",
          "Senegal",
          "Seychelles",
          "Sierra Leone",
          "Somalia",
          "South Africa",
          "South Sudan",
          "Sudan",
          "Tanzania",
          "Togo",
          "Tunisia",
          "Uganda",
          "Zambia",
          "Zimbabwe"
         ],
         "xaxis": "x3",
         "y": [
          3,
          0,
          148,
          196,
          0,
          512,
          0,
          2,
          0,
          0,
          0,
          0,
          22,
          0,
          0,
          0,
          0,
          0,
          5,
          1,
          14,
          197,
          0,
          0,
          0,
          9,
          203,
          0,
          4,
          8,
          8,
          11,
          2,
          1217,
          17,
          0,
          0,
          0,
          189,
          3,
          0,
          0,
          38,
          183,
          0,
          177,
          254,
          0,
          0,
          0,
          0,
          339,
          0,
          7,
          8
         ],
         "yaxis": "y3"
        },
        {
         "hovertemplate": "continent=North America<br>country=%{x}<br>new_cases=%{y}<extra></extra>",
         "legendgroup": "North America",
         "marker": {
          "color": "#ab63fa",
          "symbol": "circle"
         },
         "mode": "markers",
         "name": "North America",
         "orientation": "v",
         "showlegend": true,
         "type": "scatter",
         "x": [
          "Anguilla",
          "Antigua and Barbuda",
          "Aruba",
          "Bahamas",
          "Barbados",
          "Belize",
          "Bermuda",
          "Bonaire Sint Eustatius and Saba",
          "British Virgin Islands",
          "Canada",
          "Cayman Islands",
          "Costa Rica",
          "Cuba",
          "Curacao",
          "Dominica",
          "Dominican Republic",
          "El Salvador",
          "Greenland",
          "Grenada",
          "Guatemala",
          "Haiti",
          "Honduras",
          "Jamaica",
          "Mexico",
          "Montserrat",
          "Nicaragua",
          "Panama",
          "Saint Kitts and Nevis",
          "Saint Lucia",
          "Saint Pierre and Miquelon",
          "Saint Vincent and the Grenadines",
          "Trinidad and Tobago",
          "Turks and Caicos Islands",
          "United States"
         ],
         "xaxis": "x4",
         "y": [
          0,
          0,
          0,
          0,
          74,
          0,
          0,
          0,
          0,
          460,
          165,
          7413,
          20,
          0,
          0,
          2339,
          0,
          0,
          0,
          38,
          0,
          167,
          48,
          9828,
          0,
          0,
          2412,
          0,
          0,
          0,
          0,
          103,
          0,
          4710
         ],
         "yaxis": "y4"
        },
        {
         "hovertemplate": "continent=South America<br>country=%{x}<br>new_cases=%{y}<extra></extra>",
         "legendgroup": "South America",
         "marker": {
          "color": "#FFA15A",
          "symbol": "circle"
         },
         "mode": "markers",
         "name": "South America",
         "orientation": "v",
         "showlegend": true,
         "type": "scatter",
         "x": [
          "Argentina",
          "Bolivia",
          "Brazil",
          "Chile",
          "Colombia",
          "Ecuador",
          "Falkland Islands",
          "Guyana",
          "Paraguay",
          "Peru",
          "Suriname",
          "Uruguay",
          "Venezuela"
         ],
         "xaxis": "x5",
         "y": [
          6175,
          90,
          9931,
          1947,
          1245,
          2012,
          0,
          5,
          203,
          691,
          0,
          1660,
          120
         ],
         "yaxis": "y5"
        },
        {
         "hovertemplate": "continent=Oceania<br>country=%{x}<br>new_cases=%{y}<extra></extra>",
         "legendgroup": "Oceania",
         "marker": {
          "color": "#19d3f3",
          "symbol": "circle"
         },
         "mode": "markers",
         "name": "Oceania",
         "orientation": "v",
         "showlegend": true,
         "type": "scatter",
         "x": [
          "Australia",
          "Cook Islands",
          "Fiji",
          "French Polynesia",
          "Kiribati",
          "Marshall Islands",
          "Micronesia (country)",
          "Nauru",
          "New Caledonia",
          "New Zealand",
          "Palau",
          "Papua New Guinea",
          "Samoa",
          "Solomon Islands",
          "Tonga",
          "Tuvalu",
          "Vanuatu",
          "Wallis and Futuna"
         ],
         "xaxis": "x6",
         "y": [
          1168,
          0,
          0,
          0,
          0,
          0,
          0,
          0,
          0,
          0,
          0,
          0,
          0,
          0,
          0,
          0,
          0,
          0
         ],
         "yaxis": "y6"
        }
       ],
       "layout": {
        "annotations": [
         {
          "font": {},
          "showarrow": false,
          "text": "continent=Asia",
          "x": 0.075,
          "xanchor": "center",
          "xref": "paper",
          "y": 1,
          "yanchor": "bottom",
          "yref": "paper"
         },
         {
          "font": {},
          "showarrow": false,
          "text": "continent=Europe",
          "x": 0.24499999999999997,
          "xanchor": "center",
          "xref": "paper",
          "y": 1,
          "yanchor": "bottom",
          "yref": "paper"
         },
         {
          "font": {},
          "showarrow": false,
          "text": "continent=Africa",
          "x": 0.415,
          "xanchor": "center",
          "xref": "paper",
          "y": 1,
          "yanchor": "bottom",
          "yref": "paper"
         },
         {
          "font": {},
          "showarrow": false,
          "text": "continent=North America",
          "x": 0.585,
          "xanchor": "center",
          "xref": "paper",
          "y": 1,
          "yanchor": "bottom",
          "yref": "paper"
         },
         {
          "font": {},
          "showarrow": false,
          "text": "continent=South America",
          "x": 0.7549999999999999,
          "xanchor": "center",
          "xref": "paper",
          "y": 1,
          "yanchor": "bottom",
          "yref": "paper"
         },
         {
          "font": {},
          "showarrow": false,
          "text": "continent=Oceania",
          "x": 0.925,
          "xanchor": "center",
          "xref": "paper",
          "y": 1,
          "yanchor": "bottom",
          "yref": "paper"
         }
        ],
        "legend": {
         "title": {
          "text": "continent"
         },
         "tracegroupgap": 0
        },
        "template": {
         "data": {
          "bar": [
           {
            "error_x": {
             "color": "#2a3f5f"
            },
            "error_y": {
             "color": "#2a3f5f"
            },
            "marker": {
             "line": {
              "color": "#E5ECF6",
              "width": 0.5
             },
             "pattern": {
              "fillmode": "overlay",
              "size": 10,
              "solidity": 0.2
             }
            },
            "type": "bar"
           }
          ],
          "barpolar": [
           {
            "marker": {
             "line": {
              "color": "#E5ECF6",
              "width": 0.5
             },
             "pattern": {
              "fillmode": "overlay",
              "size": 10,
              "solidity": 0.2
             }
            },
            "type": "barpolar"
           }
          ],
          "carpet": [
           {
            "aaxis": {
             "endlinecolor": "#2a3f5f",
             "gridcolor": "white",
             "linecolor": "white",
             "minorgridcolor": "white",
             "startlinecolor": "#2a3f5f"
            },
            "baxis": {
             "endlinecolor": "#2a3f5f",
             "gridcolor": "white",
             "linecolor": "white",
             "minorgridcolor": "white",
             "startlinecolor": "#2a3f5f"
            },
            "type": "carpet"
           }
          ],
          "choropleth": [
           {
            "colorbar": {
             "outlinewidth": 0,
             "ticks": ""
            },
            "type": "choropleth"
           }
          ],
          "contour": [
           {
            "colorbar": {
             "outlinewidth": 0,
             "ticks": ""
            },
            "colorscale": [
             [
              0,
              "#0d0887"
             ],
             [
              0.1111111111111111,
              "#46039f"
             ],
             [
              0.2222222222222222,
              "#7201a8"
             ],
             [
              0.3333333333333333,
              "#9c179e"
             ],
             [
              0.4444444444444444,
              "#bd3786"
             ],
             [
              0.5555555555555556,
              "#d8576b"
             ],
             [
              0.6666666666666666,
              "#ed7953"
             ],
             [
              0.7777777777777778,
              "#fb9f3a"
             ],
             [
              0.8888888888888888,
              "#fdca26"
             ],
             [
              1,
              "#f0f921"
             ]
            ],
            "type": "contour"
           }
          ],
          "contourcarpet": [
           {
            "colorbar": {
             "outlinewidth": 0,
             "ticks": ""
            },
            "type": "contourcarpet"
           }
          ],
          "heatmap": [
           {
            "colorbar": {
             "outlinewidth": 0,
             "ticks": ""
            },
            "colorscale": [
             [
              0,
              "#0d0887"
             ],
             [
              0.1111111111111111,
              "#46039f"
             ],
             [
              0.2222222222222222,
              "#7201a8"
             ],
             [
              0.3333333333333333,
              "#9c179e"
             ],
             [
              0.4444444444444444,
              "#bd3786"
             ],
             [
              0.5555555555555556,
              "#d8576b"
             ],
             [
              0.6666666666666666,
              "#ed7953"
             ],
             [
              0.7777777777777778,
              "#fb9f3a"
             ],
             [
              0.8888888888888888,
              "#fdca26"
             ],
             [
              1,
              "#f0f921"
             ]
            ],
            "type": "heatmap"
           }
          ],
          "heatmapgl": [
           {
            "colorbar": {
             "outlinewidth": 0,
             "ticks": ""
            },
            "colorscale": [
             [
              0,
              "#0d0887"
             ],
             [
              0.1111111111111111,
              "#46039f"
             ],
             [
              0.2222222222222222,
              "#7201a8"
             ],
             [
              0.3333333333333333,
              "#9c179e"
             ],
             [
              0.4444444444444444,
              "#bd3786"
             ],
             [
              0.5555555555555556,
              "#d8576b"
             ],
             [
              0.6666666666666666,
              "#ed7953"
             ],
             [
              0.7777777777777778,
              "#fb9f3a"
             ],
             [
              0.8888888888888888,
              "#fdca26"
             ],
             [
              1,
              "#f0f921"
             ]
            ],
            "type": "heatmapgl"
           }
          ],
          "histogram": [
           {
            "marker": {
             "pattern": {
              "fillmode": "overlay",
              "size": 10,
              "solidity": 0.2
             }
            },
            "type": "histogram"
           }
          ],
          "histogram2d": [
           {
            "colorbar": {
             "outlinewidth": 0,
             "ticks": ""
            },
            "colorscale": [
             [
              0,
              "#0d0887"
             ],
             [
              0.1111111111111111,
              "#46039f"
             ],
             [
              0.2222222222222222,
              "#7201a8"
             ],
             [
              0.3333333333333333,
              "#9c179e"
             ],
             [
              0.4444444444444444,
              "#bd3786"
             ],
             [
              0.5555555555555556,
              "#d8576b"
             ],
             [
              0.6666666666666666,
              "#ed7953"
             ],
             [
              0.7777777777777778,
              "#fb9f3a"
             ],
             [
              0.8888888888888888,
              "#fdca26"
             ],
             [
              1,
              "#f0f921"
             ]
            ],
            "type": "histogram2d"
           }
          ],
          "histogram2dcontour": [
           {
            "colorbar": {
             "outlinewidth": 0,
             "ticks": ""
            },
            "colorscale": [
             [
              0,
              "#0d0887"
             ],
             [
              0.1111111111111111,
              "#46039f"
             ],
             [
              0.2222222222222222,
              "#7201a8"
             ],
             [
              0.3333333333333333,
              "#9c179e"
             ],
             [
              0.4444444444444444,
              "#bd3786"
             ],
             [
              0.5555555555555556,
              "#d8576b"
             ],
             [
              0.6666666666666666,
              "#ed7953"
             ],
             [
              0.7777777777777778,
              "#fb9f3a"
             ],
             [
              0.8888888888888888,
              "#fdca26"
             ],
             [
              1,
              "#f0f921"
             ]
            ],
            "type": "histogram2dcontour"
           }
          ],
          "mesh3d": [
           {
            "colorbar": {
             "outlinewidth": 0,
             "ticks": ""
            },
            "type": "mesh3d"
           }
          ],
          "parcoords": [
           {
            "line": {
             "colorbar": {
              "outlinewidth": 0,
              "ticks": ""
             }
            },
            "type": "parcoords"
           }
          ],
          "pie": [
           {
            "automargin": true,
            "type": "pie"
           }
          ],
          "scatter": [
           {
            "fillpattern": {
             "fillmode": "overlay",
             "size": 10,
             "solidity": 0.2
            },
            "type": "scatter"
           }
          ],
          "scatter3d": [
           {
            "line": {
             "colorbar": {
              "outlinewidth": 0,
              "ticks": ""
             }
            },
            "marker": {
             "colorbar": {
              "outlinewidth": 0,
              "ticks": ""
             }
            },
            "type": "scatter3d"
           }
          ],
          "scattercarpet": [
           {
            "marker": {
             "colorbar": {
              "outlinewidth": 0,
              "ticks": ""
             }
            },
            "type": "scattercarpet"
           }
          ],
          "scattergeo": [
           {
            "marker": {
             "colorbar": {
              "outlinewidth": 0,
              "ticks": ""
             }
            },
            "type": "scattergeo"
           }
          ],
          "scattergl": [
           {
            "marker": {
             "colorbar": {
              "outlinewidth": 0,
              "ticks": ""
             }
            },
            "type": "scattergl"
           }
          ],
          "scattermapbox": [
           {
            "marker": {
             "colorbar": {
              "outlinewidth": 0,
              "ticks": ""
             }
            },
            "type": "scattermapbox"
           }
          ],
          "scatterpolar": [
           {
            "marker": {
             "colorbar": {
              "outlinewidth": 0,
              "ticks": ""
             }
            },
            "type": "scatterpolar"
           }
          ],
          "scatterpolargl": [
           {
            "marker": {
             "colorbar": {
              "outlinewidth": 0,
              "ticks": ""
             }
            },
            "type": "scatterpolargl"
           }
          ],
          "scatterternary": [
           {
            "marker": {
             "colorbar": {
              "outlinewidth": 0,
              "ticks": ""
             }
            },
            "type": "scatterternary"
           }
          ],
          "surface": [
           {
            "colorbar": {
             "outlinewidth": 0,
             "ticks": ""
            },
            "colorscale": [
             [
              0,
              "#0d0887"
             ],
             [
              0.1111111111111111,
              "#46039f"
             ],
             [
              0.2222222222222222,
              "#7201a8"
             ],
             [
              0.3333333333333333,
              "#9c179e"
             ],
             [
              0.4444444444444444,
              "#bd3786"
             ],
             [
              0.5555555555555556,
              "#d8576b"
             ],
             [
              0.6666666666666666,
              "#ed7953"
             ],
             [
              0.7777777777777778,
              "#fb9f3a"
             ],
             [
              0.8888888888888888,
              "#fdca26"
             ],
             [
              1,
              "#f0f921"
             ]
            ],
            "type": "surface"
           }
          ],
          "table": [
           {
            "cells": {
             "fill": {
              "color": "#EBF0F8"
             },
             "line": {
              "color": "white"
             }
            },
            "header": {
             "fill": {
              "color": "#C8D4E3"
             },
             "line": {
              "color": "white"
             }
            },
            "type": "table"
           }
          ]
         },
         "layout": {
          "annotationdefaults": {
           "arrowcolor": "#2a3f5f",
           "arrowhead": 0,
           "arrowwidth": 1
          },
          "autotypenumbers": "strict",
          "coloraxis": {
           "colorbar": {
            "outlinewidth": 0,
            "ticks": ""
           }
          },
          "colorscale": {
           "diverging": [
            [
             0,
             "#8e0152"
            ],
            [
             0.1,
             "#c51b7d"
            ],
            [
             0.2,
             "#de77ae"
            ],
            [
             0.3,
             "#f1b6da"
            ],
            [
             0.4,
             "#fde0ef"
            ],
            [
             0.5,
             "#f7f7f7"
            ],
            [
             0.6,
             "#e6f5d0"
            ],
            [
             0.7,
             "#b8e186"
            ],
            [
             0.8,
             "#7fbc41"
            ],
            [
             0.9,
             "#4d9221"
            ],
            [
             1,
             "#276419"
            ]
           ],
           "sequential": [
            [
             0,
             "#0d0887"
            ],
            [
             0.1111111111111111,
             "#46039f"
            ],
            [
             0.2222222222222222,
             "#7201a8"
            ],
            [
             0.3333333333333333,
             "#9c179e"
            ],
            [
             0.4444444444444444,
             "#bd3786"
            ],
            [
             0.5555555555555556,
             "#d8576b"
            ],
            [
             0.6666666666666666,
             "#ed7953"
            ],
            [
             0.7777777777777778,
             "#fb9f3a"
            ],
            [
             0.8888888888888888,
             "#fdca26"
            ],
            [
             1,
             "#f0f921"
            ]
           ],
           "sequentialminus": [
            [
             0,
             "#0d0887"
            ],
            [
             0.1111111111111111,
             "#46039f"
            ],
            [
             0.2222222222222222,
             "#7201a8"
            ],
            [
             0.3333333333333333,
             "#9c179e"
            ],
            [
             0.4444444444444444,
             "#bd3786"
            ],
            [
             0.5555555555555556,
             "#d8576b"
            ],
            [
             0.6666666666666666,
             "#ed7953"
            ],
            [
             0.7777777777777778,
             "#fb9f3a"
            ],
            [
             0.8888888888888888,
             "#fdca26"
            ],
            [
             1,
             "#f0f921"
            ]
           ]
          },
          "colorway": [
           "#636efa",
           "#EF553B",
           "#00cc96",
           "#ab63fa",
           "#FFA15A",
           "#19d3f3",
           "#FF6692",
           "#B6E880",
           "#FF97FF",
           "#FECB52"
          ],
          "font": {
           "color": "#2a3f5f"
          },
          "geo": {
           "bgcolor": "white",
           "lakecolor": "white",
           "landcolor": "#E5ECF6",
           "showlakes": true,
           "showland": true,
           "subunitcolor": "white"
          },
          "hoverlabel": {
           "align": "left"
          },
          "hovermode": "closest",
          "mapbox": {
           "style": "light"
          },
          "paper_bgcolor": "white",
          "plot_bgcolor": "#E5ECF6",
          "polar": {
           "angularaxis": {
            "gridcolor": "white",
            "linecolor": "white",
            "ticks": ""
           },
           "bgcolor": "#E5ECF6",
           "radialaxis": {
            "gridcolor": "white",
            "linecolor": "white",
            "ticks": ""
           }
          },
          "scene": {
           "xaxis": {
            "backgroundcolor": "#E5ECF6",
            "gridcolor": "white",
            "gridwidth": 2,
            "linecolor": "white",
            "showbackground": true,
            "ticks": "",
            "zerolinecolor": "white"
           },
           "yaxis": {
            "backgroundcolor": "#E5ECF6",
            "gridcolor": "white",
            "gridwidth": 2,
            "linecolor": "white",
            "showbackground": true,
            "ticks": "",
            "zerolinecolor": "white"
           },
           "zaxis": {
            "backgroundcolor": "#E5ECF6",
            "gridcolor": "white",
            "gridwidth": 2,
            "linecolor": "white",
            "showbackground": true,
            "ticks": "",
            "zerolinecolor": "white"
           }
          },
          "shapedefaults": {
           "line": {
            "color": "#2a3f5f"
           }
          },
          "ternary": {
           "aaxis": {
            "gridcolor": "white",
            "linecolor": "white",
            "ticks": ""
           },
           "baxis": {
            "gridcolor": "white",
            "linecolor": "white",
            "ticks": ""
           },
           "bgcolor": "#E5ECF6",
           "caxis": {
            "gridcolor": "white",
            "linecolor": "white",
            "ticks": ""
           }
          },
          "title": {
           "x": 0.05
          },
          "xaxis": {
           "automargin": true,
           "gridcolor": "white",
           "linecolor": "white",
           "ticks": "",
           "title": {
            "standoff": 15
           },
           "zerolinecolor": "white",
           "zerolinewidth": 2
          },
          "yaxis": {
           "automargin": true,
           "gridcolor": "white",
           "linecolor": "white",
           "ticks": "",
           "title": {
            "standoff": 15
           },
           "zerolinecolor": "white",
           "zerolinewidth": 2
          }
         }
        },
        "title": {
         "text": "New cases according countries"
        },
        "xaxis": {
         "anchor": "y",
         "domain": [
          0,
          0.15
         ],
         "title": {
          "text": "country"
         }
        },
        "xaxis2": {
         "anchor": "y2",
         "domain": [
          0.16999999999999998,
          0.31999999999999995
         ],
         "matches": "x",
         "title": {
          "text": "country"
         }
        },
        "xaxis3": {
         "anchor": "y3",
         "domain": [
          0.33999999999999997,
          0.49
         ],
         "matches": "x",
         "title": {
          "text": "country"
         }
        },
        "xaxis4": {
         "anchor": "y4",
         "domain": [
          0.51,
          0.66
         ],
         "matches": "x",
         "title": {
          "text": "country"
         }
        },
        "xaxis5": {
         "anchor": "y5",
         "domain": [
          0.6799999999999999,
          0.83
         ],
         "matches": "x",
         "title": {
          "text": "country"
         }
        },
        "xaxis6": {
         "anchor": "y6",
         "domain": [
          0.85,
          1
         ],
         "matches": "x",
         "title": {
          "text": "country"
         }
        },
        "yaxis": {
         "anchor": "x",
         "domain": [
          0,
          1
         ],
         "title": {
          "text": "new_cases"
         }
        },
        "yaxis2": {
         "anchor": "x2",
         "domain": [
          0,
          1
         ],
         "matches": "y",
         "showticklabels": false
        },
        "yaxis3": {
         "anchor": "x3",
         "domain": [
          0,
          1
         ],
         "matches": "y",
         "showticklabels": false
        },
        "yaxis4": {
         "anchor": "x4",
         "domain": [
          0,
          1
         ],
         "matches": "y",
         "showticklabels": false
        },
        "yaxis5": {
         "anchor": "x5",
         "domain": [
          0,
          1
         ],
         "matches": "y",
         "showticklabels": false
        },
        "yaxis6": {
         "anchor": "x6",
         "domain": [
          0,
          1
         ],
         "matches": "y",
         "showticklabels": false
        }
       }
      }
     },
     "metadata": {},
     "output_type": "display_data"
    }
   ],
   "source": [
    "fig=px.scatter(df_new, x= 'country',y= 'new_cases',color='continent',facet_col='continent',title='New cases according countries')\n",
    "fig.show()"
   ]
  },
  {
   "cell_type": "code",
   "execution_count": 64,
   "metadata": {},
   "outputs": [
    {
     "data": {
      "application/vnd.plotly.v1+json": {
       "config": {
        "plotlyServerURL": "https://plot.ly"
       },
       "data": [
        {
         "hovertemplate": "continent=Asia<br>country=%{x}<br>total_deaths=%{y}<extra></extra>",
         "legendgroup": "Asia",
         "marker": {
          "color": "#636efa",
          "symbol": "circle"
         },
         "mode": "markers",
         "name": "Asia",
         "orientation": "v",
         "showlegend": true,
         "type": "scatter",
         "x": [
          "Afghanistan",
          "Armenia",
          "Azerbaijan",
          "Bahrain",
          "Bangladesh",
          "Bhutan",
          "Brunei",
          "Cambodia",
          "China",
          "Georgia",
          "Hong Kong",
          "India",
          "Indonesia",
          "Iran",
          "Iraq",
          "Israel",
          "Japan",
          "Jordan",
          "Kazakhstan",
          "Kuwait",
          "Kyrgyzstan",
          "Laos",
          "Lebanon",
          "Macao",
          "Malaysia",
          "Maldives",
          "Mongolia",
          "Myanmar",
          "Nepal",
          "North Korea",
          "Oman",
          "Pakistan",
          "Palestine",
          "Philippines",
          "Qatar",
          "Saudi Arabia",
          "Singapore",
          "South Korea",
          "Sri Lanka",
          "Syria",
          "Taiwan",
          "Tajikistan",
          "Thailand",
          "Timor",
          "Turkey",
          "United Arab Emirates",
          "Uzbekistan",
          "Vietnam",
          "Yemen"
         ],
         "xaxis": "x",
         "y": [
          7795,
          8669,
          9886,
          1520,
          29339,
          21,
          225,
          3056,
          5226,
          16900,
          9891,
          528355,
          157892,
          144301,
          25348,
          11681,
          43765,
          14116,
          19048,
          2563,
          2991,
          757,
          10657,
          6,
          36312,
          308,
          2130,
          19446,
          12016,
          6,
          4628,
          30607,
          5707,
          62549,
          682,
          9331,
          1607,
          27867,
          16747,
          3163,
          10548,
          125,
          32640,
          138,
          101068,
          2342,
          1637,
          43139,
          2155
         ],
         "yaxis": "y"
        },
        {
         "hovertemplate": "continent=Europe<br>country=%{x}<br>total_deaths=%{y}<extra></extra>",
         "legendgroup": "Europe",
         "marker": {
          "color": "#EF553B",
          "symbol": "circle"
         },
         "mode": "markers",
         "name": "Europe",
         "orientation": "v",
         "showlegend": true,
         "type": "scatter",
         "x": [
          "Albania",
          "Andorra",
          "Austria",
          "Belarus",
          "Belgium",
          "Bosnia and Herzegovina",
          "Bulgaria",
          "Croatia",
          "Cyprus",
          "Czechia",
          "Denmark",
          "Estonia",
          "Faeroe Islands",
          "Finland",
          "France",
          "Germany",
          "Gibraltar",
          "Greece",
          "Hungary",
          "Iceland",
          "Ireland",
          "Isle of Man",
          "Italy",
          "Jersey",
          "Kosovo",
          "Latvia",
          "Liechtenstein",
          "Lithuania",
          "Luxembourg",
          "Malta",
          "Moldova",
          "Monaco",
          "Montenegro",
          "Netherlands",
          "North Macedonia",
          "Norway",
          "Poland",
          "Portugal",
          "Romania",
          "Russia",
          "San Marino",
          "Serbia",
          "Slovakia",
          "Slovenia",
          "Spain",
          "Sweden",
          "Switzerland",
          "Ukraine",
          "United Kingdom",
          "Vatican"
         ],
         "xaxis": "x2",
         "y": [
          3586,
          155,
          20677,
          7118,
          32625,
          16108,
          37676,
          16840,
          1178,
          40956,
          6993,
          2661,
          28,
          5858,
          154741,
          148933,
          108,
          32894,
          47409,
          213,
          7901,
          116,
          176578,
          0,
          3199,
          5969,
          86,
          9304,
          1126,
          804,
          11808,
          63,
          2779,
          22713,
          9521,
          4038,
          117351,
          24951,
          66919,
          378234,
          118,
          16882,
          20436,
          6803,
          113725,
          20100,
          13992,
          116766,
          206150,
          0
         ],
         "yaxis": "y2"
        },
        {
         "hovertemplate": "continent=Africa<br>country=%{x}<br>total_deaths=%{y}<extra></extra>",
         "legendgroup": "Africa",
         "marker": {
          "color": "#00cc96",
          "symbol": "circle"
         },
         "mode": "markers",
         "name": "Africa",
         "orientation": "v",
         "showlegend": true,
         "type": "scatter",
         "x": [
          "Algeria",
          "Angola",
          "Benin",
          "Botswana",
          "Burkina Faso",
          "Burundi",
          "Cameroon",
          "Cape Verde",
          "Central African Republic",
          "Chad",
          "Comoros",
          "Congo",
          "Cote d'Ivoire",
          "Democratic Republic of Congo",
          "Djibouti",
          "Egypt",
          "Equatorial Guinea",
          "Eritrea",
          "Eswatini",
          "Ethiopia",
          "Gabon",
          "Gambia",
          "Ghana",
          "Guinea",
          "Guinea-Bissau",
          "Kenya",
          "Lesotho",
          "Liberia",
          "Libya",
          "Madagascar",
          "Malawi",
          "Mali",
          "Mauritania",
          "Mauritius",
          "Morocco",
          "Mozambique",
          "Namibia",
          "Niger",
          "Nigeria",
          "Rwanda",
          "Saint Helena",
          "Sao Tome and Principe",
          "Senegal",
          "Seychelles",
          "Sierra Leone",
          "Somalia",
          "South Africa",
          "South Sudan",
          "Sudan",
          "Tanzania",
          "Togo",
          "Tunisia",
          "Uganda",
          "Zambia",
          "Zimbabwe"
         ],
         "xaxis": "x3",
         "y": [
          6879,
          1917,
          163,
          2787,
          387,
          38,
          1935,
          410,
          113,
          193,
          161,
          386,
          822,
          1422,
          189,
          24796,
          183,
          103,
          1422,
          7572,
          306,
          372,
          1459,
          449,
          175,
          5675,
          706,
          294,
          6437,
          1410,
          2680,
          740,
          994,
          1024,
          16277,
          2222,
          4077,
          312,
          3155,
          1466,
          0,
          76,
          1968,
          169,
          126,
          1361,
          102146,
          138,
          4961,
          845,
          284,
          29243,
          3628,
          4017,
          5598
         ],
         "yaxis": "y3"
        },
        {
         "hovertemplate": "continent=North America<br>country=%{x}<br>total_deaths=%{y}<extra></extra>",
         "legendgroup": "North America",
         "marker": {
          "color": "#ab63fa",
          "symbol": "circle"
         },
         "mode": "markers",
         "name": "North America",
         "orientation": "v",
         "showlegend": true,
         "type": "scatter",
         "x": [
          "Anguilla",
          "Antigua and Barbuda",
          "Aruba",
          "Bahamas",
          "Barbados",
          "Belize",
          "Bermuda",
          "Bonaire Sint Eustatius and Saba",
          "British Virgin Islands",
          "Canada",
          "Cayman Islands",
          "Costa Rica",
          "Cuba",
          "Curacao",
          "Dominica",
          "Dominican Republic",
          "El Salvador",
          "Greenland",
          "Grenada",
          "Guatemala",
          "Haiti",
          "Honduras",
          "Jamaica",
          "Mexico",
          "Montserrat",
          "Nicaragua",
          "Panama",
          "Saint Kitts and Nevis",
          "Saint Lucia",
          "Saint Pierre and Miquelon",
          "Saint Vincent and the Grenadines",
          "Trinidad and Tobago",
          "Turks and Caicos Islands",
          "United States"
         ],
         "xaxis": "x4",
         "y": [
          12,
          145,
          228,
          833,
          559,
          680,
          148,
          38,
          64,
          45011,
          31,
          8913,
          8530,
          287,
          68,
          4384,
          4228,
          21,
          236,
          19714,
          857,
          10992,
          3294,
          329895,
          8,
          244,
          8487,
          46,
          393,
          1,
          116,
          4191,
          36,
          1053419
         ],
         "yaxis": "y4"
        },
        {
         "hovertemplate": "continent=South America<br>country=%{x}<br>total_deaths=%{y}<extra></extra>",
         "legendgroup": "South America",
         "marker": {
          "color": "#FFA15A",
          "symbol": "circle"
         },
         "mode": "markers",
         "name": "South America",
         "orientation": "v",
         "showlegend": true,
         "type": "scatter",
         "x": [
          "Argentina",
          "Bolivia",
          "Brazil",
          "Chile",
          "Colombia",
          "Ecuador",
          "Falkland Islands",
          "Guyana",
          "Paraguay",
          "Peru",
          "Suriname",
          "Uruguay",
          "Venezuela"
         ],
         "xaxis": "x5",
         "y": [
          129855,
          22228,
          685203,
          60822,
          141746,
          35885,
          0,
          1281,
          19564,
          216309,
          1384,
          7462,
          5811
         ],
         "yaxis": "y5"
        },
        {
         "hovertemplate": "continent=Oceania<br>country=%{x}<br>total_deaths=%{y}<extra></extra>",
         "legendgroup": "Oceania",
         "marker": {
          "color": "#19d3f3",
          "symbol": "circle"
         },
         "mode": "markers",
         "name": "Oceania",
         "orientation": "v",
         "showlegend": true,
         "type": "scatter",
         "x": [
          "Australia",
          "Cook Islands",
          "Fiji",
          "French Polynesia",
          "Kiribati",
          "Marshall Islands",
          "Micronesia (country)",
          "Nauru",
          "New Caledonia",
          "New Zealand",
          "Palau",
          "Papua New Guinea",
          "Samoa",
          "Solomon Islands",
          "Tonga",
          "Tuvalu",
          "Vanuatu",
          "Wallis and Futuna"
         ],
         "xaxis": "x6",
         "y": [
          14763,
          1,
          878,
          649,
          13,
          17,
          30,
          1,
          314,
          1962,
          6,
          664,
          29,
          153,
          12,
          0,
          14,
          7
         ],
         "yaxis": "y6"
        }
       ],
       "layout": {
        "annotations": [
         {
          "font": {},
          "showarrow": false,
          "text": "continent=Asia",
          "x": 0.075,
          "xanchor": "center",
          "xref": "paper",
          "y": 1,
          "yanchor": "bottom",
          "yref": "paper"
         },
         {
          "font": {},
          "showarrow": false,
          "text": "continent=Europe",
          "x": 0.24499999999999997,
          "xanchor": "center",
          "xref": "paper",
          "y": 1,
          "yanchor": "bottom",
          "yref": "paper"
         },
         {
          "font": {},
          "showarrow": false,
          "text": "continent=Africa",
          "x": 0.415,
          "xanchor": "center",
          "xref": "paper",
          "y": 1,
          "yanchor": "bottom",
          "yref": "paper"
         },
         {
          "font": {},
          "showarrow": false,
          "text": "continent=North America",
          "x": 0.585,
          "xanchor": "center",
          "xref": "paper",
          "y": 1,
          "yanchor": "bottom",
          "yref": "paper"
         },
         {
          "font": {},
          "showarrow": false,
          "text": "continent=South America",
          "x": 0.7549999999999999,
          "xanchor": "center",
          "xref": "paper",
          "y": 1,
          "yanchor": "bottom",
          "yref": "paper"
         },
         {
          "font": {},
          "showarrow": false,
          "text": "continent=Oceania",
          "x": 0.925,
          "xanchor": "center",
          "xref": "paper",
          "y": 1,
          "yanchor": "bottom",
          "yref": "paper"
         }
        ],
        "legend": {
         "title": {
          "text": "continent"
         },
         "tracegroupgap": 0
        },
        "template": {
         "data": {
          "bar": [
           {
            "error_x": {
             "color": "#2a3f5f"
            },
            "error_y": {
             "color": "#2a3f5f"
            },
            "marker": {
             "line": {
              "color": "#E5ECF6",
              "width": 0.5
             },
             "pattern": {
              "fillmode": "overlay",
              "size": 10,
              "solidity": 0.2
             }
            },
            "type": "bar"
           }
          ],
          "barpolar": [
           {
            "marker": {
             "line": {
              "color": "#E5ECF6",
              "width": 0.5
             },
             "pattern": {
              "fillmode": "overlay",
              "size": 10,
              "solidity": 0.2
             }
            },
            "type": "barpolar"
           }
          ],
          "carpet": [
           {
            "aaxis": {
             "endlinecolor": "#2a3f5f",
             "gridcolor": "white",
             "linecolor": "white",
             "minorgridcolor": "white",
             "startlinecolor": "#2a3f5f"
            },
            "baxis": {
             "endlinecolor": "#2a3f5f",
             "gridcolor": "white",
             "linecolor": "white",
             "minorgridcolor": "white",
             "startlinecolor": "#2a3f5f"
            },
            "type": "carpet"
           }
          ],
          "choropleth": [
           {
            "colorbar": {
             "outlinewidth": 0,
             "ticks": ""
            },
            "type": "choropleth"
           }
          ],
          "contour": [
           {
            "colorbar": {
             "outlinewidth": 0,
             "ticks": ""
            },
            "colorscale": [
             [
              0,
              "#0d0887"
             ],
             [
              0.1111111111111111,
              "#46039f"
             ],
             [
              0.2222222222222222,
              "#7201a8"
             ],
             [
              0.3333333333333333,
              "#9c179e"
             ],
             [
              0.4444444444444444,
              "#bd3786"
             ],
             [
              0.5555555555555556,
              "#d8576b"
             ],
             [
              0.6666666666666666,
              "#ed7953"
             ],
             [
              0.7777777777777778,
              "#fb9f3a"
             ],
             [
              0.8888888888888888,
              "#fdca26"
             ],
             [
              1,
              "#f0f921"
             ]
            ],
            "type": "contour"
           }
          ],
          "contourcarpet": [
           {
            "colorbar": {
             "outlinewidth": 0,
             "ticks": ""
            },
            "type": "contourcarpet"
           }
          ],
          "heatmap": [
           {
            "colorbar": {
             "outlinewidth": 0,
             "ticks": ""
            },
            "colorscale": [
             [
              0,
              "#0d0887"
             ],
             [
              0.1111111111111111,
              "#46039f"
             ],
             [
              0.2222222222222222,
              "#7201a8"
             ],
             [
              0.3333333333333333,
              "#9c179e"
             ],
             [
              0.4444444444444444,
              "#bd3786"
             ],
             [
              0.5555555555555556,
              "#d8576b"
             ],
             [
              0.6666666666666666,
              "#ed7953"
             ],
             [
              0.7777777777777778,
              "#fb9f3a"
             ],
             [
              0.8888888888888888,
              "#fdca26"
             ],
             [
              1,
              "#f0f921"
             ]
            ],
            "type": "heatmap"
           }
          ],
          "heatmapgl": [
           {
            "colorbar": {
             "outlinewidth": 0,
             "ticks": ""
            },
            "colorscale": [
             [
              0,
              "#0d0887"
             ],
             [
              0.1111111111111111,
              "#46039f"
             ],
             [
              0.2222222222222222,
              "#7201a8"
             ],
             [
              0.3333333333333333,
              "#9c179e"
             ],
             [
              0.4444444444444444,
              "#bd3786"
             ],
             [
              0.5555555555555556,
              "#d8576b"
             ],
             [
              0.6666666666666666,
              "#ed7953"
             ],
             [
              0.7777777777777778,
              "#fb9f3a"
             ],
             [
              0.8888888888888888,
              "#fdca26"
             ],
             [
              1,
              "#f0f921"
             ]
            ],
            "type": "heatmapgl"
           }
          ],
          "histogram": [
           {
            "marker": {
             "pattern": {
              "fillmode": "overlay",
              "size": 10,
              "solidity": 0.2
             }
            },
            "type": "histogram"
           }
          ],
          "histogram2d": [
           {
            "colorbar": {
             "outlinewidth": 0,
             "ticks": ""
            },
            "colorscale": [
             [
              0,
              "#0d0887"
             ],
             [
              0.1111111111111111,
              "#46039f"
             ],
             [
              0.2222222222222222,
              "#7201a8"
             ],
             [
              0.3333333333333333,
              "#9c179e"
             ],
             [
              0.4444444444444444,
              "#bd3786"
             ],
             [
              0.5555555555555556,
              "#d8576b"
             ],
             [
              0.6666666666666666,
              "#ed7953"
             ],
             [
              0.7777777777777778,
              "#fb9f3a"
             ],
             [
              0.8888888888888888,
              "#fdca26"
             ],
             [
              1,
              "#f0f921"
             ]
            ],
            "type": "histogram2d"
           }
          ],
          "histogram2dcontour": [
           {
            "colorbar": {
             "outlinewidth": 0,
             "ticks": ""
            },
            "colorscale": [
             [
              0,
              "#0d0887"
             ],
             [
              0.1111111111111111,
              "#46039f"
             ],
             [
              0.2222222222222222,
              "#7201a8"
             ],
             [
              0.3333333333333333,
              "#9c179e"
             ],
             [
              0.4444444444444444,
              "#bd3786"
             ],
             [
              0.5555555555555556,
              "#d8576b"
             ],
             [
              0.6666666666666666,
              "#ed7953"
             ],
             [
              0.7777777777777778,
              "#fb9f3a"
             ],
             [
              0.8888888888888888,
              "#fdca26"
             ],
             [
              1,
              "#f0f921"
             ]
            ],
            "type": "histogram2dcontour"
           }
          ],
          "mesh3d": [
           {
            "colorbar": {
             "outlinewidth": 0,
             "ticks": ""
            },
            "type": "mesh3d"
           }
          ],
          "parcoords": [
           {
            "line": {
             "colorbar": {
              "outlinewidth": 0,
              "ticks": ""
             }
            },
            "type": "parcoords"
           }
          ],
          "pie": [
           {
            "automargin": true,
            "type": "pie"
           }
          ],
          "scatter": [
           {
            "fillpattern": {
             "fillmode": "overlay",
             "size": 10,
             "solidity": 0.2
            },
            "type": "scatter"
           }
          ],
          "scatter3d": [
           {
            "line": {
             "colorbar": {
              "outlinewidth": 0,
              "ticks": ""
             }
            },
            "marker": {
             "colorbar": {
              "outlinewidth": 0,
              "ticks": ""
             }
            },
            "type": "scatter3d"
           }
          ],
          "scattercarpet": [
           {
            "marker": {
             "colorbar": {
              "outlinewidth": 0,
              "ticks": ""
             }
            },
            "type": "scattercarpet"
           }
          ],
          "scattergeo": [
           {
            "marker": {
             "colorbar": {
              "outlinewidth": 0,
              "ticks": ""
             }
            },
            "type": "scattergeo"
           }
          ],
          "scattergl": [
           {
            "marker": {
             "colorbar": {
              "outlinewidth": 0,
              "ticks": ""
             }
            },
            "type": "scattergl"
           }
          ],
          "scattermapbox": [
           {
            "marker": {
             "colorbar": {
              "outlinewidth": 0,
              "ticks": ""
             }
            },
            "type": "scattermapbox"
           }
          ],
          "scatterpolar": [
           {
            "marker": {
             "colorbar": {
              "outlinewidth": 0,
              "ticks": ""
             }
            },
            "type": "scatterpolar"
           }
          ],
          "scatterpolargl": [
           {
            "marker": {
             "colorbar": {
              "outlinewidth": 0,
              "ticks": ""
             }
            },
            "type": "scatterpolargl"
           }
          ],
          "scatterternary": [
           {
            "marker": {
             "colorbar": {
              "outlinewidth": 0,
              "ticks": ""
             }
            },
            "type": "scatterternary"
           }
          ],
          "surface": [
           {
            "colorbar": {
             "outlinewidth": 0,
             "ticks": ""
            },
            "colorscale": [
             [
              0,
              "#0d0887"
             ],
             [
              0.1111111111111111,
              "#46039f"
             ],
             [
              0.2222222222222222,
              "#7201a8"
             ],
             [
              0.3333333333333333,
              "#9c179e"
             ],
             [
              0.4444444444444444,
              "#bd3786"
             ],
             [
              0.5555555555555556,
              "#d8576b"
             ],
             [
              0.6666666666666666,
              "#ed7953"
             ],
             [
              0.7777777777777778,
              "#fb9f3a"
             ],
             [
              0.8888888888888888,
              "#fdca26"
             ],
             [
              1,
              "#f0f921"
             ]
            ],
            "type": "surface"
           }
          ],
          "table": [
           {
            "cells": {
             "fill": {
              "color": "#EBF0F8"
             },
             "line": {
              "color": "white"
             }
            },
            "header": {
             "fill": {
              "color": "#C8D4E3"
             },
             "line": {
              "color": "white"
             }
            },
            "type": "table"
           }
          ]
         },
         "layout": {
          "annotationdefaults": {
           "arrowcolor": "#2a3f5f",
           "arrowhead": 0,
           "arrowwidth": 1
          },
          "autotypenumbers": "strict",
          "coloraxis": {
           "colorbar": {
            "outlinewidth": 0,
            "ticks": ""
           }
          },
          "colorscale": {
           "diverging": [
            [
             0,
             "#8e0152"
            ],
            [
             0.1,
             "#c51b7d"
            ],
            [
             0.2,
             "#de77ae"
            ],
            [
             0.3,
             "#f1b6da"
            ],
            [
             0.4,
             "#fde0ef"
            ],
            [
             0.5,
             "#f7f7f7"
            ],
            [
             0.6,
             "#e6f5d0"
            ],
            [
             0.7,
             "#b8e186"
            ],
            [
             0.8,
             "#7fbc41"
            ],
            [
             0.9,
             "#4d9221"
            ],
            [
             1,
             "#276419"
            ]
           ],
           "sequential": [
            [
             0,
             "#0d0887"
            ],
            [
             0.1111111111111111,
             "#46039f"
            ],
            [
             0.2222222222222222,
             "#7201a8"
            ],
            [
             0.3333333333333333,
             "#9c179e"
            ],
            [
             0.4444444444444444,
             "#bd3786"
            ],
            [
             0.5555555555555556,
             "#d8576b"
            ],
            [
             0.6666666666666666,
             "#ed7953"
            ],
            [
             0.7777777777777778,
             "#fb9f3a"
            ],
            [
             0.8888888888888888,
             "#fdca26"
            ],
            [
             1,
             "#f0f921"
            ]
           ],
           "sequentialminus": [
            [
             0,
             "#0d0887"
            ],
            [
             0.1111111111111111,
             "#46039f"
            ],
            [
             0.2222222222222222,
             "#7201a8"
            ],
            [
             0.3333333333333333,
             "#9c179e"
            ],
            [
             0.4444444444444444,
             "#bd3786"
            ],
            [
             0.5555555555555556,
             "#d8576b"
            ],
            [
             0.6666666666666666,
             "#ed7953"
            ],
            [
             0.7777777777777778,
             "#fb9f3a"
            ],
            [
             0.8888888888888888,
             "#fdca26"
            ],
            [
             1,
             "#f0f921"
            ]
           ]
          },
          "colorway": [
           "#636efa",
           "#EF553B",
           "#00cc96",
           "#ab63fa",
           "#FFA15A",
           "#19d3f3",
           "#FF6692",
           "#B6E880",
           "#FF97FF",
           "#FECB52"
          ],
          "font": {
           "color": "#2a3f5f"
          },
          "geo": {
           "bgcolor": "white",
           "lakecolor": "white",
           "landcolor": "#E5ECF6",
           "showlakes": true,
           "showland": true,
           "subunitcolor": "white"
          },
          "hoverlabel": {
           "align": "left"
          },
          "hovermode": "closest",
          "mapbox": {
           "style": "light"
          },
          "paper_bgcolor": "white",
          "plot_bgcolor": "#E5ECF6",
          "polar": {
           "angularaxis": {
            "gridcolor": "white",
            "linecolor": "white",
            "ticks": ""
           },
           "bgcolor": "#E5ECF6",
           "radialaxis": {
            "gridcolor": "white",
            "linecolor": "white",
            "ticks": ""
           }
          },
          "scene": {
           "xaxis": {
            "backgroundcolor": "#E5ECF6",
            "gridcolor": "white",
            "gridwidth": 2,
            "linecolor": "white",
            "showbackground": true,
            "ticks": "",
            "zerolinecolor": "white"
           },
           "yaxis": {
            "backgroundcolor": "#E5ECF6",
            "gridcolor": "white",
            "gridwidth": 2,
            "linecolor": "white",
            "showbackground": true,
            "ticks": "",
            "zerolinecolor": "white"
           },
           "zaxis": {
            "backgroundcolor": "#E5ECF6",
            "gridcolor": "white",
            "gridwidth": 2,
            "linecolor": "white",
            "showbackground": true,
            "ticks": "",
            "zerolinecolor": "white"
           }
          },
          "shapedefaults": {
           "line": {
            "color": "#2a3f5f"
           }
          },
          "ternary": {
           "aaxis": {
            "gridcolor": "white",
            "linecolor": "white",
            "ticks": ""
           },
           "baxis": {
            "gridcolor": "white",
            "linecolor": "white",
            "ticks": ""
           },
           "bgcolor": "#E5ECF6",
           "caxis": {
            "gridcolor": "white",
            "linecolor": "white",
            "ticks": ""
           }
          },
          "title": {
           "x": 0.05
          },
          "xaxis": {
           "automargin": true,
           "gridcolor": "white",
           "linecolor": "white",
           "ticks": "",
           "title": {
            "standoff": 15
           },
           "zerolinecolor": "white",
           "zerolinewidth": 2
          },
          "yaxis": {
           "automargin": true,
           "gridcolor": "white",
           "linecolor": "white",
           "ticks": "",
           "title": {
            "standoff": 15
           },
           "zerolinecolor": "white",
           "zerolinewidth": 2
          }
         }
        },
        "title": {
         "text": "Death rate according countries"
        },
        "xaxis": {
         "anchor": "y",
         "domain": [
          0,
          0.15
         ],
         "title": {
          "text": "country"
         }
        },
        "xaxis2": {
         "anchor": "y2",
         "domain": [
          0.16999999999999998,
          0.31999999999999995
         ],
         "matches": "x",
         "title": {
          "text": "country"
         }
        },
        "xaxis3": {
         "anchor": "y3",
         "domain": [
          0.33999999999999997,
          0.49
         ],
         "matches": "x",
         "title": {
          "text": "country"
         }
        },
        "xaxis4": {
         "anchor": "y4",
         "domain": [
          0.51,
          0.66
         ],
         "matches": "x",
         "title": {
          "text": "country"
         }
        },
        "xaxis5": {
         "anchor": "y5",
         "domain": [
          0.6799999999999999,
          0.83
         ],
         "matches": "x",
         "title": {
          "text": "country"
         }
        },
        "xaxis6": {
         "anchor": "y6",
         "domain": [
          0.85,
          1
         ],
         "matches": "x",
         "title": {
          "text": "country"
         }
        },
        "yaxis": {
         "anchor": "x",
         "domain": [
          0,
          1
         ],
         "title": {
          "text": "total_deaths"
         }
        },
        "yaxis2": {
         "anchor": "x2",
         "domain": [
          0,
          1
         ],
         "matches": "y",
         "showticklabels": false
        },
        "yaxis3": {
         "anchor": "x3",
         "domain": [
          0,
          1
         ],
         "matches": "y",
         "showticklabels": false
        },
        "yaxis4": {
         "anchor": "x4",
         "domain": [
          0,
          1
         ],
         "matches": "y",
         "showticklabels": false
        },
        "yaxis5": {
         "anchor": "x5",
         "domain": [
          0,
          1
         ],
         "matches": "y",
         "showticklabels": false
        },
        "yaxis6": {
         "anchor": "x6",
         "domain": [
          0,
          1
         ],
         "matches": "y",
         "showticklabels": false
        }
       }
      }
     },
     "metadata": {},
     "output_type": "display_data"
    }
   ],
   "source": [
    "fig=px.scatter(df_new, x= 'country',y= 'total_deaths',color='continent',facet_col='continent',title='Death rate according countries')\n",
    "fig.show()"
   ]
  },
  {
   "cell_type": "code",
   "execution_count": 65,
   "metadata": {},
   "outputs": [
    {
     "data": {
      "application/vnd.plotly.v1+json": {
       "config": {
        "plotlyServerURL": "https://plot.ly"
       },
       "data": [
        {
         "hovertemplate": "<b>%{hovertext}</b><br><br>continent=Asia<br>total_deaths=%{x}<br>total_cases=%{y}<br>population_density=%{z}<extra></extra>",
         "hovertext": [
          "Afghanistan",
          "Armenia",
          "Azerbaijan",
          "Bahrain",
          "Bangladesh",
          "Bhutan",
          "Brunei",
          "Cambodia",
          "China",
          "Georgia",
          "Hong Kong",
          "India",
          "Indonesia",
          "Iran",
          "Iraq",
          "Israel",
          "Japan",
          "Jordan",
          "Kazakhstan",
          "Kuwait",
          "Kyrgyzstan",
          "Laos",
          "Lebanon",
          "Macao",
          "Malaysia",
          "Maldives",
          "Mongolia",
          "Myanmar",
          "Nepal",
          "North Korea",
          "Oman",
          "Pakistan",
          "Palestine",
          "Philippines",
          "Qatar",
          "Saudi Arabia",
          "Singapore",
          "South Korea",
          "Sri Lanka",
          "Syria",
          "Taiwan",
          "Tajikistan",
          "Thailand",
          "Timor",
          "Turkey",
          "United Arab Emirates",
          "Uzbekistan",
          "Vietnam",
          "Yemen"
         ],
         "legendgroup": "Asia",
         "marker": {
          "color": "#636efa",
          "symbol": "circle"
         },
         "mode": "markers",
         "name": "Asia",
         "scene": "scene",
         "showlegend": true,
         "type": "scatter3d",
         "x": [
          7795,
          8669,
          9886,
          1520,
          29339,
          21,
          225,
          3056,
          5226,
          16900,
          9891,
          528355,
          157892,
          144301,
          25348,
          11681,
          43765,
          14116,
          19048,
          2563,
          2991,
          757,
          10657,
          6,
          36312,
          308,
          2130,
          19446,
          12016,
          6,
          4628,
          30607,
          5707,
          62549,
          682,
          9331,
          1607,
          27867,
          16747,
          3163,
          10548,
          125,
          32640,
          138,
          101068,
          2342,
          1637,
          43139,
          2155
         ],
         "y": [
          197240,
          439302,
          819518,
          676094,
          2017614,
          61419,
          224610,
          137767,
          981003,
          1762206,
          1707495,
          44539046,
          6408806,
          7542822,
          2458509,
          4650286,
          20693615,
          1745032,
          1482564,
          657745,
          205920,
          215448,
          1213769,
          793,
          4818890,
          184966,
          981963,
          618898,
          999241,
          1,
          397993,
          1571894,
          702768,
          3920693,
          441445,
          815195,
          1875275,
          24413873,
          670596,
          57220,
          5970438,
          17786,
          4673629,
          23239,
          16852382,
          1022960,
          244023,
          11458449,
          11932
         ],
         "z": [
          54.422,
          102.931,
          119.309,
          1935.907,
          1265.036,
          21.188,
          81.347,
          90.672,
          147.674,
          65.032,
          7039.714,
          450.419,
          145.725,
          49.831,
          88.125,
          402.606,
          347.778,
          109.285,
          6.681,
          232.128,
          32.333,
          29.715,
          594.561,
          20546.766,
          96.254,
          1454.433,
          1.98,
          81.721,
          204.43,
          211.701,
          14.98,
          255.573,
          778.202,
          351.873,
          227.322,
          15.322,
          7915.731,
          527.967,
          341.955,
          0,
          0,
          64.281,
          135.132,
          87.176,
          104.914,
          112.442,
          76.134,
          308.127,
          53.508
         ]
        },
        {
         "hovertemplate": "<b>%{hovertext}</b><br><br>continent=Europe<br>total_deaths=%{x}<br>total_cases=%{y}<br>population_density=%{z}<extra></extra>",
         "hovertext": [
          "Albania",
          "Andorra",
          "Austria",
          "Belarus",
          "Belgium",
          "Bosnia and Herzegovina",
          "Bulgaria",
          "Croatia",
          "Cyprus",
          "Czechia",
          "Denmark",
          "Estonia",
          "Faeroe Islands",
          "Finland",
          "France",
          "Germany",
          "Gibraltar",
          "Greece",
          "Hungary",
          "Iceland",
          "Ireland",
          "Isle of Man",
          "Italy",
          "Jersey",
          "Kosovo",
          "Latvia",
          "Liechtenstein",
          "Lithuania",
          "Luxembourg",
          "Malta",
          "Moldova",
          "Monaco",
          "Montenegro",
          "Netherlands",
          "North Macedonia",
          "Norway",
          "Poland",
          "Portugal",
          "Romania",
          "Russia",
          "San Marino",
          "Serbia",
          "Slovakia",
          "Slovenia",
          "Spain",
          "Sweden",
          "Switzerland",
          "Ukraine",
          "United Kingdom",
          "Vatican"
         ],
         "legendgroup": "Europe",
         "marker": {
          "color": "#EF553B",
          "symbol": "circle"
         },
         "mode": "markers",
         "name": "Europe",
         "scene": "scene",
         "showlegend": true,
         "type": "scatter3d",
         "x": [
          3586,
          155,
          20677,
          7118,
          32625,
          16108,
          37676,
          16840,
          1178,
          40956,
          6993,
          2661,
          28,
          5858,
          154741,
          148933,
          108,
          32894,
          47409,
          213,
          7901,
          116,
          176578,
          0,
          3199,
          5969,
          86,
          9304,
          1126,
          804,
          11808,
          63,
          2779,
          22713,
          9521,
          4038,
          117351,
          24951,
          66919,
          378234,
          118,
          16882,
          20436,
          6803,
          113725,
          20100,
          13992,
          116766,
          206150,
          0
         ],
         "y": [
          331583,
          46147,
          5024113,
          994037,
          4511590,
          397822,
          1251669,
          1224837,
          582381,
          4074269,
          3285290,
          599596,
          34658,
          1277473,
          34922264,
          32680356,
          20069,
          4838811,
          2070443,
          205284,
          1660635,
          38008,
          22161016,
          0,
          271998,
          913371,
          19419,
          1235373,
          288721,
          114411,
          583183,
          14501,
          278386,
          8416314,
          342075,
          1461513,
          6244650,
          5456778,
          3253082,
          20143127,
          20552,
          2333969,
          2616071,
          1157071,
          13384876,
          2578521,
          4073348,
          5392365,
          23585304,
          29
         ],
         "z": [
          104.871,
          163.755,
          106.749,
          46.858,
          375.564,
          68.496,
          65.18,
          73.726,
          127.657,
          137.176,
          136.52,
          31.033,
          35.308,
          18.136,
          122.578,
          237.016,
          3457.1,
          83.479,
          108.043,
          3.404,
          69.874,
          147.872,
          205.859,
          0,
          168.155,
          31.212,
          237.012,
          45.135,
          231.447,
          1454.037,
          123.655,
          19347.5,
          46.28,
          508.544,
          82.6,
          14.462,
          124.027,
          112.371,
          85.129,
          8.823,
          556.667,
          80.291,
          113.128,
          102.619,
          93.105,
          24.718,
          214.243,
          77.39,
          272.898,
          0
         ]
        },
        {
         "hovertemplate": "<b>%{hovertext}</b><br><br>continent=Africa<br>total_deaths=%{x}<br>total_cases=%{y}<br>population_density=%{z}<extra></extra>",
         "hovertext": [
          "Algeria",
          "Angola",
          "Benin",
          "Botswana",
          "Burkina Faso",
          "Burundi",
          "Cameroon",
          "Cape Verde",
          "Central African Republic",
          "Chad",
          "Comoros",
          "Congo",
          "Cote d'Ivoire",
          "Democratic Republic of Congo",
          "Djibouti",
          "Egypt",
          "Equatorial Guinea",
          "Eritrea",
          "Eswatini",
          "Ethiopia",
          "Gabon",
          "Gambia",
          "Ghana",
          "Guinea",
          "Guinea-Bissau",
          "Kenya",
          "Lesotho",
          "Liberia",
          "Libya",
          "Madagascar",
          "Malawi",
          "Mali",
          "Mauritania",
          "Mauritius",
          "Morocco",
          "Mozambique",
          "Namibia",
          "Niger",
          "Nigeria",
          "Rwanda",
          "Saint Helena",
          "Sao Tome and Principe",
          "Senegal",
          "Seychelles",
          "Sierra Leone",
          "Somalia",
          "South Africa",
          "South Sudan",
          "Sudan",
          "Tanzania",
          "Togo",
          "Tunisia",
          "Uganda",
          "Zambia",
          "Zimbabwe"
         ],
         "legendgroup": "Africa",
         "marker": {
          "color": "#00cc96",
          "symbol": "circle"
         },
         "mode": "markers",
         "name": "Africa",
         "scene": "scene",
         "showlegend": true,
         "type": "scatter3d",
         "x": [
          6879,
          1917,
          163,
          2787,
          387,
          38,
          1935,
          410,
          113,
          193,
          161,
          386,
          822,
          1422,
          189,
          24796,
          183,
          103,
          1422,
          7572,
          306,
          372,
          1459,
          449,
          175,
          5675,
          706,
          294,
          6437,
          1410,
          2680,
          740,
          994,
          1024,
          16277,
          2222,
          4077,
          312,
          3155,
          1466,
          0,
          76,
          1968,
          169,
          126,
          1361,
          102146,
          138,
          4961,
          845,
          284,
          29243,
          3628,
          4017,
          5598
         ],
         "y": [
          270609,
          103131,
          27638,
          326127,
          21128,
          49882,
          121652,
          62354,
          14904,
          7560,
          8467,
          24837,
          87031,
          92751,
          15690,
          515645,
          16991,
          10164,
          73379,
          493430,
          48682,
          12508,
          168616,
          37652,
          8796,
          338341,
          34490,
          7929,
          506926,
          66660,
          87980,
          32508,
          62784,
          260947,
          1264779,
          230219,
          169253,
          9931,
          264933,
          132486,
          7,
          6193,
          88268,
          46358,
          7750,
          27197,
          4015880,
          17823,
          63275,
          39253,
          38741,
          1145163,
          169396,
          333382,
          256996
         ],
         "z": [
          17.348,
          23.89,
          99.11,
          4.044,
          70.151,
          423.062,
          50.885,
          135.58,
          7.479,
          11.833,
          437.352,
          15.405,
          76.399,
          35.879,
          41.285,
          97.999,
          45.194,
          44.304,
          79.492,
          104.957,
          7.859,
          207.566,
          126.719,
          51.755,
          66.191,
          87.324,
          73.562,
          49.127,
          3.623,
          43.951,
          197.519,
          15.196,
          4.289,
          622.962,
          80.08,
          37.728,
          3.078,
          16.955,
          209.588,
          494.869,
          0,
          212.841,
          82.328,
          208.354,
          104.7,
          23.5,
          46.754,
          0,
          23.258,
          64.699,
          143.366,
          74.228,
          213.759,
          22.995,
          42.729
         ]
        },
        {
         "hovertemplate": "<b>%{hovertext}</b><br><br>continent=North America<br>total_deaths=%{x}<br>total_cases=%{y}<br>population_density=%{z}<extra></extra>",
         "hovertext": [
          "Anguilla",
          "Antigua and Barbuda",
          "Aruba",
          "Bahamas",
          "Barbados",
          "Belize",
          "Bermuda",
          "Bonaire Sint Eustatius and Saba",
          "British Virgin Islands",
          "Canada",
          "Cayman Islands",
          "Costa Rica",
          "Cuba",
          "Curacao",
          "Dominica",
          "Dominican Republic",
          "El Salvador",
          "Greenland",
          "Grenada",
          "Guatemala",
          "Haiti",
          "Honduras",
          "Jamaica",
          "Mexico",
          "Montserrat",
          "Nicaragua",
          "Panama",
          "Saint Kitts and Nevis",
          "Saint Lucia",
          "Saint Pierre and Miquelon",
          "Saint Vincent and the Grenadines",
          "Trinidad and Tobago",
          "Turks and Caicos Islands",
          "United States"
         ],
         "legendgroup": "North America",
         "marker": {
          "color": "#ab63fa",
          "symbol": "circle"
         },
         "mode": "markers",
         "name": "North America",
         "scene": "scene",
         "showlegend": true,
         "type": "scatter3d",
         "x": [
          12,
          145,
          228,
          833,
          559,
          680,
          148,
          38,
          64,
          45011,
          31,
          8913,
          8530,
          287,
          68,
          4384,
          4228,
          21,
          236,
          19714,
          857,
          10992,
          3294,
          329895,
          8,
          244,
          8487,
          46,
          393,
          1,
          116,
          4191,
          36,
          1053419
         ],
         "y": [
          3856,
          9008,
          42970,
          37187,
          102193,
          68704,
          18077,
          11306,
          7305,
          4245082,
          30545,
          1105792,
          1111031,
          45345,
          14852,
          644016,
          201785,
          11971,
          19473,
          1114951,
          33721,
          455836,
          151269,
          7069764,
          1326,
          14990,
          984234,
          6541,
          28959,
          3166,
          9446,
          182247,
          6380,
          95658236
         ],
         "z": [
          0,
          231.845,
          584.8,
          39.497,
          664.463,
          16.426,
          1308.82,
          0,
          207.973,
          4.037,
          256.496,
          96.079,
          110.408,
          362.644,
          98.567,
          222.873,
          307.811,
          0.137,
          317.132,
          157.834,
          398.448,
          82.805,
          266.879,
          66.444,
          0,
          51.667,
          55.133,
          212.865,
          293.187,
          0,
          281.787,
          266.886,
          37.312,
          35.608
         ]
        },
        {
         "hovertemplate": "<b>%{hovertext}</b><br><br>continent=South America<br>total_deaths=%{x}<br>total_cases=%{y}<br>population_density=%{z}<extra></extra>",
         "hovertext": [
          "Argentina",
          "Bolivia",
          "Brazil",
          "Chile",
          "Colombia",
          "Ecuador",
          "Falkland Islands",
          "Guyana",
          "Paraguay",
          "Peru",
          "Suriname",
          "Uruguay",
          "Venezuela"
         ],
         "legendgroup": "South America",
         "marker": {
          "color": "#FFA15A",
          "symbol": "circle"
         },
         "mode": "markers",
         "name": "South America",
         "scene": "scene",
         "showlegend": true,
         "type": "scatter3d",
         "x": [
          129855,
          22228,
          685203,
          60822,
          141746,
          35885,
          0,
          1281,
          19564,
          216309,
          1384,
          7462,
          5811
         ],
         "y": [
          9703938,
          1107139,
          34568833,
          4568495,
          6305562,
          1000214,
          1886,
          71256,
          716009,
          4132687,
          81078,
          982846,
          544210
         ],
         "z": [
          16.177,
          10.202,
          25.04,
          24.282,
          44.223,
          66.939,
          0,
          3.952,
          17.144,
          25.129,
          3.612,
          19.751,
          36.253
         ]
        },
        {
         "hovertemplate": "<b>%{hovertext}</b><br><br>continent=Oceania<br>total_deaths=%{x}<br>total_cases=%{y}<br>population_density=%{z}<extra></extra>",
         "hovertext": [
          "Australia",
          "Cook Islands",
          "Fiji",
          "French Polynesia",
          "Kiribati",
          "Marshall Islands",
          "Micronesia (country)",
          "Nauru",
          "New Caledonia",
          "New Zealand",
          "Palau",
          "Papua New Guinea",
          "Samoa",
          "Solomon Islands",
          "Tonga",
          "Tuvalu",
          "Vanuatu",
          "Wallis and Futuna"
         ],
         "legendgroup": "Oceania",
         "marker": {
          "color": "#19d3f3",
          "symbol": "circle"
         },
         "mode": "markers",
         "name": "Oceania",
         "scene": "scene",
         "showlegend": true,
         "type": "scatter3d",
         "x": [
          14763,
          1,
          878,
          649,
          13,
          17,
          30,
          1,
          314,
          1962,
          6,
          664,
          29,
          153,
          12,
          0,
          14,
          7
         ],
         "y": [
          10159613,
          6389,
          68223,
          76578,
          3430,
          15213,
          10010,
          4611,
          74222,
          1762204,
          5445,
          44931,
          15889,
          21544,
          16182,
          20,
          11937,
          761
         ],
         "z": [
          3.202,
          0,
          49.562,
          77.324,
          143.701,
          295.15,
          150.777,
          682.45,
          15.342,
          18.206,
          47.237,
          18.22,
          69.413,
          21.841,
          150.028,
          373.067,
          22.662,
          0
         ]
        }
       ],
       "layout": {
        "legend": {
         "title": {
          "text": "continent"
         },
         "tracegroupgap": 0
        },
        "scene": {
         "domain": {
          "x": [
           0,
           1
          ],
          "y": [
           0,
           1
          ]
         },
         "xaxis": {
          "title": {
           "text": "total_deaths"
          }
         },
         "yaxis": {
          "title": {
           "text": "total_cases"
          }
         },
         "zaxis": {
          "title": {
           "text": "population_density"
          }
         }
        },
        "template": {
         "data": {
          "bar": [
           {
            "error_x": {
             "color": "#2a3f5f"
            },
            "error_y": {
             "color": "#2a3f5f"
            },
            "marker": {
             "line": {
              "color": "#E5ECF6",
              "width": 0.5
             },
             "pattern": {
              "fillmode": "overlay",
              "size": 10,
              "solidity": 0.2
             }
            },
            "type": "bar"
           }
          ],
          "barpolar": [
           {
            "marker": {
             "line": {
              "color": "#E5ECF6",
              "width": 0.5
             },
             "pattern": {
              "fillmode": "overlay",
              "size": 10,
              "solidity": 0.2
             }
            },
            "type": "barpolar"
           }
          ],
          "carpet": [
           {
            "aaxis": {
             "endlinecolor": "#2a3f5f",
             "gridcolor": "white",
             "linecolor": "white",
             "minorgridcolor": "white",
             "startlinecolor": "#2a3f5f"
            },
            "baxis": {
             "endlinecolor": "#2a3f5f",
             "gridcolor": "white",
             "linecolor": "white",
             "minorgridcolor": "white",
             "startlinecolor": "#2a3f5f"
            },
            "type": "carpet"
           }
          ],
          "choropleth": [
           {
            "colorbar": {
             "outlinewidth": 0,
             "ticks": ""
            },
            "type": "choropleth"
           }
          ],
          "contour": [
           {
            "colorbar": {
             "outlinewidth": 0,
             "ticks": ""
            },
            "colorscale": [
             [
              0,
              "#0d0887"
             ],
             [
              0.1111111111111111,
              "#46039f"
             ],
             [
              0.2222222222222222,
              "#7201a8"
             ],
             [
              0.3333333333333333,
              "#9c179e"
             ],
             [
              0.4444444444444444,
              "#bd3786"
             ],
             [
              0.5555555555555556,
              "#d8576b"
             ],
             [
              0.6666666666666666,
              "#ed7953"
             ],
             [
              0.7777777777777778,
              "#fb9f3a"
             ],
             [
              0.8888888888888888,
              "#fdca26"
             ],
             [
              1,
              "#f0f921"
             ]
            ],
            "type": "contour"
           }
          ],
          "contourcarpet": [
           {
            "colorbar": {
             "outlinewidth": 0,
             "ticks": ""
            },
            "type": "contourcarpet"
           }
          ],
          "heatmap": [
           {
            "colorbar": {
             "outlinewidth": 0,
             "ticks": ""
            },
            "colorscale": [
             [
              0,
              "#0d0887"
             ],
             [
              0.1111111111111111,
              "#46039f"
             ],
             [
              0.2222222222222222,
              "#7201a8"
             ],
             [
              0.3333333333333333,
              "#9c179e"
             ],
             [
              0.4444444444444444,
              "#bd3786"
             ],
             [
              0.5555555555555556,
              "#d8576b"
             ],
             [
              0.6666666666666666,
              "#ed7953"
             ],
             [
              0.7777777777777778,
              "#fb9f3a"
             ],
             [
              0.8888888888888888,
              "#fdca26"
             ],
             [
              1,
              "#f0f921"
             ]
            ],
            "type": "heatmap"
           }
          ],
          "heatmapgl": [
           {
            "colorbar": {
             "outlinewidth": 0,
             "ticks": ""
            },
            "colorscale": [
             [
              0,
              "#0d0887"
             ],
             [
              0.1111111111111111,
              "#46039f"
             ],
             [
              0.2222222222222222,
              "#7201a8"
             ],
             [
              0.3333333333333333,
              "#9c179e"
             ],
             [
              0.4444444444444444,
              "#bd3786"
             ],
             [
              0.5555555555555556,
              "#d8576b"
             ],
             [
              0.6666666666666666,
              "#ed7953"
             ],
             [
              0.7777777777777778,
              "#fb9f3a"
             ],
             [
              0.8888888888888888,
              "#fdca26"
             ],
             [
              1,
              "#f0f921"
             ]
            ],
            "type": "heatmapgl"
           }
          ],
          "histogram": [
           {
            "marker": {
             "pattern": {
              "fillmode": "overlay",
              "size": 10,
              "solidity": 0.2
             }
            },
            "type": "histogram"
           }
          ],
          "histogram2d": [
           {
            "colorbar": {
             "outlinewidth": 0,
             "ticks": ""
            },
            "colorscale": [
             [
              0,
              "#0d0887"
             ],
             [
              0.1111111111111111,
              "#46039f"
             ],
             [
              0.2222222222222222,
              "#7201a8"
             ],
             [
              0.3333333333333333,
              "#9c179e"
             ],
             [
              0.4444444444444444,
              "#bd3786"
             ],
             [
              0.5555555555555556,
              "#d8576b"
             ],
             [
              0.6666666666666666,
              "#ed7953"
             ],
             [
              0.7777777777777778,
              "#fb9f3a"
             ],
             [
              0.8888888888888888,
              "#fdca26"
             ],
             [
              1,
              "#f0f921"
             ]
            ],
            "type": "histogram2d"
           }
          ],
          "histogram2dcontour": [
           {
            "colorbar": {
             "outlinewidth": 0,
             "ticks": ""
            },
            "colorscale": [
             [
              0,
              "#0d0887"
             ],
             [
              0.1111111111111111,
              "#46039f"
             ],
             [
              0.2222222222222222,
              "#7201a8"
             ],
             [
              0.3333333333333333,
              "#9c179e"
             ],
             [
              0.4444444444444444,
              "#bd3786"
             ],
             [
              0.5555555555555556,
              "#d8576b"
             ],
             [
              0.6666666666666666,
              "#ed7953"
             ],
             [
              0.7777777777777778,
              "#fb9f3a"
             ],
             [
              0.8888888888888888,
              "#fdca26"
             ],
             [
              1,
              "#f0f921"
             ]
            ],
            "type": "histogram2dcontour"
           }
          ],
          "mesh3d": [
           {
            "colorbar": {
             "outlinewidth": 0,
             "ticks": ""
            },
            "type": "mesh3d"
           }
          ],
          "parcoords": [
           {
            "line": {
             "colorbar": {
              "outlinewidth": 0,
              "ticks": ""
             }
            },
            "type": "parcoords"
           }
          ],
          "pie": [
           {
            "automargin": true,
            "type": "pie"
           }
          ],
          "scatter": [
           {
            "fillpattern": {
             "fillmode": "overlay",
             "size": 10,
             "solidity": 0.2
            },
            "type": "scatter"
           }
          ],
          "scatter3d": [
           {
            "line": {
             "colorbar": {
              "outlinewidth": 0,
              "ticks": ""
             }
            },
            "marker": {
             "colorbar": {
              "outlinewidth": 0,
              "ticks": ""
             }
            },
            "type": "scatter3d"
           }
          ],
          "scattercarpet": [
           {
            "marker": {
             "colorbar": {
              "outlinewidth": 0,
              "ticks": ""
             }
            },
            "type": "scattercarpet"
           }
          ],
          "scattergeo": [
           {
            "marker": {
             "colorbar": {
              "outlinewidth": 0,
              "ticks": ""
             }
            },
            "type": "scattergeo"
           }
          ],
          "scattergl": [
           {
            "marker": {
             "colorbar": {
              "outlinewidth": 0,
              "ticks": ""
             }
            },
            "type": "scattergl"
           }
          ],
          "scattermapbox": [
           {
            "marker": {
             "colorbar": {
              "outlinewidth": 0,
              "ticks": ""
             }
            },
            "type": "scattermapbox"
           }
          ],
          "scatterpolar": [
           {
            "marker": {
             "colorbar": {
              "outlinewidth": 0,
              "ticks": ""
             }
            },
            "type": "scatterpolar"
           }
          ],
          "scatterpolargl": [
           {
            "marker": {
             "colorbar": {
              "outlinewidth": 0,
              "ticks": ""
             }
            },
            "type": "scatterpolargl"
           }
          ],
          "scatterternary": [
           {
            "marker": {
             "colorbar": {
              "outlinewidth": 0,
              "ticks": ""
             }
            },
            "type": "scatterternary"
           }
          ],
          "surface": [
           {
            "colorbar": {
             "outlinewidth": 0,
             "ticks": ""
            },
            "colorscale": [
             [
              0,
              "#0d0887"
             ],
             [
              0.1111111111111111,
              "#46039f"
             ],
             [
              0.2222222222222222,
              "#7201a8"
             ],
             [
              0.3333333333333333,
              "#9c179e"
             ],
             [
              0.4444444444444444,
              "#bd3786"
             ],
             [
              0.5555555555555556,
              "#d8576b"
             ],
             [
              0.6666666666666666,
              "#ed7953"
             ],
             [
              0.7777777777777778,
              "#fb9f3a"
             ],
             [
              0.8888888888888888,
              "#fdca26"
             ],
             [
              1,
              "#f0f921"
             ]
            ],
            "type": "surface"
           }
          ],
          "table": [
           {
            "cells": {
             "fill": {
              "color": "#EBF0F8"
             },
             "line": {
              "color": "white"
             }
            },
            "header": {
             "fill": {
              "color": "#C8D4E3"
             },
             "line": {
              "color": "white"
             }
            },
            "type": "table"
           }
          ]
         },
         "layout": {
          "annotationdefaults": {
           "arrowcolor": "#2a3f5f",
           "arrowhead": 0,
           "arrowwidth": 1
          },
          "autotypenumbers": "strict",
          "coloraxis": {
           "colorbar": {
            "outlinewidth": 0,
            "ticks": ""
           }
          },
          "colorscale": {
           "diverging": [
            [
             0,
             "#8e0152"
            ],
            [
             0.1,
             "#c51b7d"
            ],
            [
             0.2,
             "#de77ae"
            ],
            [
             0.3,
             "#f1b6da"
            ],
            [
             0.4,
             "#fde0ef"
            ],
            [
             0.5,
             "#f7f7f7"
            ],
            [
             0.6,
             "#e6f5d0"
            ],
            [
             0.7,
             "#b8e186"
            ],
            [
             0.8,
             "#7fbc41"
            ],
            [
             0.9,
             "#4d9221"
            ],
            [
             1,
             "#276419"
            ]
           ],
           "sequential": [
            [
             0,
             "#0d0887"
            ],
            [
             0.1111111111111111,
             "#46039f"
            ],
            [
             0.2222222222222222,
             "#7201a8"
            ],
            [
             0.3333333333333333,
             "#9c179e"
            ],
            [
             0.4444444444444444,
             "#bd3786"
            ],
            [
             0.5555555555555556,
             "#d8576b"
            ],
            [
             0.6666666666666666,
             "#ed7953"
            ],
            [
             0.7777777777777778,
             "#fb9f3a"
            ],
            [
             0.8888888888888888,
             "#fdca26"
            ],
            [
             1,
             "#f0f921"
            ]
           ],
           "sequentialminus": [
            [
             0,
             "#0d0887"
            ],
            [
             0.1111111111111111,
             "#46039f"
            ],
            [
             0.2222222222222222,
             "#7201a8"
            ],
            [
             0.3333333333333333,
             "#9c179e"
            ],
            [
             0.4444444444444444,
             "#bd3786"
            ],
            [
             0.5555555555555556,
             "#d8576b"
            ],
            [
             0.6666666666666666,
             "#ed7953"
            ],
            [
             0.7777777777777778,
             "#fb9f3a"
            ],
            [
             0.8888888888888888,
             "#fdca26"
            ],
            [
             1,
             "#f0f921"
            ]
           ]
          },
          "colorway": [
           "#636efa",
           "#EF553B",
           "#00cc96",
           "#ab63fa",
           "#FFA15A",
           "#19d3f3",
           "#FF6692",
           "#B6E880",
           "#FF97FF",
           "#FECB52"
          ],
          "font": {
           "color": "#2a3f5f"
          },
          "geo": {
           "bgcolor": "white",
           "lakecolor": "white",
           "landcolor": "#E5ECF6",
           "showlakes": true,
           "showland": true,
           "subunitcolor": "white"
          },
          "hoverlabel": {
           "align": "left"
          },
          "hovermode": "closest",
          "mapbox": {
           "style": "light"
          },
          "paper_bgcolor": "white",
          "plot_bgcolor": "#E5ECF6",
          "polar": {
           "angularaxis": {
            "gridcolor": "white",
            "linecolor": "white",
            "ticks": ""
           },
           "bgcolor": "#E5ECF6",
           "radialaxis": {
            "gridcolor": "white",
            "linecolor": "white",
            "ticks": ""
           }
          },
          "scene": {
           "xaxis": {
            "backgroundcolor": "#E5ECF6",
            "gridcolor": "white",
            "gridwidth": 2,
            "linecolor": "white",
            "showbackground": true,
            "ticks": "",
            "zerolinecolor": "white"
           },
           "yaxis": {
            "backgroundcolor": "#E5ECF6",
            "gridcolor": "white",
            "gridwidth": 2,
            "linecolor": "white",
            "showbackground": true,
            "ticks": "",
            "zerolinecolor": "white"
           },
           "zaxis": {
            "backgroundcolor": "#E5ECF6",
            "gridcolor": "white",
            "gridwidth": 2,
            "linecolor": "white",
            "showbackground": true,
            "ticks": "",
            "zerolinecolor": "white"
           }
          },
          "shapedefaults": {
           "line": {
            "color": "#2a3f5f"
           }
          },
          "ternary": {
           "aaxis": {
            "gridcolor": "white",
            "linecolor": "white",
            "ticks": ""
           },
           "baxis": {
            "gridcolor": "white",
            "linecolor": "white",
            "ticks": ""
           },
           "bgcolor": "#E5ECF6",
           "caxis": {
            "gridcolor": "white",
            "linecolor": "white",
            "ticks": ""
           }
          },
          "title": {
           "x": 0.05
          },
          "xaxis": {
           "automargin": true,
           "gridcolor": "white",
           "linecolor": "white",
           "ticks": "",
           "title": {
            "standoff": 15
           },
           "zerolinecolor": "white",
           "zerolinewidth": 2
          },
          "yaxis": {
           "automargin": true,
           "gridcolor": "white",
           "linecolor": "white",
           "ticks": "",
           "title": {
            "standoff": 15
           },
           "zerolinecolor": "white",
           "zerolinewidth": 2
          }
         }
        },
        "title": {
         "text": "New cases and deaths rate in various countries"
        }
       }
      }
     },
     "metadata": {},
     "output_type": "display_data"
    }
   ],
   "source": [
    "fig=px.scatter_3d(df_new, z= 'population_density',y= 'total_cases',x='total_deaths',color='continent',hover_name='country',title='New cases and deaths rate in various countries')\n",
    "fig.show()"
   ]
  },
  {
   "cell_type": "code",
   "execution_count": 69,
   "metadata": {},
   "outputs": [
    {
     "data": {
      "application/vnd.plotly.v1+json": {
       "config": {
        "plotlyServerURL": "https://plot.ly"
       },
       "data": [
        {
         "hovertemplate": "country=Afghanistan<br>continent=Asia<br>population_density=%{x}<br>reproduction_rate=%{y}<extra></extra>",
         "legendgroup": "Afghanistan",
         "marker": {
          "color": "#636efa",
          "symbol": "circle"
         },
         "mode": "markers",
         "name": "Afghanistan",
         "orientation": "v",
         "showlegend": true,
         "type": "scatter",
         "x": [
          54.422
         ],
         "xaxis": "x",
         "y": [
          1.06
         ],
         "yaxis": "y"
        },
        {
         "hovertemplate": "country=Albania<br>continent=Europe<br>population_density=%{x}<br>reproduction_rate=%{y}<extra></extra>",
         "legendgroup": "Albania",
         "marker": {
          "color": "#EF553B",
          "symbol": "circle"
         },
         "mode": "markers",
         "name": "Albania",
         "orientation": "v",
         "showlegend": true,
         "type": "scatter",
         "x": [
          104.871
         ],
         "xaxis": "x2",
         "y": [
          0.59
         ],
         "yaxis": "y2"
        },
        {
         "hovertemplate": "country=Algeria<br>continent=Africa<br>population_density=%{x}<br>reproduction_rate=%{y}<extra></extra>",
         "legendgroup": "Algeria",
         "marker": {
          "color": "#00cc96",
          "symbol": "circle"
         },
         "mode": "markers",
         "name": "Algeria",
         "orientation": "v",
         "showlegend": true,
         "type": "scatter",
         "x": [
          17.348
         ],
         "xaxis": "x3",
         "y": [
          0.48
         ],
         "yaxis": "y3"
        },
        {
         "hovertemplate": "country=Andorra<br>continent=Europe<br>population_density=%{x}<br>reproduction_rate=%{y}<extra></extra>",
         "legendgroup": "Andorra",
         "marker": {
          "color": "#ab63fa",
          "symbol": "circle"
         },
         "mode": "markers",
         "name": "Andorra",
         "orientation": "v",
         "showlegend": true,
         "type": "scatter",
         "x": [
          163.755
         ],
         "xaxis": "x2",
         "y": [
          0.63
         ],
         "yaxis": "y2"
        },
        {
         "hovertemplate": "country=Angola<br>continent=Africa<br>population_density=%{x}<br>reproduction_rate=%{y}<extra></extra>",
         "legendgroup": "Angola",
         "marker": {
          "color": "#FFA15A",
          "symbol": "circle"
         },
         "mode": "markers",
         "name": "Angola",
         "orientation": "v",
         "showlegend": true,
         "type": "scatter",
         "x": [
          23.89
         ],
         "xaxis": "x3",
         "y": [
          0.02
         ],
         "yaxis": "y3"
        },
        {
         "hovertemplate": "country=Anguilla<br>continent=North America<br>population_density=%{x}<br>reproduction_rate=%{y}<extra></extra>",
         "legendgroup": "Anguilla",
         "marker": {
          "color": "#19d3f3",
          "symbol": "circle"
         },
         "mode": "markers",
         "name": "Anguilla",
         "orientation": "v",
         "showlegend": true,
         "type": "scatter",
         "x": [
          0
         ],
         "xaxis": "x4",
         "y": [
          0
         ],
         "yaxis": "y4"
        },
        {
         "hovertemplate": "country=Antigua and Barbuda<br>continent=North America<br>population_density=%{x}<br>reproduction_rate=%{y}<extra></extra>",
         "legendgroup": "Antigua and Barbuda",
         "marker": {
          "color": "#FF6692",
          "symbol": "circle"
         },
         "mode": "markers",
         "name": "Antigua and Barbuda",
         "orientation": "v",
         "showlegend": true,
         "type": "scatter",
         "x": [
          231.845
         ],
         "xaxis": "x4",
         "y": [
          0.37
         ],
         "yaxis": "y4"
        },
        {
         "hovertemplate": "country=Argentina<br>continent=South America<br>population_density=%{x}<br>reproduction_rate=%{y}<extra></extra>",
         "legendgroup": "Argentina",
         "marker": {
          "color": "#B6E880",
          "symbol": "circle"
         },
         "mode": "markers",
         "name": "Argentina",
         "orientation": "v",
         "showlegend": true,
         "type": "scatter",
         "x": [
          16.177
         ],
         "xaxis": "x5",
         "y": [
          0.86
         ],
         "yaxis": "y5"
        },
        {
         "hovertemplate": "country=Armenia<br>continent=Asia<br>population_density=%{x}<br>reproduction_rate=%{y}<extra></extra>",
         "legendgroup": "Armenia",
         "marker": {
          "color": "#FF97FF",
          "symbol": "circle"
         },
         "mode": "markers",
         "name": "Armenia",
         "orientation": "v",
         "showlegend": true,
         "type": "scatter",
         "x": [
          102.931
         ],
         "xaxis": "x",
         "y": [
          -0.01
         ],
         "yaxis": "y"
        },
        {
         "hovertemplate": "country=Aruba<br>continent=North America<br>population_density=%{x}<br>reproduction_rate=%{y}<extra></extra>",
         "legendgroup": "Aruba",
         "marker": {
          "color": "#FECB52",
          "symbol": "circle"
         },
         "mode": "markers",
         "name": "Aruba",
         "orientation": "v",
         "showlegend": true,
         "type": "scatter",
         "x": [
          584.8
         ],
         "xaxis": "x4",
         "y": [
          0
         ],
         "yaxis": "y4"
        },
        {
         "hovertemplate": "country=Australia<br>continent=Oceania<br>population_density=%{x}<br>reproduction_rate=%{y}<extra></extra>",
         "legendgroup": "Australia",
         "marker": {
          "color": "#636efa",
          "symbol": "circle"
         },
         "mode": "markers",
         "name": "Australia",
         "orientation": "v",
         "showlegend": true,
         "type": "scatter",
         "x": [
          3.202
         ],
         "xaxis": "x6",
         "y": [
          0.3
         ],
         "yaxis": "y6"
        },
        {
         "hovertemplate": "country=Austria<br>continent=Europe<br>population_density=%{x}<br>reproduction_rate=%{y}<extra></extra>",
         "legendgroup": "Austria",
         "marker": {
          "color": "#EF553B",
          "symbol": "circle"
         },
         "mode": "markers",
         "name": "Austria",
         "orientation": "v",
         "showlegend": true,
         "type": "scatter",
         "x": [
          106.749
         ],
         "xaxis": "x2",
         "y": [
          1.78
         ],
         "yaxis": "y2"
        },
        {
         "hovertemplate": "country=Azerbaijan<br>continent=Asia<br>population_density=%{x}<br>reproduction_rate=%{y}<extra></extra>",
         "legendgroup": "Azerbaijan",
         "marker": {
          "color": "#00cc96",
          "symbol": "circle"
         },
         "mode": "markers",
         "name": "Azerbaijan",
         "orientation": "v",
         "showlegend": true,
         "type": "scatter",
         "x": [
          119.309
         ],
         "xaxis": "x",
         "y": [
          0.79
         ],
         "yaxis": "y"
        },
        {
         "hovertemplate": "country=Bahamas<br>continent=North America<br>population_density=%{x}<br>reproduction_rate=%{y}<extra></extra>",
         "legendgroup": "Bahamas",
         "marker": {
          "color": "#ab63fa",
          "symbol": "circle"
         },
         "mode": "markers",
         "name": "Bahamas",
         "orientation": "v",
         "showlegend": true,
         "type": "scatter",
         "x": [
          39.497
         ],
         "xaxis": "x4",
         "y": [
          1
         ],
         "yaxis": "y4"
        },
        {
         "hovertemplate": "country=Bahrain<br>continent=Asia<br>population_density=%{x}<br>reproduction_rate=%{y}<extra></extra>",
         "legendgroup": "Bahrain",
         "marker": {
          "color": "#FFA15A",
          "symbol": "circle"
         },
         "mode": "markers",
         "name": "Bahrain",
         "orientation": "v",
         "showlegend": true,
         "type": "scatter",
         "x": [
          1935.907
         ],
         "xaxis": "x",
         "y": [
          1.13
         ],
         "yaxis": "y"
        },
        {
         "hovertemplate": "country=Bangladesh<br>continent=Asia<br>population_density=%{x}<br>reproduction_rate=%{y}<extra></extra>",
         "legendgroup": "Bangladesh",
         "marker": {
          "color": "#19d3f3",
          "symbol": "circle"
         },
         "mode": "markers",
         "name": "Bangladesh",
         "orientation": "v",
         "showlegend": true,
         "type": "scatter",
         "x": [
          1265.036
         ],
         "xaxis": "x",
         "y": [
          1.36
         ],
         "yaxis": "y"
        },
        {
         "hovertemplate": "country=Barbados<br>continent=North America<br>population_density=%{x}<br>reproduction_rate=%{y}<extra></extra>",
         "legendgroup": "Barbados",
         "marker": {
          "color": "#FF6692",
          "symbol": "circle"
         },
         "mode": "markers",
         "name": "Barbados",
         "orientation": "v",
         "showlegend": true,
         "type": "scatter",
         "x": [
          664.463
         ],
         "xaxis": "x4",
         "y": [
          0.64
         ],
         "yaxis": "y4"
        },
        {
         "hovertemplate": "country=Belarus<br>continent=Europe<br>population_density=%{x}<br>reproduction_rate=%{y}<extra></extra>",
         "legendgroup": "Belarus",
         "marker": {
          "color": "#B6E880",
          "symbol": "circle"
         },
         "mode": "markers",
         "name": "Belarus",
         "orientation": "v",
         "showlegend": true,
         "type": "scatter",
         "x": [
          46.858
         ],
         "xaxis": "x2",
         "y": [
          0
         ],
         "yaxis": "y2"
        },
        {
         "hovertemplate": "country=Belgium<br>continent=Europe<br>population_density=%{x}<br>reproduction_rate=%{y}<extra></extra>",
         "legendgroup": "Belgium",
         "marker": {
          "color": "#FF97FF",
          "symbol": "circle"
         },
         "mode": "markers",
         "name": "Belgium",
         "orientation": "v",
         "showlegend": true,
         "type": "scatter",
         "x": [
          375.564
         ],
         "xaxis": "x2",
         "y": [
          1.25
         ],
         "yaxis": "y2"
        },
        {
         "hovertemplate": "country=Belize<br>continent=North America<br>population_density=%{x}<br>reproduction_rate=%{y}<extra></extra>",
         "legendgroup": "Belize",
         "marker": {
          "color": "#FECB52",
          "symbol": "circle"
         },
         "mode": "markers",
         "name": "Belize",
         "orientation": "v",
         "showlegend": true,
         "type": "scatter",
         "x": [
          16.426
         ],
         "xaxis": "x4",
         "y": [
          1.18
         ],
         "yaxis": "y4"
        },
        {
         "hovertemplate": "country=Benin<br>continent=Africa<br>population_density=%{x}<br>reproduction_rate=%{y}<extra></extra>",
         "legendgroup": "Benin",
         "marker": {
          "color": "#636efa",
          "symbol": "circle"
         },
         "mode": "markers",
         "name": "Benin",
         "orientation": "v",
         "showlegend": true,
         "type": "scatter",
         "x": [
          99.11
         ],
         "xaxis": "x3",
         "y": [
          0.01
         ],
         "yaxis": "y3"
        },
        {
         "hovertemplate": "country=Bermuda<br>continent=North America<br>population_density=%{x}<br>reproduction_rate=%{y}<extra></extra>",
         "legendgroup": "Bermuda",
         "marker": {
          "color": "#EF553B",
          "symbol": "circle"
         },
         "mode": "markers",
         "name": "Bermuda",
         "orientation": "v",
         "showlegend": true,
         "type": "scatter",
         "x": [
          1308.82
         ],
         "xaxis": "x4",
         "y": [
          0
         ],
         "yaxis": "y4"
        },
        {
         "hovertemplate": "country=Bhutan<br>continent=Asia<br>population_density=%{x}<br>reproduction_rate=%{y}<extra></extra>",
         "legendgroup": "Bhutan",
         "marker": {
          "color": "#00cc96",
          "symbol": "circle"
         },
         "mode": "markers",
         "name": "Bhutan",
         "orientation": "v",
         "showlegend": true,
         "type": "scatter",
         "x": [
          21.188
         ],
         "xaxis": "x",
         "y": [
          1.03
         ],
         "yaxis": "y"
        },
        {
         "hovertemplate": "country=Bolivia<br>continent=South America<br>population_density=%{x}<br>reproduction_rate=%{y}<extra></extra>",
         "legendgroup": "Bolivia",
         "marker": {
          "color": "#ab63fa",
          "symbol": "circle"
         },
         "mode": "markers",
         "name": "Bolivia",
         "orientation": "v",
         "showlegend": true,
         "type": "scatter",
         "x": [
          10.202
         ],
         "xaxis": "x5",
         "y": [
          0.53
         ],
         "yaxis": "y5"
        },
        {
         "hovertemplate": "country=Bonaire Sint Eustatius and Saba<br>continent=North America<br>population_density=%{x}<br>reproduction_rate=%{y}<extra></extra>",
         "legendgroup": "Bonaire Sint Eustatius and Saba",
         "marker": {
          "color": "#FFA15A",
          "symbol": "circle"
         },
         "mode": "markers",
         "name": "Bonaire Sint Eustatius and Saba",
         "orientation": "v",
         "showlegend": true,
         "type": "scatter",
         "x": [
          0
         ],
         "xaxis": "x4",
         "y": [
          0
         ],
         "yaxis": "y4"
        },
        {
         "hovertemplate": "country=Bosnia and Herzegovina<br>continent=Europe<br>population_density=%{x}<br>reproduction_rate=%{y}<extra></extra>",
         "legendgroup": "Bosnia and Herzegovina",
         "marker": {
          "color": "#19d3f3",
          "symbol": "circle"
         },
         "mode": "markers",
         "name": "Bosnia and Herzegovina",
         "orientation": "v",
         "showlegend": true,
         "type": "scatter",
         "x": [
          68.496
         ],
         "xaxis": "x2",
         "y": [
          0.76
         ],
         "yaxis": "y2"
        },
        {
         "hovertemplate": "country=Botswana<br>continent=Africa<br>population_density=%{x}<br>reproduction_rate=%{y}<extra></extra>",
         "legendgroup": "Botswana",
         "marker": {
          "color": "#FF6692",
          "symbol": "circle"
         },
         "mode": "markers",
         "name": "Botswana",
         "orientation": "v",
         "showlegend": true,
         "type": "scatter",
         "x": [
          4.044
         ],
         "xaxis": "x3",
         "y": [
          0.39
         ],
         "yaxis": "y3"
        },
        {
         "hovertemplate": "country=Brazil<br>continent=South America<br>population_density=%{x}<br>reproduction_rate=%{y}<extra></extra>",
         "legendgroup": "Brazil",
         "marker": {
          "color": "#B6E880",
          "symbol": "circle"
         },
         "mode": "markers",
         "name": "Brazil",
         "orientation": "v",
         "showlegend": true,
         "type": "scatter",
         "x": [
          25.04
         ],
         "xaxis": "x5",
         "y": [
          1.03
         ],
         "yaxis": "y5"
        },
        {
         "hovertemplate": "country=British Virgin Islands<br>continent=North America<br>population_density=%{x}<br>reproduction_rate=%{y}<extra></extra>",
         "legendgroup": "British Virgin Islands",
         "marker": {
          "color": "#FF97FF",
          "symbol": "circle"
         },
         "mode": "markers",
         "name": "British Virgin Islands",
         "orientation": "v",
         "showlegend": true,
         "type": "scatter",
         "x": [
          207.973
         ],
         "xaxis": "x4",
         "y": [
          0
         ],
         "yaxis": "y4"
        },
        {
         "hovertemplate": "country=Brunei<br>continent=Asia<br>population_density=%{x}<br>reproduction_rate=%{y}<extra></extra>",
         "legendgroup": "Brunei",
         "marker": {
          "color": "#FECB52",
          "symbol": "circle"
         },
         "mode": "markers",
         "name": "Brunei",
         "orientation": "v",
         "showlegend": true,
         "type": "scatter",
         "x": [
          81.347
         ],
         "xaxis": "x",
         "y": [
          0.76
         ],
         "yaxis": "y"
        },
        {
         "hovertemplate": "country=Bulgaria<br>continent=Europe<br>population_density=%{x}<br>reproduction_rate=%{y}<extra></extra>",
         "legendgroup": "Bulgaria",
         "marker": {
          "color": "#636efa",
          "symbol": "circle"
         },
         "mode": "markers",
         "name": "Bulgaria",
         "orientation": "v",
         "showlegend": true,
         "type": "scatter",
         "x": [
          65.18
         ],
         "xaxis": "x2",
         "y": [
          0.98
         ],
         "yaxis": "y2"
        },
        {
         "hovertemplate": "country=Burkina Faso<br>continent=Africa<br>population_density=%{x}<br>reproduction_rate=%{y}<extra></extra>",
         "legendgroup": "Burkina Faso",
         "marker": {
          "color": "#EF553B",
          "symbol": "circle"
         },
         "mode": "markers",
         "name": "Burkina Faso",
         "orientation": "v",
         "showlegend": true,
         "type": "scatter",
         "x": [
          70.151
         ],
         "xaxis": "x3",
         "y": [
          0
         ],
         "yaxis": "y3"
        },
        {
         "hovertemplate": "country=Burundi<br>continent=Africa<br>population_density=%{x}<br>reproduction_rate=%{y}<extra></extra>",
         "legendgroup": "Burundi",
         "marker": {
          "color": "#00cc96",
          "symbol": "circle"
         },
         "mode": "markers",
         "name": "Burundi",
         "orientation": "v",
         "showlegend": true,
         "type": "scatter",
         "x": [
          423.062
         ],
         "xaxis": "x3",
         "y": [
          0.59
         ],
         "yaxis": "y3"
        },
        {
         "hovertemplate": "country=Cambodia<br>continent=Asia<br>population_density=%{x}<br>reproduction_rate=%{y}<extra></extra>",
         "legendgroup": "Cambodia",
         "marker": {
          "color": "#ab63fa",
          "symbol": "circle"
         },
         "mode": "markers",
         "name": "Cambodia",
         "orientation": "v",
         "showlegend": true,
         "type": "scatter",
         "x": [
          90.672
         ],
         "xaxis": "x",
         "y": [
          0.74
         ],
         "yaxis": "y"
        },
        {
         "hovertemplate": "country=Cameroon<br>continent=Africa<br>population_density=%{x}<br>reproduction_rate=%{y}<extra></extra>",
         "legendgroup": "Cameroon",
         "marker": {
          "color": "#FFA15A",
          "symbol": "circle"
         },
         "mode": "markers",
         "name": "Cameroon",
         "orientation": "v",
         "showlegend": true,
         "type": "scatter",
         "x": [
          50.885
         ],
         "xaxis": "x3",
         "y": [
          0.01
         ],
         "yaxis": "y3"
        },
        {
         "hovertemplate": "country=Canada<br>continent=North America<br>population_density=%{x}<br>reproduction_rate=%{y}<extra></extra>",
         "legendgroup": "Canada",
         "marker": {
          "color": "#19d3f3",
          "symbol": "circle"
         },
         "mode": "markers",
         "name": "Canada",
         "orientation": "v",
         "showlegend": true,
         "type": "scatter",
         "x": [
          4.037
         ],
         "xaxis": "x4",
         "y": [
          0.93
         ],
         "yaxis": "y4"
        },
        {
         "hovertemplate": "country=Cape Verde<br>continent=Africa<br>population_density=%{x}<br>reproduction_rate=%{y}<extra></extra>",
         "legendgroup": "Cape Verde",
         "marker": {
          "color": "#FF6692",
          "symbol": "circle"
         },
         "mode": "markers",
         "name": "Cape Verde",
         "orientation": "v",
         "showlegend": true,
         "type": "scatter",
         "x": [
          135.58
         ],
         "xaxis": "x3",
         "y": [
          0.96
         ],
         "yaxis": "y3"
        },
        {
         "hovertemplate": "country=Cayman Islands<br>continent=North America<br>population_density=%{x}<br>reproduction_rate=%{y}<extra></extra>",
         "legendgroup": "Cayman Islands",
         "marker": {
          "color": "#B6E880",
          "symbol": "circle"
         },
         "mode": "markers",
         "name": "Cayman Islands",
         "orientation": "v",
         "showlegend": true,
         "type": "scatter",
         "x": [
          256.496
         ],
         "xaxis": "x4",
         "y": [
          0
         ],
         "yaxis": "y4"
        },
        {
         "hovertemplate": "country=Central African Republic<br>continent=Africa<br>population_density=%{x}<br>reproduction_rate=%{y}<extra></extra>",
         "legendgroup": "Central African Republic",
         "marker": {
          "color": "#FF97FF",
          "symbol": "circle"
         },
         "mode": "markers",
         "name": "Central African Republic",
         "orientation": "v",
         "showlegend": true,
         "type": "scatter",
         "x": [
          7.479
         ],
         "xaxis": "x3",
         "y": [
          0.12
         ],
         "yaxis": "y3"
        },
        {
         "hovertemplate": "country=Chad<br>continent=Africa<br>population_density=%{x}<br>reproduction_rate=%{y}<extra></extra>",
         "legendgroup": "Chad",
         "marker": {
          "color": "#FECB52",
          "symbol": "circle"
         },
         "mode": "markers",
         "name": "Chad",
         "orientation": "v",
         "showlegend": true,
         "type": "scatter",
         "x": [
          11.833
         ],
         "xaxis": "x3",
         "y": [
          0.63
         ],
         "yaxis": "y3"
        },
        {
         "hovertemplate": "country=Chile<br>continent=South America<br>population_density=%{x}<br>reproduction_rate=%{y}<extra></extra>",
         "legendgroup": "Chile",
         "marker": {
          "color": "#636efa",
          "symbol": "circle"
         },
         "mode": "markers",
         "name": "Chile",
         "orientation": "v",
         "showlegend": true,
         "type": "scatter",
         "x": [
          24.282
         ],
         "xaxis": "x5",
         "y": [
          0.63
         ],
         "yaxis": "y5"
        },
        {
         "hovertemplate": "country=China<br>continent=Asia<br>population_density=%{x}<br>reproduction_rate=%{y}<extra></extra>",
         "legendgroup": "China",
         "marker": {
          "color": "#EF553B",
          "symbol": "circle"
         },
         "mode": "markers",
         "name": "China",
         "orientation": "v",
         "showlegend": true,
         "type": "scatter",
         "x": [
          147.674
         ],
         "xaxis": "x",
         "y": [
          0.88
         ],
         "yaxis": "y"
        },
        {
         "hovertemplate": "country=Colombia<br>continent=South America<br>population_density=%{x}<br>reproduction_rate=%{y}<extra></extra>",
         "legendgroup": "Colombia",
         "marker": {
          "color": "#00cc96",
          "symbol": "circle"
         },
         "mode": "markers",
         "name": "Colombia",
         "orientation": "v",
         "showlegend": true,
         "type": "scatter",
         "x": [
          44.223
         ],
         "xaxis": "x5",
         "y": [
          0.69
         ],
         "yaxis": "y5"
        },
        {
         "hovertemplate": "country=Comoros<br>continent=Africa<br>population_density=%{x}<br>reproduction_rate=%{y}<extra></extra>",
         "legendgroup": "Comoros",
         "marker": {
          "color": "#ab63fa",
          "symbol": "circle"
         },
         "mode": "markers",
         "name": "Comoros",
         "orientation": "v",
         "showlegend": true,
         "type": "scatter",
         "x": [
          437.352
         ],
         "xaxis": "x3",
         "y": [
          0.32
         ],
         "yaxis": "y3"
        },
        {
         "hovertemplate": "country=Congo<br>continent=Africa<br>population_density=%{x}<br>reproduction_rate=%{y}<extra></extra>",
         "legendgroup": "Congo",
         "marker": {
          "color": "#FFA15A",
          "symbol": "circle"
         },
         "mode": "markers",
         "name": "Congo",
         "orientation": "v",
         "showlegend": true,
         "type": "scatter",
         "x": [
          15.405
         ],
         "xaxis": "x3",
         "y": [
          0.01
         ],
         "yaxis": "y3"
        },
        {
         "hovertemplate": "country=Cook Islands<br>continent=Oceania<br>population_density=%{x}<br>reproduction_rate=%{y}<extra></extra>",
         "legendgroup": "Cook Islands",
         "marker": {
          "color": "#19d3f3",
          "symbol": "circle"
         },
         "mode": "markers",
         "name": "Cook Islands",
         "orientation": "v",
         "showlegend": true,
         "type": "scatter",
         "x": [
          0
         ],
         "xaxis": "x6",
         "y": [
          0
         ],
         "yaxis": "y6"
        },
        {
         "hovertemplate": "country=Costa Rica<br>continent=North America<br>population_density=%{x}<br>reproduction_rate=%{y}<extra></extra>",
         "legendgroup": "Costa Rica",
         "marker": {
          "color": "#FF6692",
          "symbol": "circle"
         },
         "mode": "markers",
         "name": "Costa Rica",
         "orientation": "v",
         "showlegend": true,
         "type": "scatter",
         "x": [
          96.079
         ],
         "xaxis": "x4",
         "y": [
          1.25
         ],
         "yaxis": "y4"
        },
        {
         "hovertemplate": "country=Cote d'Ivoire<br>continent=Africa<br>population_density=%{x}<br>reproduction_rate=%{y}<extra></extra>",
         "legendgroup": "Cote d'Ivoire",
         "marker": {
          "color": "#B6E880",
          "symbol": "circle"
         },
         "mode": "markers",
         "name": "Cote d'Ivoire",
         "orientation": "v",
         "showlegend": true,
         "type": "scatter",
         "x": [
          76.399
         ],
         "xaxis": "x3",
         "y": [
          0.6
         ],
         "yaxis": "y3"
        },
        {
         "hovertemplate": "country=Croatia<br>continent=Europe<br>population_density=%{x}<br>reproduction_rate=%{y}<extra></extra>",
         "legendgroup": "Croatia",
         "marker": {
          "color": "#FF97FF",
          "symbol": "circle"
         },
         "mode": "markers",
         "name": "Croatia",
         "orientation": "v",
         "showlegend": true,
         "type": "scatter",
         "x": [
          73.726
         ],
         "xaxis": "x2",
         "y": [
          1.05
         ],
         "yaxis": "y2"
        },
        {
         "hovertemplate": "country=Cuba<br>continent=North America<br>population_density=%{x}<br>reproduction_rate=%{y}<extra></extra>",
         "legendgroup": "Cuba",
         "marker": {
          "color": "#FECB52",
          "symbol": "circle"
         },
         "mode": "markers",
         "name": "Cuba",
         "orientation": "v",
         "showlegend": true,
         "type": "scatter",
         "x": [
          110.408
         ],
         "xaxis": "x4",
         "y": [
          0.65
         ],
         "yaxis": "y4"
        },
        {
         "hovertemplate": "country=Curacao<br>continent=North America<br>population_density=%{x}<br>reproduction_rate=%{y}<extra></extra>",
         "legendgroup": "Curacao",
         "marker": {
          "color": "#636efa",
          "symbol": "circle"
         },
         "mode": "markers",
         "name": "Curacao",
         "orientation": "v",
         "showlegend": true,
         "type": "scatter",
         "x": [
          362.644
         ],
         "xaxis": "x4",
         "y": [
          0
         ],
         "yaxis": "y4"
        },
        {
         "hovertemplate": "country=Cyprus<br>continent=Europe<br>population_density=%{x}<br>reproduction_rate=%{y}<extra></extra>",
         "legendgroup": "Cyprus",
         "marker": {
          "color": "#EF553B",
          "symbol": "circle"
         },
         "mode": "markers",
         "name": "Cyprus",
         "orientation": "v",
         "showlegend": true,
         "type": "scatter",
         "x": [
          127.657
         ],
         "xaxis": "x2",
         "y": [
          0.61
         ],
         "yaxis": "y2"
        },
        {
         "hovertemplate": "country=Czechia<br>continent=Europe<br>population_density=%{x}<br>reproduction_rate=%{y}<extra></extra>",
         "legendgroup": "Czechia",
         "marker": {
          "color": "#00cc96",
          "symbol": "circle"
         },
         "mode": "markers",
         "name": "Czechia",
         "orientation": "v",
         "showlegend": true,
         "type": "scatter",
         "x": [
          137.176
         ],
         "xaxis": "x2",
         "y": [
          1.26
         ],
         "yaxis": "y2"
        },
        {
         "hovertemplate": "country=Democratic Republic of Congo<br>continent=Africa<br>population_density=%{x}<br>reproduction_rate=%{y}<extra></extra>",
         "legendgroup": "Democratic Republic of Congo",
         "marker": {
          "color": "#ab63fa",
          "symbol": "circle"
         },
         "mode": "markers",
         "name": "Democratic Republic of Congo",
         "orientation": "v",
         "showlegend": true,
         "type": "scatter",
         "x": [
          35.879
         ],
         "xaxis": "x3",
         "y": [
          0.49
         ],
         "yaxis": "y3"
        },
        {
         "hovertemplate": "country=Denmark<br>continent=Europe<br>population_density=%{x}<br>reproduction_rate=%{y}<extra></extra>",
         "legendgroup": "Denmark",
         "marker": {
          "color": "#FFA15A",
          "symbol": "circle"
         },
         "mode": "markers",
         "name": "Denmark",
         "orientation": "v",
         "showlegend": true,
         "type": "scatter",
         "x": [
          136.52
         ],
         "xaxis": "x2",
         "y": [
          0.95
         ],
         "yaxis": "y2"
        },
        {
         "hovertemplate": "country=Djibouti<br>continent=Africa<br>population_density=%{x}<br>reproduction_rate=%{y}<extra></extra>",
         "legendgroup": "Djibouti",
         "marker": {
          "color": "#19d3f3",
          "symbol": "circle"
         },
         "mode": "markers",
         "name": "Djibouti",
         "orientation": "v",
         "showlegend": true,
         "type": "scatter",
         "x": [
          41.285
         ],
         "xaxis": "x3",
         "y": [
          0
         ],
         "yaxis": "y3"
        },
        {
         "hovertemplate": "country=Dominica<br>continent=North America<br>population_density=%{x}<br>reproduction_rate=%{y}<extra></extra>",
         "legendgroup": "Dominica",
         "marker": {
          "color": "#FF6692",
          "symbol": "circle"
         },
         "mode": "markers",
         "name": "Dominica",
         "orientation": "v",
         "showlegend": true,
         "type": "scatter",
         "x": [
          98.567
         ],
         "xaxis": "x4",
         "y": [
          0.03
         ],
         "yaxis": "y4"
        },
        {
         "hovertemplate": "country=Dominican Republic<br>continent=North America<br>population_density=%{x}<br>reproduction_rate=%{y}<extra></extra>",
         "legendgroup": "Dominican Republic",
         "marker": {
          "color": "#B6E880",
          "symbol": "circle"
         },
         "mode": "markers",
         "name": "Dominican Republic",
         "orientation": "v",
         "showlegend": true,
         "type": "scatter",
         "x": [
          222.873
         ],
         "xaxis": "x4",
         "y": [
          0.31
         ],
         "yaxis": "y4"
        },
        {
         "hovertemplate": "country=Ecuador<br>continent=South America<br>population_density=%{x}<br>reproduction_rate=%{y}<extra></extra>",
         "legendgroup": "Ecuador",
         "marker": {
          "color": "#FF97FF",
          "symbol": "circle"
         },
         "mode": "markers",
         "name": "Ecuador",
         "orientation": "v",
         "showlegend": true,
         "type": "scatter",
         "x": [
          66.939
         ],
         "xaxis": "x5",
         "y": [
          0.61
         ],
         "yaxis": "y5"
        },
        {
         "hovertemplate": "country=Egypt<br>continent=Africa<br>population_density=%{x}<br>reproduction_rate=%{y}<extra></extra>",
         "legendgroup": "Egypt",
         "marker": {
          "color": "#FECB52",
          "symbol": "circle"
         },
         "mode": "markers",
         "name": "Egypt",
         "orientation": "v",
         "showlegend": true,
         "type": "scatter",
         "x": [
          97.999
         ],
         "xaxis": "x3",
         "y": [
          0
         ],
         "yaxis": "y3"
        },
        {
         "hovertemplate": "country=El Salvador<br>continent=North America<br>population_density=%{x}<br>reproduction_rate=%{y}<extra></extra>",
         "legendgroup": "El Salvador",
         "marker": {
          "color": "#636efa",
          "symbol": "circle"
         },
         "mode": "markers",
         "name": "El Salvador",
         "orientation": "v",
         "showlegend": true,
         "type": "scatter",
         "x": [
          307.811
         ],
         "xaxis": "x4",
         "y": [
          0.01
         ],
         "yaxis": "y4"
        },
        {
         "hovertemplate": "country=Equatorial Guinea<br>continent=Africa<br>population_density=%{x}<br>reproduction_rate=%{y}<extra></extra>",
         "legendgroup": "Equatorial Guinea",
         "marker": {
          "color": "#EF553B",
          "symbol": "circle"
         },
         "mode": "markers",
         "name": "Equatorial Guinea",
         "orientation": "v",
         "showlegend": true,
         "type": "scatter",
         "x": [
          45.194
         ],
         "xaxis": "x3",
         "y": [
          0.68
         ],
         "yaxis": "y3"
        },
        {
         "hovertemplate": "country=Eritrea<br>continent=Africa<br>population_density=%{x}<br>reproduction_rate=%{y}<extra></extra>",
         "legendgroup": "Eritrea",
         "marker": {
          "color": "#00cc96",
          "symbol": "circle"
         },
         "mode": "markers",
         "name": "Eritrea",
         "orientation": "v",
         "showlegend": true,
         "type": "scatter",
         "x": [
          44.304
         ],
         "xaxis": "x3",
         "y": [
          0.56
         ],
         "yaxis": "y3"
        },
        {
         "hovertemplate": "country=Estonia<br>continent=Europe<br>population_density=%{x}<br>reproduction_rate=%{y}<extra></extra>",
         "legendgroup": "Estonia",
         "marker": {
          "color": "#ab63fa",
          "symbol": "circle"
         },
         "mode": "markers",
         "name": "Estonia",
         "orientation": "v",
         "showlegend": true,
         "type": "scatter",
         "x": [
          31.033
         ],
         "xaxis": "x2",
         "y": [
          1.06
         ],
         "yaxis": "y2"
        },
        {
         "hovertemplate": "country=Eswatini<br>continent=Africa<br>population_density=%{x}<br>reproduction_rate=%{y}<extra></extra>",
         "legendgroup": "Eswatini",
         "marker": {
          "color": "#FFA15A",
          "symbol": "circle"
         },
         "mode": "markers",
         "name": "Eswatini",
         "orientation": "v",
         "showlegend": true,
         "type": "scatter",
         "x": [
          79.492
         ],
         "xaxis": "x3",
         "y": [
          -0.09
         ],
         "yaxis": "y3"
        },
        {
         "hovertemplate": "country=Ethiopia<br>continent=Africa<br>population_density=%{x}<br>reproduction_rate=%{y}<extra></extra>",
         "legendgroup": "Ethiopia",
         "marker": {
          "color": "#19d3f3",
          "symbol": "circle"
         },
         "mode": "markers",
         "name": "Ethiopia",
         "orientation": "v",
         "showlegend": true,
         "type": "scatter",
         "x": [
          104.957
         ],
         "xaxis": "x3",
         "y": [
          0.92
         ],
         "yaxis": "y3"
        },
        {
         "hovertemplate": "country=Faeroe Islands<br>continent=Europe<br>population_density=%{x}<br>reproduction_rate=%{y}<extra></extra>",
         "legendgroup": "Faeroe Islands",
         "marker": {
          "color": "#FF6692",
          "symbol": "circle"
         },
         "mode": "markers",
         "name": "Faeroe Islands",
         "orientation": "v",
         "showlegend": true,
         "type": "scatter",
         "x": [
          35.308
         ],
         "xaxis": "x2",
         "y": [
          0
         ],
         "yaxis": "y2"
        },
        {
         "hovertemplate": "country=Falkland Islands<br>continent=South America<br>population_density=%{x}<br>reproduction_rate=%{y}<extra></extra>",
         "legendgroup": "Falkland Islands",
         "marker": {
          "color": "#B6E880",
          "symbol": "circle"
         },
         "mode": "markers",
         "name": "Falkland Islands",
         "orientation": "v",
         "showlegend": true,
         "type": "scatter",
         "x": [
          0
         ],
         "xaxis": "x5",
         "y": [
          0
         ],
         "yaxis": "y5"
        },
        {
         "hovertemplate": "country=Fiji<br>continent=Oceania<br>population_density=%{x}<br>reproduction_rate=%{y}<extra></extra>",
         "legendgroup": "Fiji",
         "marker": {
          "color": "#FF97FF",
          "symbol": "circle"
         },
         "mode": "markers",
         "name": "Fiji",
         "orientation": "v",
         "showlegend": true,
         "type": "scatter",
         "x": [
          49.562
         ],
         "xaxis": "x6",
         "y": [
          0.51
         ],
         "yaxis": "y6"
        },
        {
         "hovertemplate": "country=Finland<br>continent=Europe<br>population_density=%{x}<br>reproduction_rate=%{y}<extra></extra>",
         "legendgroup": "Finland",
         "marker": {
          "color": "#FECB52",
          "symbol": "circle"
         },
         "mode": "markers",
         "name": "Finland",
         "orientation": "v",
         "showlegend": true,
         "type": "scatter",
         "x": [
          18.136
         ],
         "xaxis": "x2",
         "y": [
          0.92
         ],
         "yaxis": "y2"
        },
        {
         "hovertemplate": "country=France<br>continent=Europe<br>population_density=%{x}<br>reproduction_rate=%{y}<extra></extra>",
         "legendgroup": "France",
         "marker": {
          "color": "#636efa",
          "symbol": "circle"
         },
         "mode": "markers",
         "name": "France",
         "orientation": "v",
         "showlegend": true,
         "type": "scatter",
         "x": [
          122.578
         ],
         "xaxis": "x2",
         "y": [
          1.22
         ],
         "yaxis": "y2"
        },
        {
         "hovertemplate": "country=French Polynesia<br>continent=Oceania<br>population_density=%{x}<br>reproduction_rate=%{y}<extra></extra>",
         "legendgroup": "French Polynesia",
         "marker": {
          "color": "#EF553B",
          "symbol": "circle"
         },
         "mode": "markers",
         "name": "French Polynesia",
         "orientation": "v",
         "showlegend": true,
         "type": "scatter",
         "x": [
          77.324
         ],
         "xaxis": "x6",
         "y": [
          0
         ],
         "yaxis": "y6"
        },
        {
         "hovertemplate": "country=Gabon<br>continent=Africa<br>population_density=%{x}<br>reproduction_rate=%{y}<extra></extra>",
         "legendgroup": "Gabon",
         "marker": {
          "color": "#00cc96",
          "symbol": "circle"
         },
         "mode": "markers",
         "name": "Gabon",
         "orientation": "v",
         "showlegend": true,
         "type": "scatter",
         "x": [
          7.859
         ],
         "xaxis": "x3",
         "y": [
          0.23
         ],
         "yaxis": "y3"
        },
        {
         "hovertemplate": "country=Gambia<br>continent=Africa<br>population_density=%{x}<br>reproduction_rate=%{y}<extra></extra>",
         "legendgroup": "Gambia",
         "marker": {
          "color": "#ab63fa",
          "symbol": "circle"
         },
         "mode": "markers",
         "name": "Gambia",
         "orientation": "v",
         "showlegend": true,
         "type": "scatter",
         "x": [
          207.566
         ],
         "xaxis": "x3",
         "y": [
          0.13
         ],
         "yaxis": "y3"
        },
        {
         "hovertemplate": "country=Georgia<br>continent=Asia<br>population_density=%{x}<br>reproduction_rate=%{y}<extra></extra>",
         "legendgroup": "Georgia",
         "marker": {
          "color": "#FFA15A",
          "symbol": "circle"
         },
         "mode": "markers",
         "name": "Georgia",
         "orientation": "v",
         "showlegend": true,
         "type": "scatter",
         "x": [
          65.032
         ],
         "xaxis": "x",
         "y": [
          -0.01
         ],
         "yaxis": "y"
        },
        {
         "hovertemplate": "country=Germany<br>continent=Europe<br>population_density=%{x}<br>reproduction_rate=%{y}<extra></extra>",
         "legendgroup": "Germany",
         "marker": {
          "color": "#19d3f3",
          "symbol": "circle"
         },
         "mode": "markers",
         "name": "Germany",
         "orientation": "v",
         "showlegend": true,
         "type": "scatter",
         "x": [
          237.016
         ],
         "xaxis": "x2",
         "y": [
          1.09
         ],
         "yaxis": "y2"
        },
        {
         "hovertemplate": "country=Ghana<br>continent=Africa<br>population_density=%{x}<br>reproduction_rate=%{y}<extra></extra>",
         "legendgroup": "Ghana",
         "marker": {
          "color": "#FF6692",
          "symbol": "circle"
         },
         "mode": "markers",
         "name": "Ghana",
         "orientation": "v",
         "showlegend": true,
         "type": "scatter",
         "x": [
          126.719
         ],
         "xaxis": "x3",
         "y": [
          0.25
         ],
         "yaxis": "y3"
        },
        {
         "hovertemplate": "country=Gibraltar<br>continent=Europe<br>population_density=%{x}<br>reproduction_rate=%{y}<extra></extra>",
         "legendgroup": "Gibraltar",
         "marker": {
          "color": "#B6E880",
          "symbol": "circle"
         },
         "mode": "markers",
         "name": "Gibraltar",
         "orientation": "v",
         "showlegend": true,
         "type": "scatter",
         "x": [
          3457.1
         ],
         "xaxis": "x2",
         "y": [
          0
         ],
         "yaxis": "y2"
        },
        {
         "hovertemplate": "country=Greece<br>continent=Europe<br>population_density=%{x}<br>reproduction_rate=%{y}<extra></extra>",
         "legendgroup": "Greece",
         "marker": {
          "color": "#FF97FF",
          "symbol": "circle"
         },
         "mode": "markers",
         "name": "Greece",
         "orientation": "v",
         "showlegend": true,
         "type": "scatter",
         "x": [
          83.479
         ],
         "xaxis": "x2",
         "y": [
          1.25
         ],
         "yaxis": "y2"
        },
        {
         "hovertemplate": "country=Greenland<br>continent=North America<br>population_density=%{x}<br>reproduction_rate=%{y}<extra></extra>",
         "legendgroup": "Greenland",
         "marker": {
          "color": "#FECB52",
          "symbol": "circle"
         },
         "mode": "markers",
         "name": "Greenland",
         "orientation": "v",
         "showlegend": true,
         "type": "scatter",
         "x": [
          0.137
         ],
         "xaxis": "x4",
         "y": [
          0
         ],
         "yaxis": "y4"
        },
        {
         "hovertemplate": "country=Grenada<br>continent=North America<br>population_density=%{x}<br>reproduction_rate=%{y}<extra></extra>",
         "legendgroup": "Grenada",
         "marker": {
          "color": "#636efa",
          "symbol": "circle"
         },
         "mode": "markers",
         "name": "Grenada",
         "orientation": "v",
         "showlegend": true,
         "type": "scatter",
         "x": [
          317.132
         ],
         "xaxis": "x4",
         "y": [
          0.78
         ],
         "yaxis": "y4"
        },
        {
         "hovertemplate": "country=Guatemala<br>continent=North America<br>population_density=%{x}<br>reproduction_rate=%{y}<extra></extra>",
         "legendgroup": "Guatemala",
         "marker": {
          "color": "#EF553B",
          "symbol": "circle"
         },
         "mode": "markers",
         "name": "Guatemala",
         "orientation": "v",
         "showlegend": true,
         "type": "scatter",
         "x": [
          157.834
         ],
         "xaxis": "x4",
         "y": [
          0.84
         ],
         "yaxis": "y4"
        },
        {
         "hovertemplate": "country=Guinea<br>continent=Africa<br>population_density=%{x}<br>reproduction_rate=%{y}<extra></extra>",
         "legendgroup": "Guinea",
         "marker": {
          "color": "#00cc96",
          "symbol": "circle"
         },
         "mode": "markers",
         "name": "Guinea",
         "orientation": "v",
         "showlegend": true,
         "type": "scatter",
         "x": [
          51.755
         ],
         "xaxis": "x3",
         "y": [
          0
         ],
         "yaxis": "y3"
        },
        {
         "hovertemplate": "country=Guinea-Bissau<br>continent=Africa<br>population_density=%{x}<br>reproduction_rate=%{y}<extra></extra>",
         "legendgroup": "Guinea-Bissau",
         "marker": {
          "color": "#ab63fa",
          "symbol": "circle"
         },
         "mode": "markers",
         "name": "Guinea-Bissau",
         "orientation": "v",
         "showlegend": true,
         "type": "scatter",
         "x": [
          66.191
         ],
         "xaxis": "x3",
         "y": [
          0.01
         ],
         "yaxis": "y3"
        },
        {
         "hovertemplate": "country=Guyana<br>continent=South America<br>population_density=%{x}<br>reproduction_rate=%{y}<extra></extra>",
         "legendgroup": "Guyana",
         "marker": {
          "color": "#FFA15A",
          "symbol": "circle"
         },
         "mode": "markers",
         "name": "Guyana",
         "orientation": "v",
         "showlegend": true,
         "type": "scatter",
         "x": [
          3.952
         ],
         "xaxis": "x5",
         "y": [
          0.72
         ],
         "yaxis": "y5"
        },
        {
         "hovertemplate": "country=Haiti<br>continent=North America<br>population_density=%{x}<br>reproduction_rate=%{y}<extra></extra>",
         "legendgroup": "Haiti",
         "marker": {
          "color": "#19d3f3",
          "symbol": "circle"
         },
         "mode": "markers",
         "name": "Haiti",
         "orientation": "v",
         "showlegend": true,
         "type": "scatter",
         "x": [
          398.448
         ],
         "xaxis": "x4",
         "y": [
          0.61
         ],
         "yaxis": "y4"
        },
        {
         "hovertemplate": "country=Honduras<br>continent=North America<br>population_density=%{x}<br>reproduction_rate=%{y}<extra></extra>",
         "legendgroup": "Honduras",
         "marker": {
          "color": "#FF6692",
          "symbol": "circle"
         },
         "mode": "markers",
         "name": "Honduras",
         "orientation": "v",
         "showlegend": true,
         "type": "scatter",
         "x": [
          82.805
         ],
         "xaxis": "x4",
         "y": [
          1.01
         ],
         "yaxis": "y4"
        },
        {
         "hovertemplate": "country=Hong Kong<br>continent=Asia<br>population_density=%{x}<br>reproduction_rate=%{y}<extra></extra>",
         "legendgroup": "Hong Kong",
         "marker": {
          "color": "#B6E880",
          "symbol": "circle"
         },
         "mode": "markers",
         "name": "Hong Kong",
         "orientation": "v",
         "showlegend": true,
         "type": "scatter",
         "x": [
          7039.714
         ],
         "xaxis": "x",
         "y": [
          0
         ],
         "yaxis": "y"
        },
        {
         "hovertemplate": "country=Hungary<br>continent=Europe<br>population_density=%{x}<br>reproduction_rate=%{y}<extra></extra>",
         "legendgroup": "Hungary",
         "marker": {
          "color": "#FF97FF",
          "symbol": "circle"
         },
         "mode": "markers",
         "name": "Hungary",
         "orientation": "v",
         "showlegend": true,
         "type": "scatter",
         "x": [
          108.043
         ],
         "xaxis": "x2",
         "y": [
          1.29
         ],
         "yaxis": "y2"
        },
        {
         "hovertemplate": "country=Iceland<br>continent=Europe<br>population_density=%{x}<br>reproduction_rate=%{y}<extra></extra>",
         "legendgroup": "Iceland",
         "marker": {
          "color": "#FECB52",
          "symbol": "circle"
         },
         "mode": "markers",
         "name": "Iceland",
         "orientation": "v",
         "showlegend": true,
         "type": "scatter",
         "x": [
          3.404
         ],
         "xaxis": "x2",
         "y": [
          1.38
         ],
         "yaxis": "y2"
        },
        {
         "hovertemplate": "country=India<br>continent=Asia<br>population_density=%{x}<br>reproduction_rate=%{y}<extra></extra>",
         "legendgroup": "India",
         "marker": {
          "color": "#636efa",
          "symbol": "circle"
         },
         "mode": "markers",
         "name": "India",
         "orientation": "v",
         "showlegend": true,
         "type": "scatter",
         "x": [
          450.419
         ],
         "xaxis": "x",
         "y": [
          0.84
         ],
         "yaxis": "y"
        },
        {
         "hovertemplate": "country=Indonesia<br>continent=Asia<br>population_density=%{x}<br>reproduction_rate=%{y}<extra></extra>",
         "legendgroup": "Indonesia",
         "marker": {
          "color": "#EF553B",
          "symbol": "circle"
         },
         "mode": "markers",
         "name": "Indonesia",
         "orientation": "v",
         "showlegend": true,
         "type": "scatter",
         "x": [
          145.725
         ],
         "xaxis": "x",
         "y": [
          0.79
         ],
         "yaxis": "y"
        },
        {
         "hovertemplate": "country=Iran<br>continent=Asia<br>population_density=%{x}<br>reproduction_rate=%{y}<extra></extra>",
         "legendgroup": "Iran",
         "marker": {
          "color": "#00cc96",
          "symbol": "circle"
         },
         "mode": "markers",
         "name": "Iran",
         "orientation": "v",
         "showlegend": true,
         "type": "scatter",
         "x": [
          49.831
         ],
         "xaxis": "x",
         "y": [
          0.54
         ],
         "yaxis": "y"
        },
        {
         "hovertemplate": "country=Iraq<br>continent=Asia<br>population_density=%{x}<br>reproduction_rate=%{y}<extra></extra>",
         "legendgroup": "Iraq",
         "marker": {
          "color": "#ab63fa",
          "symbol": "circle"
         },
         "mode": "markers",
         "name": "Iraq",
         "orientation": "v",
         "showlegend": true,
         "type": "scatter",
         "x": [
          88.125
         ],
         "xaxis": "x",
         "y": [
          0.07
         ],
         "yaxis": "y"
        },
        {
         "hovertemplate": "country=Ireland<br>continent=Europe<br>population_density=%{x}<br>reproduction_rate=%{y}<extra></extra>",
         "legendgroup": "Ireland",
         "marker": {
          "color": "#FFA15A",
          "symbol": "circle"
         },
         "mode": "markers",
         "name": "Ireland",
         "orientation": "v",
         "showlegend": true,
         "type": "scatter",
         "x": [
          69.874
         ],
         "xaxis": "x2",
         "y": [
          1.35
         ],
         "yaxis": "y2"
        },
        {
         "hovertemplate": "country=Isle of Man<br>continent=Europe<br>population_density=%{x}<br>reproduction_rate=%{y}<extra></extra>",
         "legendgroup": "Isle of Man",
         "marker": {
          "color": "#19d3f3",
          "symbol": "circle"
         },
         "mode": "markers",
         "name": "Isle of Man",
         "orientation": "v",
         "showlegend": true,
         "type": "scatter",
         "x": [
          147.872
         ],
         "xaxis": "x2",
         "y": [
          0
         ],
         "yaxis": "y2"
        },
        {
         "hovertemplate": "country=Israel<br>continent=Asia<br>population_density=%{x}<br>reproduction_rate=%{y}<extra></extra>",
         "legendgroup": "Israel",
         "marker": {
          "color": "#FF6692",
          "symbol": "circle"
         },
         "mode": "markers",
         "name": "Israel",
         "orientation": "v",
         "showlegend": true,
         "type": "scatter",
         "x": [
          402.606
         ],
         "xaxis": "x",
         "y": [
          1.07
         ],
         "yaxis": "y"
        },
        {
         "hovertemplate": "country=Italy<br>continent=Europe<br>population_density=%{x}<br>reproduction_rate=%{y}<extra></extra>",
         "legendgroup": "Italy",
         "marker": {
          "color": "#B6E880",
          "symbol": "circle"
         },
         "mode": "markers",
         "name": "Italy",
         "orientation": "v",
         "showlegend": true,
         "type": "scatter",
         "x": [
          205.859
         ],
         "xaxis": "x2",
         "y": [
          0.95
         ],
         "yaxis": "y2"
        },
        {
         "hovertemplate": "country=Jamaica<br>continent=North America<br>population_density=%{x}<br>reproduction_rate=%{y}<extra></extra>",
         "legendgroup": "Jamaica",
         "marker": {
          "color": "#FF97FF",
          "symbol": "circle"
         },
         "mode": "markers",
         "name": "Jamaica",
         "orientation": "v",
         "showlegend": true,
         "type": "scatter",
         "x": [
          266.879
         ],
         "xaxis": "x4",
         "y": [
          0.9
         ],
         "yaxis": "y4"
        },
        {
         "hovertemplate": "country=Japan<br>continent=Asia<br>population_density=%{x}<br>reproduction_rate=%{y}<extra></extra>",
         "legendgroup": "Japan",
         "marker": {
          "color": "#FECB52",
          "symbol": "circle"
         },
         "mode": "markers",
         "name": "Japan",
         "orientation": "v",
         "showlegend": true,
         "type": "scatter",
         "x": [
          347.778
         ],
         "xaxis": "x",
         "y": [
          0.76
         ],
         "yaxis": "y"
        },
        {
         "hovertemplate": "country=Jersey<br>continent=Europe<br>population_density=%{x}<br>reproduction_rate=%{y}<extra></extra>",
         "legendgroup": "Jersey",
         "marker": {
          "color": "#636efa",
          "symbol": "circle"
         },
         "mode": "markers",
         "name": "Jersey",
         "orientation": "v",
         "showlegend": true,
         "type": "scatter",
         "x": [
          0
         ],
         "xaxis": "x2",
         "y": [
          0
         ],
         "yaxis": "y2"
        },
        {
         "hovertemplate": "country=Jordan<br>continent=Asia<br>population_density=%{x}<br>reproduction_rate=%{y}<extra></extra>",
         "legendgroup": "Jordan",
         "marker": {
          "color": "#EF553B",
          "symbol": "circle"
         },
         "mode": "markers",
         "name": "Jordan",
         "orientation": "v",
         "showlegend": true,
         "type": "scatter",
         "x": [
          109.285
         ],
         "xaxis": "x",
         "y": [
          0.18
         ],
         "yaxis": "y"
        },
        {
         "hovertemplate": "country=Kazakhstan<br>continent=Asia<br>population_density=%{x}<br>reproduction_rate=%{y}<extra></extra>",
         "legendgroup": "Kazakhstan",
         "marker": {
          "color": "#00cc96",
          "symbol": "circle"
         },
         "mode": "markers",
         "name": "Kazakhstan",
         "orientation": "v",
         "showlegend": true,
         "type": "scatter",
         "x": [
          6.681
         ],
         "xaxis": "x",
         "y": [
          0.52
         ],
         "yaxis": "y"
        },
        {
         "hovertemplate": "country=Kenya<br>continent=Africa<br>population_density=%{x}<br>reproduction_rate=%{y}<extra></extra>",
         "legendgroup": "Kenya",
         "marker": {
          "color": "#ab63fa",
          "symbol": "circle"
         },
         "mode": "markers",
         "name": "Kenya",
         "orientation": "v",
         "showlegend": true,
         "type": "scatter",
         "x": [
          87.324
         ],
         "xaxis": "x3",
         "y": [
          0.57
         ],
         "yaxis": "y3"
        },
        {
         "hovertemplate": "country=Kiribati<br>continent=Oceania<br>population_density=%{x}<br>reproduction_rate=%{y}<extra></extra>",
         "legendgroup": "Kiribati",
         "marker": {
          "color": "#FFA15A",
          "symbol": "circle"
         },
         "mode": "markers",
         "name": "Kiribati",
         "orientation": "v",
         "showlegend": true,
         "type": "scatter",
         "x": [
          143.701
         ],
         "xaxis": "x6",
         "y": [
          0
         ],
         "yaxis": "y6"
        },
        {
         "hovertemplate": "country=Kosovo<br>continent=Europe<br>population_density=%{x}<br>reproduction_rate=%{y}<extra></extra>",
         "legendgroup": "Kosovo",
         "marker": {
          "color": "#19d3f3",
          "symbol": "circle"
         },
         "mode": "markers",
         "name": "Kosovo",
         "orientation": "v",
         "showlegend": true,
         "type": "scatter",
         "x": [
          168.155
         ],
         "xaxis": "x2",
         "y": [
          0.26
         ],
         "yaxis": "y2"
        },
        {
         "hovertemplate": "country=Kuwait<br>continent=Asia<br>population_density=%{x}<br>reproduction_rate=%{y}<extra></extra>",
         "legendgroup": "Kuwait",
         "marker": {
          "color": "#FF6692",
          "symbol": "circle"
         },
         "mode": "markers",
         "name": "Kuwait",
         "orientation": "v",
         "showlegend": true,
         "type": "scatter",
         "x": [
          232.128
         ],
         "xaxis": "x",
         "y": [
          0.28
         ],
         "yaxis": "y"
        },
        {
         "hovertemplate": "country=Kyrgyzstan<br>continent=Asia<br>population_density=%{x}<br>reproduction_rate=%{y}<extra></extra>",
         "legendgroup": "Kyrgyzstan",
         "marker": {
          "color": "#B6E880",
          "symbol": "circle"
         },
         "mode": "markers",
         "name": "Kyrgyzstan",
         "orientation": "v",
         "showlegend": true,
         "type": "scatter",
         "x": [
          32.333
         ],
         "xaxis": "x",
         "y": [
          0.81
         ],
         "yaxis": "y"
        },
        {
         "hovertemplate": "country=Laos<br>continent=Asia<br>population_density=%{x}<br>reproduction_rate=%{y}<extra></extra>",
         "legendgroup": "Laos",
         "marker": {
          "color": "#FF97FF",
          "symbol": "circle"
         },
         "mode": "markers",
         "name": "Laos",
         "orientation": "v",
         "showlegend": true,
         "type": "scatter",
         "x": [
          29.715
         ],
         "xaxis": "x",
         "y": [
          1.15
         ],
         "yaxis": "y"
        },
        {
         "hovertemplate": "country=Latvia<br>continent=Europe<br>population_density=%{x}<br>reproduction_rate=%{y}<extra></extra>",
         "legendgroup": "Latvia",
         "marker": {
          "color": "#FECB52",
          "symbol": "circle"
         },
         "mode": "markers",
         "name": "Latvia",
         "orientation": "v",
         "showlegend": true,
         "type": "scatter",
         "x": [
          31.212
         ],
         "xaxis": "x2",
         "y": [
          1.14
         ],
         "yaxis": "y2"
        },
        {
         "hovertemplate": "country=Lebanon<br>continent=Asia<br>population_density=%{x}<br>reproduction_rate=%{y}<extra></extra>",
         "legendgroup": "Lebanon",
         "marker": {
          "color": "#636efa",
          "symbol": "circle"
         },
         "mode": "markers",
         "name": "Lebanon",
         "orientation": "v",
         "showlegend": true,
         "type": "scatter",
         "x": [
          594.561
         ],
         "xaxis": "x",
         "y": [
          0.64
         ],
         "yaxis": "y"
        },
        {
         "hovertemplate": "country=Lesotho<br>continent=Africa<br>population_density=%{x}<br>reproduction_rate=%{y}<extra></extra>",
         "legendgroup": "Lesotho",
         "marker": {
          "color": "#EF553B",
          "symbol": "circle"
         },
         "mode": "markers",
         "name": "Lesotho",
         "orientation": "v",
         "showlegend": true,
         "type": "scatter",
         "x": [
          73.562
         ],
         "xaxis": "x3",
         "y": [
          0
         ],
         "yaxis": "y3"
        },
        {
         "hovertemplate": "country=Liberia<br>continent=Africa<br>population_density=%{x}<br>reproduction_rate=%{y}<extra></extra>",
         "legendgroup": "Liberia",
         "marker": {
          "color": "#00cc96",
          "symbol": "circle"
         },
         "mode": "markers",
         "name": "Liberia",
         "orientation": "v",
         "showlegend": true,
         "type": "scatter",
         "x": [
          49.127
         ],
         "xaxis": "x3",
         "y": [
          0.55
         ],
         "yaxis": "y3"
        },
        {
         "hovertemplate": "country=Libya<br>continent=Africa<br>population_density=%{x}<br>reproduction_rate=%{y}<extra></extra>",
         "legendgroup": "Libya",
         "marker": {
          "color": "#ab63fa",
          "symbol": "circle"
         },
         "mode": "markers",
         "name": "Libya",
         "orientation": "v",
         "showlegend": true,
         "type": "scatter",
         "x": [
          3.623
         ],
         "xaxis": "x3",
         "y": [
          0.42
         ],
         "yaxis": "y3"
        },
        {
         "hovertemplate": "country=Liechtenstein<br>continent=Europe<br>population_density=%{x}<br>reproduction_rate=%{y}<extra></extra>",
         "legendgroup": "Liechtenstein",
         "marker": {
          "color": "#FFA15A",
          "symbol": "circle"
         },
         "mode": "markers",
         "name": "Liechtenstein",
         "orientation": "v",
         "showlegend": true,
         "type": "scatter",
         "x": [
          237.012
         ],
         "xaxis": "x2",
         "y": [
          1.19
         ],
         "yaxis": "y2"
        },
        {
         "hovertemplate": "country=Lithuania<br>continent=Europe<br>population_density=%{x}<br>reproduction_rate=%{y}<extra></extra>",
         "legendgroup": "Lithuania",
         "marker": {
          "color": "#19d3f3",
          "symbol": "circle"
         },
         "mode": "markers",
         "name": "Lithuania",
         "orientation": "v",
         "showlegend": true,
         "type": "scatter",
         "x": [
          45.135
         ],
         "xaxis": "x2",
         "y": [
          1.32
         ],
         "yaxis": "y2"
        },
        {
         "hovertemplate": "country=Luxembourg<br>continent=Europe<br>population_density=%{x}<br>reproduction_rate=%{y}<extra></extra>",
         "legendgroup": "Luxembourg",
         "marker": {
          "color": "#FF6692",
          "symbol": "circle"
         },
         "mode": "markers",
         "name": "Luxembourg",
         "orientation": "v",
         "showlegend": true,
         "type": "scatter",
         "x": [
          231.447
         ],
         "xaxis": "x2",
         "y": [
          0.18
         ],
         "yaxis": "y2"
        },
        {
         "hovertemplate": "country=Macao<br>continent=Asia<br>population_density=%{x}<br>reproduction_rate=%{y}<extra></extra>",
         "legendgroup": "Macao",
         "marker": {
          "color": "#B6E880",
          "symbol": "circle"
         },
         "mode": "markers",
         "name": "Macao",
         "orientation": "v",
         "showlegend": true,
         "type": "scatter",
         "x": [
          20546.766
         ],
         "xaxis": "x",
         "y": [
          0
         ],
         "yaxis": "y"
        },
        {
         "hovertemplate": "country=Madagascar<br>continent=Africa<br>population_density=%{x}<br>reproduction_rate=%{y}<extra></extra>",
         "legendgroup": "Madagascar",
         "marker": {
          "color": "#FF97FF",
          "symbol": "circle"
         },
         "mode": "markers",
         "name": "Madagascar",
         "orientation": "v",
         "showlegend": true,
         "type": "scatter",
         "x": [
          43.951
         ],
         "xaxis": "x3",
         "y": [
          0.72
         ],
         "yaxis": "y3"
        },
        {
         "hovertemplate": "country=Malawi<br>continent=Africa<br>population_density=%{x}<br>reproduction_rate=%{y}<extra></extra>",
         "legendgroup": "Malawi",
         "marker": {
          "color": "#FECB52",
          "symbol": "circle"
         },
         "mode": "markers",
         "name": "Malawi",
         "orientation": "v",
         "showlegend": true,
         "type": "scatter",
         "x": [
          197.519
         ],
         "xaxis": "x3",
         "y": [
          0.72
         ],
         "yaxis": "y3"
        },
        {
         "hovertemplate": "country=Malaysia<br>continent=Asia<br>population_density=%{x}<br>reproduction_rate=%{y}<extra></extra>",
         "legendgroup": "Malaysia",
         "marker": {
          "color": "#636efa",
          "symbol": "circle"
         },
         "mode": "markers",
         "name": "Malaysia",
         "orientation": "v",
         "showlegend": true,
         "type": "scatter",
         "x": [
          96.254
         ],
         "xaxis": "x",
         "y": [
          0.93
         ],
         "yaxis": "y"
        },
        {
         "hovertemplate": "country=Maldives<br>continent=Asia<br>population_density=%{x}<br>reproduction_rate=%{y}<extra></extra>",
         "legendgroup": "Maldives",
         "marker": {
          "color": "#EF553B",
          "symbol": "circle"
         },
         "mode": "markers",
         "name": "Maldives",
         "orientation": "v",
         "showlegend": true,
         "type": "scatter",
         "x": [
          1454.433
         ],
         "xaxis": "x",
         "y": [
          1.11
         ],
         "yaxis": "y"
        },
        {
         "hovertemplate": "country=Mali<br>continent=Africa<br>population_density=%{x}<br>reproduction_rate=%{y}<extra></extra>",
         "legendgroup": "Mali",
         "marker": {
          "color": "#00cc96",
          "symbol": "circle"
         },
         "mode": "markers",
         "name": "Mali",
         "orientation": "v",
         "showlegend": true,
         "type": "scatter",
         "x": [
          15.196
         ],
         "xaxis": "x3",
         "y": [
          1.58
         ],
         "yaxis": "y3"
        },
        {
         "hovertemplate": "country=Malta<br>continent=Europe<br>population_density=%{x}<br>reproduction_rate=%{y}<extra></extra>",
         "legendgroup": "Malta",
         "marker": {
          "color": "#ab63fa",
          "symbol": "circle"
         },
         "mode": "markers",
         "name": "Malta",
         "orientation": "v",
         "showlegend": true,
         "type": "scatter",
         "x": [
          1454.037
         ],
         "xaxis": "x2",
         "y": [
          0.88
         ],
         "yaxis": "y2"
        },
        {
         "hovertemplate": "country=Marshall Islands<br>continent=Oceania<br>population_density=%{x}<br>reproduction_rate=%{y}<extra></extra>",
         "legendgroup": "Marshall Islands",
         "marker": {
          "color": "#FFA15A",
          "symbol": "circle"
         },
         "mode": "markers",
         "name": "Marshall Islands",
         "orientation": "v",
         "showlegend": true,
         "type": "scatter",
         "x": [
          295.15
         ],
         "xaxis": "x6",
         "y": [
          0.12
         ],
         "yaxis": "y6"
        },
        {
         "hovertemplate": "country=Mauritania<br>continent=Africa<br>population_density=%{x}<br>reproduction_rate=%{y}<extra></extra>",
         "legendgroup": "Mauritania",
         "marker": {
          "color": "#19d3f3",
          "symbol": "circle"
         },
         "mode": "markers",
         "name": "Mauritania",
         "orientation": "v",
         "showlegend": true,
         "type": "scatter",
         "x": [
          4.289
         ],
         "xaxis": "x3",
         "y": [
          0.48
         ],
         "yaxis": "y3"
        },
        {
         "hovertemplate": "country=Mauritius<br>continent=Africa<br>population_density=%{x}<br>reproduction_rate=%{y}<extra></extra>",
         "legendgroup": "Mauritius",
         "marker": {
          "color": "#FF6692",
          "symbol": "circle"
         },
         "mode": "markers",
         "name": "Mauritius",
         "orientation": "v",
         "showlegend": true,
         "type": "scatter",
         "x": [
          622.962
         ],
         "xaxis": "x3",
         "y": [
          1.13
         ],
         "yaxis": "y3"
        },
        {
         "hovertemplate": "country=Mexico<br>continent=North America<br>population_density=%{x}<br>reproduction_rate=%{y}<extra></extra>",
         "legendgroup": "Mexico",
         "marker": {
          "color": "#B6E880",
          "symbol": "circle"
         },
         "mode": "markers",
         "name": "Mexico",
         "orientation": "v",
         "showlegend": true,
         "type": "scatter",
         "x": [
          66.444
         ],
         "xaxis": "x4",
         "y": [
          0.81
         ],
         "yaxis": "y4"
        },
        {
         "hovertemplate": "country=Micronesia (country)<br>continent=Oceania<br>population_density=%{x}<br>reproduction_rate=%{y}<extra></extra>",
         "legendgroup": "Micronesia (country)",
         "marker": {
          "color": "#FF97FF",
          "symbol": "circle"
         },
         "mode": "markers",
         "name": "Micronesia (country)",
         "orientation": "v",
         "showlegend": true,
         "type": "scatter",
         "x": [
          150.777
         ],
         "xaxis": "x6",
         "y": [
          0.85
         ],
         "yaxis": "y6"
        },
        {
         "hovertemplate": "country=Moldova<br>continent=Europe<br>population_density=%{x}<br>reproduction_rate=%{y}<extra></extra>",
         "legendgroup": "Moldova",
         "marker": {
          "color": "#FECB52",
          "symbol": "circle"
         },
         "mode": "markers",
         "name": "Moldova",
         "orientation": "v",
         "showlegend": true,
         "type": "scatter",
         "x": [
          123.655
         ],
         "xaxis": "x2",
         "y": [
          1.26
         ],
         "yaxis": "y2"
        },
        {
         "hovertemplate": "country=Monaco<br>continent=Europe<br>population_density=%{x}<br>reproduction_rate=%{y}<extra></extra>",
         "legendgroup": "Monaco",
         "marker": {
          "color": "#636efa",
          "symbol": "circle"
         },
         "mode": "markers",
         "name": "Monaco",
         "orientation": "v",
         "showlegend": true,
         "type": "scatter",
         "x": [
          19347.5
         ],
         "xaxis": "x2",
         "y": [
          0.9
         ],
         "yaxis": "y2"
        },
        {
         "hovertemplate": "country=Mongolia<br>continent=Asia<br>population_density=%{x}<br>reproduction_rate=%{y}<extra></extra>",
         "legendgroup": "Mongolia",
         "marker": {
          "color": "#EF553B",
          "symbol": "circle"
         },
         "mode": "markers",
         "name": "Mongolia",
         "orientation": "v",
         "showlegend": true,
         "type": "scatter",
         "x": [
          1.98
         ],
         "xaxis": "x",
         "y": [
          0.82
         ],
         "yaxis": "y"
        },
        {
         "hovertemplate": "country=Montenegro<br>continent=Europe<br>population_density=%{x}<br>reproduction_rate=%{y}<extra></extra>",
         "legendgroup": "Montenegro",
         "marker": {
          "color": "#00cc96",
          "symbol": "circle"
         },
         "mode": "markers",
         "name": "Montenegro",
         "orientation": "v",
         "showlegend": true,
         "type": "scatter",
         "x": [
          46.28
         ],
         "xaxis": "x2",
         "y": [
          0.84
         ],
         "yaxis": "y2"
        },
        {
         "hovertemplate": "country=Montserrat<br>continent=North America<br>population_density=%{x}<br>reproduction_rate=%{y}<extra></extra>",
         "legendgroup": "Montserrat",
         "marker": {
          "color": "#ab63fa",
          "symbol": "circle"
         },
         "mode": "markers",
         "name": "Montserrat",
         "orientation": "v",
         "showlegend": true,
         "type": "scatter",
         "x": [
          0
         ],
         "xaxis": "x4",
         "y": [
          0
         ],
         "yaxis": "y4"
        },
        {
         "hovertemplate": "country=Morocco<br>continent=Africa<br>population_density=%{x}<br>reproduction_rate=%{y}<extra></extra>",
         "legendgroup": "Morocco",
         "marker": {
          "color": "#FFA15A",
          "symbol": "circle"
         },
         "mode": "markers",
         "name": "Morocco",
         "orientation": "v",
         "showlegend": true,
         "type": "scatter",
         "x": [
          80.08
         ],
         "xaxis": "x3",
         "y": [
          0.66
         ],
         "yaxis": "y3"
        },
        {
         "hovertemplate": "country=Mozambique<br>continent=Africa<br>population_density=%{x}<br>reproduction_rate=%{y}<extra></extra>",
         "legendgroup": "Mozambique",
         "marker": {
          "color": "#19d3f3",
          "symbol": "circle"
         },
         "mode": "markers",
         "name": "Mozambique",
         "orientation": "v",
         "showlegend": true,
         "type": "scatter",
         "x": [
          37.728
         ],
         "xaxis": "x3",
         "y": [
          0.76
         ],
         "yaxis": "y3"
        },
        {
         "hovertemplate": "country=Myanmar<br>continent=Asia<br>population_density=%{x}<br>reproduction_rate=%{y}<extra></extra>",
         "legendgroup": "Myanmar",
         "marker": {
          "color": "#FF6692",
          "symbol": "circle"
         },
         "mode": "markers",
         "name": "Myanmar",
         "orientation": "v",
         "showlegend": true,
         "type": "scatter",
         "x": [
          81.721
         ],
         "xaxis": "x",
         "y": [
          1.57
         ],
         "yaxis": "y"
        },
        {
         "hovertemplate": "country=Namibia<br>continent=Africa<br>population_density=%{x}<br>reproduction_rate=%{y}<extra></extra>",
         "legendgroup": "Namibia",
         "marker": {
          "color": "#B6E880",
          "symbol": "circle"
         },
         "mode": "markers",
         "name": "Namibia",
         "orientation": "v",
         "showlegend": true,
         "type": "scatter",
         "x": [
          3.078
         ],
         "xaxis": "x3",
         "y": [
          0.01
         ],
         "yaxis": "y3"
        },
        {
         "hovertemplate": "country=Nauru<br>continent=Oceania<br>population_density=%{x}<br>reproduction_rate=%{y}<extra></extra>",
         "legendgroup": "Nauru",
         "marker": {
          "color": "#FF97FF",
          "symbol": "circle"
         },
         "mode": "markers",
         "name": "Nauru",
         "orientation": "v",
         "showlegend": true,
         "type": "scatter",
         "x": [
          682.45
         ],
         "xaxis": "x6",
         "y": [
          0
         ],
         "yaxis": "y6"
        },
        {
         "hovertemplate": "country=Nepal<br>continent=Asia<br>population_density=%{x}<br>reproduction_rate=%{y}<extra></extra>",
         "legendgroup": "Nepal",
         "marker": {
          "color": "#FECB52",
          "symbol": "circle"
         },
         "mode": "markers",
         "name": "Nepal",
         "orientation": "v",
         "showlegend": true,
         "type": "scatter",
         "x": [
          204.43
         ],
         "xaxis": "x",
         "y": [
          0.65
         ],
         "yaxis": "y"
        },
        {
         "hovertemplate": "country=Netherlands<br>continent=Europe<br>population_density=%{x}<br>reproduction_rate=%{y}<extra></extra>",
         "legendgroup": "Netherlands",
         "marker": {
          "color": "#636efa",
          "symbol": "circle"
         },
         "mode": "markers",
         "name": "Netherlands",
         "orientation": "v",
         "showlegend": true,
         "type": "scatter",
         "x": [
          508.544
         ],
         "xaxis": "x2",
         "y": [
          1.36
         ],
         "yaxis": "y2"
        },
        {
         "hovertemplate": "country=New Caledonia<br>continent=Oceania<br>population_density=%{x}<br>reproduction_rate=%{y}<extra></extra>",
         "legendgroup": "New Caledonia",
         "marker": {
          "color": "#EF553B",
          "symbol": "circle"
         },
         "mode": "markers",
         "name": "New Caledonia",
         "orientation": "v",
         "showlegend": true,
         "type": "scatter",
         "x": [
          15.342
         ],
         "xaxis": "x6",
         "y": [
          0
         ],
         "yaxis": "y6"
        },
        {
         "hovertemplate": "country=New Zealand<br>continent=Oceania<br>population_density=%{x}<br>reproduction_rate=%{y}<extra></extra>",
         "legendgroup": "New Zealand",
         "marker": {
          "color": "#00cc96",
          "symbol": "circle"
         },
         "mode": "markers",
         "name": "New Zealand",
         "orientation": "v",
         "showlegend": true,
         "type": "scatter",
         "x": [
          18.206
         ],
         "xaxis": "x6",
         "y": [
          0.59
         ],
         "yaxis": "y6"
        },
        {
         "hovertemplate": "country=Nicaragua<br>continent=North America<br>population_density=%{x}<br>reproduction_rate=%{y}<extra></extra>",
         "legendgroup": "Nicaragua",
         "marker": {
          "color": "#ab63fa",
          "symbol": "circle"
         },
         "mode": "markers",
         "name": "Nicaragua",
         "orientation": "v",
         "showlegend": true,
         "type": "scatter",
         "x": [
          51.667
         ],
         "xaxis": "x4",
         "y": [
          -0.01
         ],
         "yaxis": "y4"
        },
        {
         "hovertemplate": "country=Niger<br>continent=Africa<br>population_density=%{x}<br>reproduction_rate=%{y}<extra></extra>",
         "legendgroup": "Niger",
         "marker": {
          "color": "#FFA15A",
          "symbol": "circle"
         },
         "mode": "markers",
         "name": "Niger",
         "orientation": "v",
         "showlegend": true,
         "type": "scatter",
         "x": [
          16.955
         ],
         "xaxis": "x3",
         "y": [
          0.57
         ],
         "yaxis": "y3"
        },
        {
         "hovertemplate": "country=Nigeria<br>continent=Africa<br>population_density=%{x}<br>reproduction_rate=%{y}<extra></extra>",
         "legendgroup": "Nigeria",
         "marker": {
          "color": "#19d3f3",
          "symbol": "circle"
         },
         "mode": "markers",
         "name": "Nigeria",
         "orientation": "v",
         "showlegend": true,
         "type": "scatter",
         "x": [
          209.588
         ],
         "xaxis": "x3",
         "y": [
          1.14
         ],
         "yaxis": "y3"
        },
        {
         "hovertemplate": "country=North Korea<br>continent=Asia<br>population_density=%{x}<br>reproduction_rate=%{y}<extra></extra>",
         "legendgroup": "North Korea",
         "marker": {
          "color": "#FF6692",
          "symbol": "circle"
         },
         "mode": "markers",
         "name": "North Korea",
         "orientation": "v",
         "showlegend": true,
         "type": "scatter",
         "x": [
          211.701
         ],
         "xaxis": "x",
         "y": [
          0
         ],
         "yaxis": "y"
        },
        {
         "hovertemplate": "country=North Macedonia<br>continent=Europe<br>population_density=%{x}<br>reproduction_rate=%{y}<extra></extra>",
         "legendgroup": "North Macedonia",
         "marker": {
          "color": "#B6E880",
          "symbol": "circle"
         },
         "mode": "markers",
         "name": "North Macedonia",
         "orientation": "v",
         "showlegend": true,
         "type": "scatter",
         "x": [
          82.6
         ],
         "xaxis": "x2",
         "y": [
          0.75
         ],
         "yaxis": "y2"
        },
        {
         "hovertemplate": "country=Norway<br>continent=Europe<br>population_density=%{x}<br>reproduction_rate=%{y}<extra></extra>",
         "legendgroup": "Norway",
         "marker": {
          "color": "#FF97FF",
          "symbol": "circle"
         },
         "mode": "markers",
         "name": "Norway",
         "orientation": "v",
         "showlegend": true,
         "type": "scatter",
         "x": [
          14.462
         ],
         "xaxis": "x2",
         "y": [
          0.88
         ],
         "yaxis": "y2"
        },
        {
         "hovertemplate": "country=Oman<br>continent=Asia<br>population_density=%{x}<br>reproduction_rate=%{y}<extra></extra>",
         "legendgroup": "Oman",
         "marker": {
          "color": "#FECB52",
          "symbol": "circle"
         },
         "mode": "markers",
         "name": "Oman",
         "orientation": "v",
         "showlegend": true,
         "type": "scatter",
         "x": [
          14.98
         ],
         "xaxis": "x",
         "y": [
          0.04
         ],
         "yaxis": "y"
        },
        {
         "hovertemplate": "country=Pakistan<br>continent=Asia<br>population_density=%{x}<br>reproduction_rate=%{y}<extra></extra>",
         "legendgroup": "Pakistan",
         "marker": {
          "color": "#636efa",
          "symbol": "circle"
         },
         "mode": "markers",
         "name": "Pakistan",
         "orientation": "v",
         "showlegend": true,
         "type": "scatter",
         "x": [
          255.573
         ],
         "xaxis": "x",
         "y": [
          0.86
         ],
         "yaxis": "y"
        },
        {
         "hovertemplate": "country=Palau<br>continent=Oceania<br>population_density=%{x}<br>reproduction_rate=%{y}<extra></extra>",
         "legendgroup": "Palau",
         "marker": {
          "color": "#EF553B",
          "symbol": "circle"
         },
         "mode": "markers",
         "name": "Palau",
         "orientation": "v",
         "showlegend": true,
         "type": "scatter",
         "x": [
          47.237
         ],
         "xaxis": "x6",
         "y": [
          0.66
         ],
         "yaxis": "y6"
        },
        {
         "hovertemplate": "country=Palestine<br>continent=Asia<br>population_density=%{x}<br>reproduction_rate=%{y}<extra></extra>",
         "legendgroup": "Palestine",
         "marker": {
          "color": "#00cc96",
          "symbol": "circle"
         },
         "mode": "markers",
         "name": "Palestine",
         "orientation": "v",
         "showlegend": true,
         "type": "scatter",
         "x": [
          778.202
         ],
         "xaxis": "x",
         "y": [
          0.06
         ],
         "yaxis": "y"
        },
        {
         "hovertemplate": "country=Panama<br>continent=North America<br>population_density=%{x}<br>reproduction_rate=%{y}<extra></extra>",
         "legendgroup": "Panama",
         "marker": {
          "color": "#ab63fa",
          "symbol": "circle"
         },
         "mode": "markers",
         "name": "Panama",
         "orientation": "v",
         "showlegend": true,
         "type": "scatter",
         "x": [
          55.133
         ],
         "xaxis": "x4",
         "y": [
          1.04
         ],
         "yaxis": "y4"
        },
        {
         "hovertemplate": "country=Papua New Guinea<br>continent=Oceania<br>population_density=%{x}<br>reproduction_rate=%{y}<extra></extra>",
         "legendgroup": "Papua New Guinea",
         "marker": {
          "color": "#FFA15A",
          "symbol": "circle"
         },
         "mode": "markers",
         "name": "Papua New Guinea",
         "orientation": "v",
         "showlegend": true,
         "type": "scatter",
         "x": [
          18.22
         ],
         "xaxis": "x6",
         "y": [
          0.7
         ],
         "yaxis": "y6"
        },
        {
         "hovertemplate": "country=Paraguay<br>continent=South America<br>population_density=%{x}<br>reproduction_rate=%{y}<extra></extra>",
         "legendgroup": "Paraguay",
         "marker": {
          "color": "#19d3f3",
          "symbol": "circle"
         },
         "mode": "markers",
         "name": "Paraguay",
         "orientation": "v",
         "showlegend": true,
         "type": "scatter",
         "x": [
          17.144
         ],
         "xaxis": "x5",
         "y": [
          0.57
         ],
         "yaxis": "y5"
        },
        {
         "hovertemplate": "country=Peru<br>continent=South America<br>population_density=%{x}<br>reproduction_rate=%{y}<extra></extra>",
         "legendgroup": "Peru",
         "marker": {
          "color": "#FF6692",
          "symbol": "circle"
         },
         "mode": "markers",
         "name": "Peru",
         "orientation": "v",
         "showlegend": true,
         "type": "scatter",
         "x": [
          25.129
         ],
         "xaxis": "x5",
         "y": [
          0.69
         ],
         "yaxis": "y5"
        },
        {
         "hovertemplate": "country=Philippines<br>continent=Asia<br>population_density=%{x}<br>reproduction_rate=%{y}<extra></extra>",
         "legendgroup": "Philippines",
         "marker": {
          "color": "#B6E880",
          "symbol": "circle"
         },
         "mode": "markers",
         "name": "Philippines",
         "orientation": "v",
         "showlegend": true,
         "type": "scatter",
         "x": [
          351.873
         ],
         "xaxis": "x",
         "y": [
          0.95
         ],
         "yaxis": "y"
        },
        {
         "hovertemplate": "country=Poland<br>continent=Europe<br>population_density=%{x}<br>reproduction_rate=%{y}<extra></extra>",
         "legendgroup": "Poland",
         "marker": {
          "color": "#FF97FF",
          "symbol": "circle"
         },
         "mode": "markers",
         "name": "Poland",
         "orientation": "v",
         "showlegend": true,
         "type": "scatter",
         "x": [
          124.027
         ],
         "xaxis": "x2",
         "y": [
          1.3
         ],
         "yaxis": "y2"
        },
        {
         "hovertemplate": "country=Portugal<br>continent=Europe<br>population_density=%{x}<br>reproduction_rate=%{y}<extra></extra>",
         "legendgroup": "Portugal",
         "marker": {
          "color": "#FECB52",
          "symbol": "circle"
         },
         "mode": "markers",
         "name": "Portugal",
         "orientation": "v",
         "showlegend": true,
         "type": "scatter",
         "x": [
          112.371
         ],
         "xaxis": "x2",
         "y": [
          1.04
         ],
         "yaxis": "y2"
        },
        {
         "hovertemplate": "country=Qatar<br>continent=Asia<br>population_density=%{x}<br>reproduction_rate=%{y}<extra></extra>",
         "legendgroup": "Qatar",
         "marker": {
          "color": "#636efa",
          "symbol": "circle"
         },
         "mode": "markers",
         "name": "Qatar",
         "orientation": "v",
         "showlegend": true,
         "type": "scatter",
         "x": [
          227.322
         ],
         "xaxis": "x",
         "y": [
          1.2
         ],
         "yaxis": "y"
        },
        {
         "hovertemplate": "country=Romania<br>continent=Europe<br>population_density=%{x}<br>reproduction_rate=%{y}<extra></extra>",
         "legendgroup": "Romania",
         "marker": {
          "color": "#EF553B",
          "symbol": "circle"
         },
         "mode": "markers",
         "name": "Romania",
         "orientation": "v",
         "showlegend": true,
         "type": "scatter",
         "x": [
          85.129
         ],
         "xaxis": "x2",
         "y": [
          0.9
         ],
         "yaxis": "y2"
        },
        {
         "hovertemplate": "country=Russia<br>continent=Europe<br>population_density=%{x}<br>reproduction_rate=%{y}<extra></extra>",
         "legendgroup": "Russia",
         "marker": {
          "color": "#00cc96",
          "symbol": "circle"
         },
         "mode": "markers",
         "name": "Russia",
         "orientation": "v",
         "showlegend": true,
         "type": "scatter",
         "x": [
          8.823
         ],
         "xaxis": "x2",
         "y": [
          1.1
         ],
         "yaxis": "y2"
        },
        {
         "hovertemplate": "country=Rwanda<br>continent=Africa<br>population_density=%{x}<br>reproduction_rate=%{y}<extra></extra>",
         "legendgroup": "Rwanda",
         "marker": {
          "color": "#ab63fa",
          "symbol": "circle"
         },
         "mode": "markers",
         "name": "Rwanda",
         "orientation": "v",
         "showlegend": true,
         "type": "scatter",
         "x": [
          494.869
         ],
         "xaxis": "x3",
         "y": [
          0.59
         ],
         "yaxis": "y3"
        },
        {
         "hovertemplate": "country=Saint Helena<br>continent=Africa<br>population_density=%{x}<br>reproduction_rate=%{y}<extra></extra>",
         "legendgroup": "Saint Helena",
         "marker": {
          "color": "#FFA15A",
          "symbol": "circle"
         },
         "mode": "markers",
         "name": "Saint Helena",
         "orientation": "v",
         "showlegend": true,
         "type": "scatter",
         "x": [
          0
         ],
         "xaxis": "x3",
         "y": [
          0
         ],
         "yaxis": "y3"
        },
        {
         "hovertemplate": "country=Saint Kitts and Nevis<br>continent=North America<br>population_density=%{x}<br>reproduction_rate=%{y}<extra></extra>",
         "legendgroup": "Saint Kitts and Nevis",
         "marker": {
          "color": "#19d3f3",
          "symbol": "circle"
         },
         "mode": "markers",
         "name": "Saint Kitts and Nevis",
         "orientation": "v",
         "showlegend": true,
         "type": "scatter",
         "x": [
          212.865
         ],
         "xaxis": "x4",
         "y": [
          0.54
         ],
         "yaxis": "y4"
        },
        {
         "hovertemplate": "country=Saint Lucia<br>continent=North America<br>population_density=%{x}<br>reproduction_rate=%{y}<extra></extra>",
         "legendgroup": "Saint Lucia",
         "marker": {
          "color": "#FF6692",
          "symbol": "circle"
         },
         "mode": "markers",
         "name": "Saint Lucia",
         "orientation": "v",
         "showlegend": true,
         "type": "scatter",
         "x": [
          293.187
         ],
         "xaxis": "x4",
         "y": [
          1.2
         ],
         "yaxis": "y4"
        },
        {
         "hovertemplate": "country=Saint Pierre and Miquelon<br>continent=North America<br>population_density=%{x}<br>reproduction_rate=%{y}<extra></extra>",
         "legendgroup": "Saint Pierre and Miquelon",
         "marker": {
          "color": "#B6E880",
          "symbol": "circle"
         },
         "mode": "markers",
         "name": "Saint Pierre and Miquelon",
         "orientation": "v",
         "showlegend": true,
         "type": "scatter",
         "x": [
          0
         ],
         "xaxis": "x4",
         "y": [
          0
         ],
         "yaxis": "y4"
        },
        {
         "hovertemplate": "country=Saint Vincent and the Grenadines<br>continent=North America<br>population_density=%{x}<br>reproduction_rate=%{y}<extra></extra>",
         "legendgroup": "Saint Vincent and the Grenadines",
         "marker": {
          "color": "#FF97FF",
          "symbol": "circle"
         },
         "mode": "markers",
         "name": "Saint Vincent and the Grenadines",
         "orientation": "v",
         "showlegend": true,
         "type": "scatter",
         "x": [
          281.787
         ],
         "xaxis": "x4",
         "y": [
          0.39
         ],
         "yaxis": "y4"
        },
        {
         "hovertemplate": "country=Samoa<br>continent=Oceania<br>population_density=%{x}<br>reproduction_rate=%{y}<extra></extra>",
         "legendgroup": "Samoa",
         "marker": {
          "color": "#FECB52",
          "symbol": "circle"
         },
         "mode": "markers",
         "name": "Samoa",
         "orientation": "v",
         "showlegend": true,
         "type": "scatter",
         "x": [
          69.413
         ],
         "xaxis": "x6",
         "y": [
          0.62
         ],
         "yaxis": "y6"
        },
        {
         "hovertemplate": "country=San Marino<br>continent=Europe<br>population_density=%{x}<br>reproduction_rate=%{y}<extra></extra>",
         "legendgroup": "San Marino",
         "marker": {
          "color": "#636efa",
          "symbol": "circle"
         },
         "mode": "markers",
         "name": "San Marino",
         "orientation": "v",
         "showlegend": true,
         "type": "scatter",
         "x": [
          556.667
         ],
         "xaxis": "x2",
         "y": [
          0.98
         ],
         "yaxis": "y2"
        },
        {
         "hovertemplate": "country=Sao Tome and Principe<br>continent=Africa<br>population_density=%{x}<br>reproduction_rate=%{y}<extra></extra>",
         "legendgroup": "Sao Tome and Principe",
         "marker": {
          "color": "#EF553B",
          "symbol": "circle"
         },
         "mode": "markers",
         "name": "Sao Tome and Principe",
         "orientation": "v",
         "showlegend": true,
         "type": "scatter",
         "x": [
          212.841
         ],
         "xaxis": "x3",
         "y": [
          0.1
         ],
         "yaxis": "y3"
        },
        {
         "hovertemplate": "country=Saudi Arabia<br>continent=Asia<br>population_density=%{x}<br>reproduction_rate=%{y}<extra></extra>",
         "legendgroup": "Saudi Arabia",
         "marker": {
          "color": "#00cc96",
          "symbol": "circle"
         },
         "mode": "markers",
         "name": "Saudi Arabia",
         "orientation": "v",
         "showlegend": true,
         "type": "scatter",
         "x": [
          15.322
         ],
         "xaxis": "x",
         "y": [
          1.06
         ],
         "yaxis": "y"
        },
        {
         "hovertemplate": "country=Senegal<br>continent=Africa<br>population_density=%{x}<br>reproduction_rate=%{y}<extra></extra>",
         "legendgroup": "Senegal",
         "marker": {
          "color": "#ab63fa",
          "symbol": "circle"
         },
         "mode": "markers",
         "name": "Senegal",
         "orientation": "v",
         "showlegend": true,
         "type": "scatter",
         "x": [
          82.328
         ],
         "xaxis": "x3",
         "y": [
          0.99
         ],
         "yaxis": "y3"
        },
        {
         "hovertemplate": "country=Serbia<br>continent=Europe<br>population_density=%{x}<br>reproduction_rate=%{y}<extra></extra>",
         "legendgroup": "Serbia",
         "marker": {
          "color": "#FFA15A",
          "symbol": "circle"
         },
         "mode": "markers",
         "name": "Serbia",
         "orientation": "v",
         "showlegend": true,
         "type": "scatter",
         "x": [
          80.291
         ],
         "xaxis": "x2",
         "y": [
          0.87
         ],
         "yaxis": "y2"
        },
        {
         "hovertemplate": "country=Seychelles<br>continent=Africa<br>population_density=%{x}<br>reproduction_rate=%{y}<extra></extra>",
         "legendgroup": "Seychelles",
         "marker": {
          "color": "#19d3f3",
          "symbol": "circle"
         },
         "mode": "markers",
         "name": "Seychelles",
         "orientation": "v",
         "showlegend": true,
         "type": "scatter",
         "x": [
          208.354
         ],
         "xaxis": "x3",
         "y": [
          0.44
         ],
         "yaxis": "y3"
        },
        {
         "hovertemplate": "country=Sierra Leone<br>continent=Africa<br>population_density=%{x}<br>reproduction_rate=%{y}<extra></extra>",
         "legendgroup": "Sierra Leone",
         "marker": {
          "color": "#FF6692",
          "symbol": "circle"
         },
         "mode": "markers",
         "name": "Sierra Leone",
         "orientation": "v",
         "showlegend": true,
         "type": "scatter",
         "x": [
          104.7
         ],
         "xaxis": "x3",
         "y": [
          0.1
         ],
         "yaxis": "y3"
        },
        {
         "hovertemplate": "country=Singapore<br>continent=Asia<br>population_density=%{x}<br>reproduction_rate=%{y}<extra></extra>",
         "legendgroup": "Singapore",
         "marker": {
          "color": "#B6E880",
          "symbol": "circle"
         },
         "mode": "markers",
         "name": "Singapore",
         "orientation": "v",
         "showlegend": true,
         "type": "scatter",
         "x": [
          7915.731
         ],
         "xaxis": "x",
         "y": [
          1.01
         ],
         "yaxis": "y"
        },
        {
         "hovertemplate": "country=Slovakia<br>continent=Europe<br>population_density=%{x}<br>reproduction_rate=%{y}<extra></extra>",
         "legendgroup": "Slovakia",
         "marker": {
          "color": "#FF97FF",
          "symbol": "circle"
         },
         "mode": "markers",
         "name": "Slovakia",
         "orientation": "v",
         "showlegend": true,
         "type": "scatter",
         "x": [
          113.128
         ],
         "xaxis": "x2",
         "y": [
          0.02
         ],
         "yaxis": "y2"
        },
        {
         "hovertemplate": "country=Slovenia<br>continent=Europe<br>population_density=%{x}<br>reproduction_rate=%{y}<extra></extra>",
         "legendgroup": "Slovenia",
         "marker": {
          "color": "#FECB52",
          "symbol": "circle"
         },
         "mode": "markers",
         "name": "Slovenia",
         "orientation": "v",
         "showlegend": true,
         "type": "scatter",
         "x": [
          102.619
         ],
         "xaxis": "x2",
         "y": [
          1.24
         ],
         "yaxis": "y2"
        },
        {
         "hovertemplate": "country=Solomon Islands<br>continent=Oceania<br>population_density=%{x}<br>reproduction_rate=%{y}<extra></extra>",
         "legendgroup": "Solomon Islands",
         "marker": {
          "color": "#636efa",
          "symbol": "circle"
         },
         "mode": "markers",
         "name": "Solomon Islands",
         "orientation": "v",
         "showlegend": true,
         "type": "scatter",
         "x": [
          21.841
         ],
         "xaxis": "x6",
         "y": [
          0.01
         ],
         "yaxis": "y6"
        },
        {
         "hovertemplate": "country=Somalia<br>continent=Africa<br>population_density=%{x}<br>reproduction_rate=%{y}<extra></extra>",
         "legendgroup": "Somalia",
         "marker": {
          "color": "#EF553B",
          "symbol": "circle"
         },
         "mode": "markers",
         "name": "Somalia",
         "orientation": "v",
         "showlegend": true,
         "type": "scatter",
         "x": [
          23.5
         ],
         "xaxis": "x3",
         "y": [
          0.04
         ],
         "yaxis": "y3"
        },
        {
         "hovertemplate": "country=South Africa<br>continent=Africa<br>population_density=%{x}<br>reproduction_rate=%{y}<extra></extra>",
         "legendgroup": "South Africa",
         "marker": {
          "color": "#00cc96",
          "symbol": "circle"
         },
         "mode": "markers",
         "name": "South Africa",
         "orientation": "v",
         "showlegend": true,
         "type": "scatter",
         "x": [
          46.754
         ],
         "xaxis": "x3",
         "y": [
          1.01
         ],
         "yaxis": "y3"
        },
        {
         "hovertemplate": "country=South Korea<br>continent=Asia<br>population_density=%{x}<br>reproduction_rate=%{y}<extra></extra>",
         "legendgroup": "South Korea",
         "marker": {
          "color": "#ab63fa",
          "symbol": "circle"
         },
         "mode": "markers",
         "name": "South Korea",
         "orientation": "v",
         "showlegend": true,
         "type": "scatter",
         "x": [
          527.967
         ],
         "xaxis": "x",
         "y": [
          1.43
         ],
         "yaxis": "y"
        },
        {
         "hovertemplate": "country=South Sudan<br>continent=Africa<br>population_density=%{x}<br>reproduction_rate=%{y}<extra></extra>",
         "legendgroup": "South Sudan",
         "marker": {
          "color": "#FFA15A",
          "symbol": "circle"
         },
         "mode": "markers",
         "name": "South Sudan",
         "orientation": "v",
         "showlegend": true,
         "type": "scatter",
         "x": [
          0
         ],
         "xaxis": "x3",
         "y": [
          0.01
         ],
         "yaxis": "y3"
        },
        {
         "hovertemplate": "country=Spain<br>continent=Europe<br>population_density=%{x}<br>reproduction_rate=%{y}<extra></extra>",
         "legendgroup": "Spain",
         "marker": {
          "color": "#19d3f3",
          "symbol": "circle"
         },
         "mode": "markers",
         "name": "Spain",
         "orientation": "v",
         "showlegend": true,
         "type": "scatter",
         "x": [
          93.105
         ],
         "xaxis": "x2",
         "y": [
          1.04
         ],
         "yaxis": "y2"
        },
        {
         "hovertemplate": "country=Sri Lanka<br>continent=Asia<br>population_density=%{x}<br>reproduction_rate=%{y}<extra></extra>",
         "legendgroup": "Sri Lanka",
         "marker": {
          "color": "#FF6692",
          "symbol": "circle"
         },
         "mode": "markers",
         "name": "Sri Lanka",
         "orientation": "v",
         "showlegend": true,
         "type": "scatter",
         "x": [
          341.955
         ],
         "xaxis": "x",
         "y": [
          0.6
         ],
         "yaxis": "y"
        },
        {
         "hovertemplate": "country=Sudan<br>continent=Africa<br>population_density=%{x}<br>reproduction_rate=%{y}<extra></extra>",
         "legendgroup": "Sudan",
         "marker": {
          "color": "#B6E880",
          "symbol": "circle"
         },
         "mode": "markers",
         "name": "Sudan",
         "orientation": "v",
         "showlegend": true,
         "type": "scatter",
         "x": [
          23.258
         ],
         "xaxis": "x3",
         "y": [
          0.63
         ],
         "yaxis": "y3"
        },
        {
         "hovertemplate": "country=Suriname<br>continent=South America<br>population_density=%{x}<br>reproduction_rate=%{y}<extra></extra>",
         "legendgroup": "Suriname",
         "marker": {
          "color": "#FF97FF",
          "symbol": "circle"
         },
         "mode": "markers",
         "name": "Suriname",
         "orientation": "v",
         "showlegend": true,
         "type": "scatter",
         "x": [
          3.612
         ],
         "xaxis": "x5",
         "y": [
          0.19
         ],
         "yaxis": "y5"
        },
        {
         "hovertemplate": "country=Sweden<br>continent=Europe<br>population_density=%{x}<br>reproduction_rate=%{y}<extra></extra>",
         "legendgroup": "Sweden",
         "marker": {
          "color": "#FECB52",
          "symbol": "circle"
         },
         "mode": "markers",
         "name": "Sweden",
         "orientation": "v",
         "showlegend": true,
         "type": "scatter",
         "x": [
          24.718
         ],
         "xaxis": "x2",
         "y": [
          1.4
         ],
         "yaxis": "y2"
        },
        {
         "hovertemplate": "country=Switzerland<br>continent=Europe<br>population_density=%{x}<br>reproduction_rate=%{y}<extra></extra>",
         "legendgroup": "Switzerland",
         "marker": {
          "color": "#636efa",
          "symbol": "circle"
         },
         "mode": "markers",
         "name": "Switzerland",
         "orientation": "v",
         "showlegend": true,
         "type": "scatter",
         "x": [
          214.243
         ],
         "xaxis": "x2",
         "y": [
          1.37
         ],
         "yaxis": "y2"
        },
        {
         "hovertemplate": "country=Syria<br>continent=Asia<br>population_density=%{x}<br>reproduction_rate=%{y}<extra></extra>",
         "legendgroup": "Syria",
         "marker": {
          "color": "#EF553B",
          "symbol": "circle"
         },
         "mode": "markers",
         "name": "Syria",
         "orientation": "v",
         "showlegend": true,
         "type": "scatter",
         "x": [
          0
         ],
         "xaxis": "x",
         "y": [
          0.8
         ],
         "yaxis": "y"
        },
        {
         "hovertemplate": "country=Taiwan<br>continent=Asia<br>population_density=%{x}<br>reproduction_rate=%{y}<extra></extra>",
         "legendgroup": "Taiwan",
         "marker": {
          "color": "#00cc96",
          "symbol": "circle"
         },
         "mode": "markers",
         "name": "Taiwan",
         "orientation": "v",
         "showlegend": true,
         "type": "scatter",
         "x": [
          0
         ],
         "xaxis": "x",
         "y": [
          1.14
         ],
         "yaxis": "y"
        },
        {
         "hovertemplate": "country=Tajikistan<br>continent=Asia<br>population_density=%{x}<br>reproduction_rate=%{y}<extra></extra>",
         "legendgroup": "Tajikistan",
         "marker": {
          "color": "#ab63fa",
          "symbol": "circle"
         },
         "mode": "markers",
         "name": "Tajikistan",
         "orientation": "v",
         "showlegend": true,
         "type": "scatter",
         "x": [
          64.281
         ],
         "xaxis": "x",
         "y": [
          0
         ],
         "yaxis": "y"
        },
        {
         "hovertemplate": "country=Tanzania<br>continent=Africa<br>population_density=%{x}<br>reproduction_rate=%{y}<extra></extra>",
         "legendgroup": "Tanzania",
         "marker": {
          "color": "#FFA15A",
          "symbol": "circle"
         },
         "mode": "markers",
         "name": "Tanzania",
         "orientation": "v",
         "showlegend": true,
         "type": "scatter",
         "x": [
          64.699
         ],
         "xaxis": "x3",
         "y": [
          0.39
         ],
         "yaxis": "y3"
        },
        {
         "hovertemplate": "country=Thailand<br>continent=Asia<br>population_density=%{x}<br>reproduction_rate=%{y}<extra></extra>",
         "legendgroup": "Thailand",
         "marker": {
          "color": "#19d3f3",
          "symbol": "circle"
         },
         "mode": "markers",
         "name": "Thailand",
         "orientation": "v",
         "showlegend": true,
         "type": "scatter",
         "x": [
          135.132
         ],
         "xaxis": "x",
         "y": [
          0.79
         ],
         "yaxis": "y"
        },
        {
         "hovertemplate": "country=Timor<br>continent=Asia<br>population_density=%{x}<br>reproduction_rate=%{y}<extra></extra>",
         "legendgroup": "Timor",
         "marker": {
          "color": "#FF6692",
          "symbol": "circle"
         },
         "mode": "markers",
         "name": "Timor",
         "orientation": "v",
         "showlegend": true,
         "type": "scatter",
         "x": [
          87.176
         ],
         "xaxis": "x",
         "y": [
          1.02
         ],
         "yaxis": "y"
        },
        {
         "hovertemplate": "country=Togo<br>continent=Africa<br>population_density=%{x}<br>reproduction_rate=%{y}<extra></extra>",
         "legendgroup": "Togo",
         "marker": {
          "color": "#B6E880",
          "symbol": "circle"
         },
         "mode": "markers",
         "name": "Togo",
         "orientation": "v",
         "showlegend": true,
         "type": "scatter",
         "x": [
          143.366
         ],
         "xaxis": "x3",
         "y": [
          1.1
         ],
         "yaxis": "y3"
        },
        {
         "hovertemplate": "country=Tonga<br>continent=Oceania<br>population_density=%{x}<br>reproduction_rate=%{y}<extra></extra>",
         "legendgroup": "Tonga",
         "marker": {
          "color": "#FF97FF",
          "symbol": "circle"
         },
         "mode": "markers",
         "name": "Tonga",
         "orientation": "v",
         "showlegend": true,
         "type": "scatter",
         "x": [
          150.028
         ],
         "xaxis": "x6",
         "y": [
          0.51
         ],
         "yaxis": "y6"
        },
        {
         "hovertemplate": "country=Trinidad and Tobago<br>continent=North America<br>population_density=%{x}<br>reproduction_rate=%{y}<extra></extra>",
         "legendgroup": "Trinidad and Tobago",
         "marker": {
          "color": "#FECB52",
          "symbol": "circle"
         },
         "mode": "markers",
         "name": "Trinidad and Tobago",
         "orientation": "v",
         "showlegend": true,
         "type": "scatter",
         "x": [
          266.886
         ],
         "xaxis": "x4",
         "y": [
          0.91
         ],
         "yaxis": "y4"
        },
        {
         "hovertemplate": "country=Tunisia<br>continent=Africa<br>population_density=%{x}<br>reproduction_rate=%{y}<extra></extra>",
         "legendgroup": "Tunisia",
         "marker": {
          "color": "#636efa",
          "symbol": "circle"
         },
         "mode": "markers",
         "name": "Tunisia",
         "orientation": "v",
         "showlegend": true,
         "type": "scatter",
         "x": [
          74.228
         ],
         "xaxis": "x3",
         "y": [
          0.7
         ],
         "yaxis": "y3"
        },
        {
         "hovertemplate": "country=Turkey<br>continent=Asia<br>population_density=%{x}<br>reproduction_rate=%{y}<extra></extra>",
         "legendgroup": "Turkey",
         "marker": {
          "color": "#EF553B",
          "symbol": "circle"
         },
         "mode": "markers",
         "name": "Turkey",
         "orientation": "v",
         "showlegend": true,
         "type": "scatter",
         "x": [
          104.914
         ],
         "xaxis": "x",
         "y": [
          0.83
         ],
         "yaxis": "y"
        },
        {
         "hovertemplate": "country=Turks and Caicos Islands<br>continent=North America<br>population_density=%{x}<br>reproduction_rate=%{y}<extra></extra>",
         "legendgroup": "Turks and Caicos Islands",
         "marker": {
          "color": "#00cc96",
          "symbol": "circle"
         },
         "mode": "markers",
         "name": "Turks and Caicos Islands",
         "orientation": "v",
         "showlegend": true,
         "type": "scatter",
         "x": [
          37.312
         ],
         "xaxis": "x4",
         "y": [
          0
         ],
         "yaxis": "y4"
        },
        {
         "hovertemplate": "country=Tuvalu<br>continent=Oceania<br>population_density=%{x}<br>reproduction_rate=%{y}<extra></extra>",
         "legendgroup": "Tuvalu",
         "marker": {
          "color": "#ab63fa",
          "symbol": "circle"
         },
         "mode": "markers",
         "name": "Tuvalu",
         "orientation": "v",
         "showlegend": true,
         "type": "scatter",
         "x": [
          373.067
         ],
         "xaxis": "x6",
         "y": [
          0
         ],
         "yaxis": "y6"
        },
        {
         "hovertemplate": "country=Uganda<br>continent=Africa<br>population_density=%{x}<br>reproduction_rate=%{y}<extra></extra>",
         "legendgroup": "Uganda",
         "marker": {
          "color": "#FFA15A",
          "symbol": "circle"
         },
         "mode": "markers",
         "name": "Uganda",
         "orientation": "v",
         "showlegend": true,
         "type": "scatter",
         "x": [
          213.759
         ],
         "xaxis": "x3",
         "y": [
          0
         ],
         "yaxis": "y3"
        },
        {
         "hovertemplate": "country=Ukraine<br>continent=Europe<br>population_density=%{x}<br>reproduction_rate=%{y}<extra></extra>",
         "legendgroup": "Ukraine",
         "marker": {
          "color": "#19d3f3",
          "symbol": "circle"
         },
         "mode": "markers",
         "name": "Ukraine",
         "orientation": "v",
         "showlegend": true,
         "type": "scatter",
         "x": [
          77.39
         ],
         "xaxis": "x2",
         "y": [
          1.2
         ],
         "yaxis": "y2"
        },
        {
         "hovertemplate": "country=United Arab Emirates<br>continent=Asia<br>population_density=%{x}<br>reproduction_rate=%{y}<extra></extra>",
         "legendgroup": "United Arab Emirates",
         "marker": {
          "color": "#FF6692",
          "symbol": "circle"
         },
         "mode": "markers",
         "name": "United Arab Emirates",
         "orientation": "v",
         "showlegend": true,
         "type": "scatter",
         "x": [
          112.442
         ],
         "xaxis": "x",
         "y": [
          0.88
         ],
         "yaxis": "y"
        },
        {
         "hovertemplate": "country=United Kingdom<br>continent=Europe<br>population_density=%{x}<br>reproduction_rate=%{y}<extra></extra>",
         "legendgroup": "United Kingdom",
         "marker": {
          "color": "#B6E880",
          "symbol": "circle"
         },
         "mode": "markers",
         "name": "United Kingdom",
         "orientation": "v",
         "showlegend": true,
         "type": "scatter",
         "x": [
          272.898
         ],
         "xaxis": "x2",
         "y": [
          0.48
         ],
         "yaxis": "y2"
        },
        {
         "hovertemplate": "country=United States<br>continent=North America<br>population_density=%{x}<br>reproduction_rate=%{y}<extra></extra>",
         "legendgroup": "United States",
         "marker": {
          "color": "#FF97FF",
          "symbol": "circle"
         },
         "mode": "markers",
         "name": "United States",
         "orientation": "v",
         "showlegend": true,
         "type": "scatter",
         "x": [
          35.608
         ],
         "xaxis": "x4",
         "y": [
          0.87
         ],
         "yaxis": "y4"
        },
        {
         "hovertemplate": "country=Uruguay<br>continent=South America<br>population_density=%{x}<br>reproduction_rate=%{y}<extra></extra>",
         "legendgroup": "Uruguay",
         "marker": {
          "color": "#FECB52",
          "symbol": "circle"
         },
         "mode": "markers",
         "name": "Uruguay",
         "orientation": "v",
         "showlegend": true,
         "type": "scatter",
         "x": [
          19.751
         ],
         "xaxis": "x5",
         "y": [
          1.04
         ],
         "yaxis": "y5"
        },
        {
         "hovertemplate": "country=Uzbekistan<br>continent=Asia<br>population_density=%{x}<br>reproduction_rate=%{y}<extra></extra>",
         "legendgroup": "Uzbekistan",
         "marker": {
          "color": "#636efa",
          "symbol": "circle"
         },
         "mode": "markers",
         "name": "Uzbekistan",
         "orientation": "v",
         "showlegend": true,
         "type": "scatter",
         "x": [
          76.134
         ],
         "xaxis": "x",
         "y": [
          1.46
         ],
         "yaxis": "y"
        },
        {
         "hovertemplate": "country=Vanuatu<br>continent=Oceania<br>population_density=%{x}<br>reproduction_rate=%{y}<extra></extra>",
         "legendgroup": "Vanuatu",
         "marker": {
          "color": "#EF553B",
          "symbol": "circle"
         },
         "mode": "markers",
         "name": "Vanuatu",
         "orientation": "v",
         "showlegend": true,
         "type": "scatter",
         "x": [
          22.662
         ],
         "xaxis": "x6",
         "y": [
          1.01
         ],
         "yaxis": "y6"
        },
        {
         "hovertemplate": "country=Vatican<br>continent=Europe<br>population_density=%{x}<br>reproduction_rate=%{y}<extra></extra>",
         "legendgroup": "Vatican",
         "marker": {
          "color": "#00cc96",
          "symbol": "circle"
         },
         "mode": "markers",
         "name": "Vatican",
         "orientation": "v",
         "showlegend": true,
         "type": "scatter",
         "x": [
          0
         ],
         "xaxis": "x2",
         "y": [
          0
         ],
         "yaxis": "y2"
        },
        {
         "hovertemplate": "country=Venezuela<br>continent=South America<br>population_density=%{x}<br>reproduction_rate=%{y}<extra></extra>",
         "legendgroup": "Venezuela",
         "marker": {
          "color": "#ab63fa",
          "symbol": "circle"
         },
         "mode": "markers",
         "name": "Venezuela",
         "orientation": "v",
         "showlegend": true,
         "type": "scatter",
         "x": [
          36.253
         ],
         "xaxis": "x5",
         "y": [
          0.99
         ],
         "yaxis": "y5"
        },
        {
         "hovertemplate": "country=Vietnam<br>continent=Asia<br>population_density=%{x}<br>reproduction_rate=%{y}<extra></extra>",
         "legendgroup": "Vietnam",
         "marker": {
          "color": "#FFA15A",
          "symbol": "circle"
         },
         "mode": "markers",
         "name": "Vietnam",
         "orientation": "v",
         "showlegend": true,
         "type": "scatter",
         "x": [
          308.127
         ],
         "xaxis": "x",
         "y": [
          0.85
         ],
         "yaxis": "y"
        },
        {
         "hovertemplate": "country=Wallis and Futuna<br>continent=Oceania<br>population_density=%{x}<br>reproduction_rate=%{y}<extra></extra>",
         "legendgroup": "Wallis and Futuna",
         "marker": {
          "color": "#19d3f3",
          "symbol": "circle"
         },
         "mode": "markers",
         "name": "Wallis and Futuna",
         "orientation": "v",
         "showlegend": true,
         "type": "scatter",
         "x": [
          0
         ],
         "xaxis": "x6",
         "y": [
          0
         ],
         "yaxis": "y6"
        },
        {
         "hovertemplate": "country=Yemen<br>continent=Asia<br>population_density=%{x}<br>reproduction_rate=%{y}<extra></extra>",
         "legendgroup": "Yemen",
         "marker": {
          "color": "#FF6692",
          "symbol": "circle"
         },
         "mode": "markers",
         "name": "Yemen",
         "orientation": "v",
         "showlegend": true,
         "type": "scatter",
         "x": [
          53.508
         ],
         "xaxis": "x",
         "y": [
          0.21
         ],
         "yaxis": "y"
        },
        {
         "hovertemplate": "country=Zambia<br>continent=Africa<br>population_density=%{x}<br>reproduction_rate=%{y}<extra></extra>",
         "legendgroup": "Zambia",
         "marker": {
          "color": "#B6E880",
          "symbol": "circle"
         },
         "mode": "markers",
         "name": "Zambia",
         "orientation": "v",
         "showlegend": true,
         "type": "scatter",
         "x": [
          22.995
         ],
         "xaxis": "x3",
         "y": [
          0.86
         ],
         "yaxis": "y3"
        },
        {
         "hovertemplate": "country=Zimbabwe<br>continent=Africa<br>population_density=%{x}<br>reproduction_rate=%{y}<extra></extra>",
         "legendgroup": "Zimbabwe",
         "marker": {
          "color": "#FF97FF",
          "symbol": "circle"
         },
         "mode": "markers",
         "name": "Zimbabwe",
         "orientation": "v",
         "showlegend": true,
         "type": "scatter",
         "x": [
          42.729
         ],
         "xaxis": "x3",
         "y": [
          1.33
         ],
         "yaxis": "y3"
        }
       ],
       "layout": {
        "annotations": [
         {
          "font": {},
          "showarrow": false,
          "text": "continent=Asia",
          "x": 0.075,
          "xanchor": "center",
          "xref": "paper",
          "y": 1,
          "yanchor": "bottom",
          "yref": "paper"
         },
         {
          "font": {},
          "showarrow": false,
          "text": "continent=Europe",
          "x": 0.24499999999999997,
          "xanchor": "center",
          "xref": "paper",
          "y": 1,
          "yanchor": "bottom",
          "yref": "paper"
         },
         {
          "font": {},
          "showarrow": false,
          "text": "continent=Africa",
          "x": 0.415,
          "xanchor": "center",
          "xref": "paper",
          "y": 1,
          "yanchor": "bottom",
          "yref": "paper"
         },
         {
          "font": {},
          "showarrow": false,
          "text": "continent=North America",
          "x": 0.585,
          "xanchor": "center",
          "xref": "paper",
          "y": 1,
          "yanchor": "bottom",
          "yref": "paper"
         },
         {
          "font": {},
          "showarrow": false,
          "text": "continent=South America",
          "x": 0.7549999999999999,
          "xanchor": "center",
          "xref": "paper",
          "y": 1,
          "yanchor": "bottom",
          "yref": "paper"
         },
         {
          "font": {},
          "showarrow": false,
          "text": "continent=Oceania",
          "x": 0.925,
          "xanchor": "center",
          "xref": "paper",
          "y": 1,
          "yanchor": "bottom",
          "yref": "paper"
         }
        ],
        "legend": {
         "title": {
          "text": "country"
         },
         "tracegroupgap": 0
        },
        "template": {
         "data": {
          "bar": [
           {
            "error_x": {
             "color": "#2a3f5f"
            },
            "error_y": {
             "color": "#2a3f5f"
            },
            "marker": {
             "line": {
              "color": "#E5ECF6",
              "width": 0.5
             },
             "pattern": {
              "fillmode": "overlay",
              "size": 10,
              "solidity": 0.2
             }
            },
            "type": "bar"
           }
          ],
          "barpolar": [
           {
            "marker": {
             "line": {
              "color": "#E5ECF6",
              "width": 0.5
             },
             "pattern": {
              "fillmode": "overlay",
              "size": 10,
              "solidity": 0.2
             }
            },
            "type": "barpolar"
           }
          ],
          "carpet": [
           {
            "aaxis": {
             "endlinecolor": "#2a3f5f",
             "gridcolor": "white",
             "linecolor": "white",
             "minorgridcolor": "white",
             "startlinecolor": "#2a3f5f"
            },
            "baxis": {
             "endlinecolor": "#2a3f5f",
             "gridcolor": "white",
             "linecolor": "white",
             "minorgridcolor": "white",
             "startlinecolor": "#2a3f5f"
            },
            "type": "carpet"
           }
          ],
          "choropleth": [
           {
            "colorbar": {
             "outlinewidth": 0,
             "ticks": ""
            },
            "type": "choropleth"
           }
          ],
          "contour": [
           {
            "colorbar": {
             "outlinewidth": 0,
             "ticks": ""
            },
            "colorscale": [
             [
              0,
              "#0d0887"
             ],
             [
              0.1111111111111111,
              "#46039f"
             ],
             [
              0.2222222222222222,
              "#7201a8"
             ],
             [
              0.3333333333333333,
              "#9c179e"
             ],
             [
              0.4444444444444444,
              "#bd3786"
             ],
             [
              0.5555555555555556,
              "#d8576b"
             ],
             [
              0.6666666666666666,
              "#ed7953"
             ],
             [
              0.7777777777777778,
              "#fb9f3a"
             ],
             [
              0.8888888888888888,
              "#fdca26"
             ],
             [
              1,
              "#f0f921"
             ]
            ],
            "type": "contour"
           }
          ],
          "contourcarpet": [
           {
            "colorbar": {
             "outlinewidth": 0,
             "ticks": ""
            },
            "type": "contourcarpet"
           }
          ],
          "heatmap": [
           {
            "colorbar": {
             "outlinewidth": 0,
             "ticks": ""
            },
            "colorscale": [
             [
              0,
              "#0d0887"
             ],
             [
              0.1111111111111111,
              "#46039f"
             ],
             [
              0.2222222222222222,
              "#7201a8"
             ],
             [
              0.3333333333333333,
              "#9c179e"
             ],
             [
              0.4444444444444444,
              "#bd3786"
             ],
             [
              0.5555555555555556,
              "#d8576b"
             ],
             [
              0.6666666666666666,
              "#ed7953"
             ],
             [
              0.7777777777777778,
              "#fb9f3a"
             ],
             [
              0.8888888888888888,
              "#fdca26"
             ],
             [
              1,
              "#f0f921"
             ]
            ],
            "type": "heatmap"
           }
          ],
          "heatmapgl": [
           {
            "colorbar": {
             "outlinewidth": 0,
             "ticks": ""
            },
            "colorscale": [
             [
              0,
              "#0d0887"
             ],
             [
              0.1111111111111111,
              "#46039f"
             ],
             [
              0.2222222222222222,
              "#7201a8"
             ],
             [
              0.3333333333333333,
              "#9c179e"
             ],
             [
              0.4444444444444444,
              "#bd3786"
             ],
             [
              0.5555555555555556,
              "#d8576b"
             ],
             [
              0.6666666666666666,
              "#ed7953"
             ],
             [
              0.7777777777777778,
              "#fb9f3a"
             ],
             [
              0.8888888888888888,
              "#fdca26"
             ],
             [
              1,
              "#f0f921"
             ]
            ],
            "type": "heatmapgl"
           }
          ],
          "histogram": [
           {
            "marker": {
             "pattern": {
              "fillmode": "overlay",
              "size": 10,
              "solidity": 0.2
             }
            },
            "type": "histogram"
           }
          ],
          "histogram2d": [
           {
            "colorbar": {
             "outlinewidth": 0,
             "ticks": ""
            },
            "colorscale": [
             [
              0,
              "#0d0887"
             ],
             [
              0.1111111111111111,
              "#46039f"
             ],
             [
              0.2222222222222222,
              "#7201a8"
             ],
             [
              0.3333333333333333,
              "#9c179e"
             ],
             [
              0.4444444444444444,
              "#bd3786"
             ],
             [
              0.5555555555555556,
              "#d8576b"
             ],
             [
              0.6666666666666666,
              "#ed7953"
             ],
             [
              0.7777777777777778,
              "#fb9f3a"
             ],
             [
              0.8888888888888888,
              "#fdca26"
             ],
             [
              1,
              "#f0f921"
             ]
            ],
            "type": "histogram2d"
           }
          ],
          "histogram2dcontour": [
           {
            "colorbar": {
             "outlinewidth": 0,
             "ticks": ""
            },
            "colorscale": [
             [
              0,
              "#0d0887"
             ],
             [
              0.1111111111111111,
              "#46039f"
             ],
             [
              0.2222222222222222,
              "#7201a8"
             ],
             [
              0.3333333333333333,
              "#9c179e"
             ],
             [
              0.4444444444444444,
              "#bd3786"
             ],
             [
              0.5555555555555556,
              "#d8576b"
             ],
             [
              0.6666666666666666,
              "#ed7953"
             ],
             [
              0.7777777777777778,
              "#fb9f3a"
             ],
             [
              0.8888888888888888,
              "#fdca26"
             ],
             [
              1,
              "#f0f921"
             ]
            ],
            "type": "histogram2dcontour"
           }
          ],
          "mesh3d": [
           {
            "colorbar": {
             "outlinewidth": 0,
             "ticks": ""
            },
            "type": "mesh3d"
           }
          ],
          "parcoords": [
           {
            "line": {
             "colorbar": {
              "outlinewidth": 0,
              "ticks": ""
             }
            },
            "type": "parcoords"
           }
          ],
          "pie": [
           {
            "automargin": true,
            "type": "pie"
           }
          ],
          "scatter": [
           {
            "fillpattern": {
             "fillmode": "overlay",
             "size": 10,
             "solidity": 0.2
            },
            "type": "scatter"
           }
          ],
          "scatter3d": [
           {
            "line": {
             "colorbar": {
              "outlinewidth": 0,
              "ticks": ""
             }
            },
            "marker": {
             "colorbar": {
              "outlinewidth": 0,
              "ticks": ""
             }
            },
            "type": "scatter3d"
           }
          ],
          "scattercarpet": [
           {
            "marker": {
             "colorbar": {
              "outlinewidth": 0,
              "ticks": ""
             }
            },
            "type": "scattercarpet"
           }
          ],
          "scattergeo": [
           {
            "marker": {
             "colorbar": {
              "outlinewidth": 0,
              "ticks": ""
             }
            },
            "type": "scattergeo"
           }
          ],
          "scattergl": [
           {
            "marker": {
             "colorbar": {
              "outlinewidth": 0,
              "ticks": ""
             }
            },
            "type": "scattergl"
           }
          ],
          "scattermapbox": [
           {
            "marker": {
             "colorbar": {
              "outlinewidth": 0,
              "ticks": ""
             }
            },
            "type": "scattermapbox"
           }
          ],
          "scatterpolar": [
           {
            "marker": {
             "colorbar": {
              "outlinewidth": 0,
              "ticks": ""
             }
            },
            "type": "scatterpolar"
           }
          ],
          "scatterpolargl": [
           {
            "marker": {
             "colorbar": {
              "outlinewidth": 0,
              "ticks": ""
             }
            },
            "type": "scatterpolargl"
           }
          ],
          "scatterternary": [
           {
            "marker": {
             "colorbar": {
              "outlinewidth": 0,
              "ticks": ""
             }
            },
            "type": "scatterternary"
           }
          ],
          "surface": [
           {
            "colorbar": {
             "outlinewidth": 0,
             "ticks": ""
            },
            "colorscale": [
             [
              0,
              "#0d0887"
             ],
             [
              0.1111111111111111,
              "#46039f"
             ],
             [
              0.2222222222222222,
              "#7201a8"
             ],
             [
              0.3333333333333333,
              "#9c179e"
             ],
             [
              0.4444444444444444,
              "#bd3786"
             ],
             [
              0.5555555555555556,
              "#d8576b"
             ],
             [
              0.6666666666666666,
              "#ed7953"
             ],
             [
              0.7777777777777778,
              "#fb9f3a"
             ],
             [
              0.8888888888888888,
              "#fdca26"
             ],
             [
              1,
              "#f0f921"
             ]
            ],
            "type": "surface"
           }
          ],
          "table": [
           {
            "cells": {
             "fill": {
              "color": "#EBF0F8"
             },
             "line": {
              "color": "white"
             }
            },
            "header": {
             "fill": {
              "color": "#C8D4E3"
             },
             "line": {
              "color": "white"
             }
            },
            "type": "table"
           }
          ]
         },
         "layout": {
          "annotationdefaults": {
           "arrowcolor": "#2a3f5f",
           "arrowhead": 0,
           "arrowwidth": 1
          },
          "autotypenumbers": "strict",
          "coloraxis": {
           "colorbar": {
            "outlinewidth": 0,
            "ticks": ""
           }
          },
          "colorscale": {
           "diverging": [
            [
             0,
             "#8e0152"
            ],
            [
             0.1,
             "#c51b7d"
            ],
            [
             0.2,
             "#de77ae"
            ],
            [
             0.3,
             "#f1b6da"
            ],
            [
             0.4,
             "#fde0ef"
            ],
            [
             0.5,
             "#f7f7f7"
            ],
            [
             0.6,
             "#e6f5d0"
            ],
            [
             0.7,
             "#b8e186"
            ],
            [
             0.8,
             "#7fbc41"
            ],
            [
             0.9,
             "#4d9221"
            ],
            [
             1,
             "#276419"
            ]
           ],
           "sequential": [
            [
             0,
             "#0d0887"
            ],
            [
             0.1111111111111111,
             "#46039f"
            ],
            [
             0.2222222222222222,
             "#7201a8"
            ],
            [
             0.3333333333333333,
             "#9c179e"
            ],
            [
             0.4444444444444444,
             "#bd3786"
            ],
            [
             0.5555555555555556,
             "#d8576b"
            ],
            [
             0.6666666666666666,
             "#ed7953"
            ],
            [
             0.7777777777777778,
             "#fb9f3a"
            ],
            [
             0.8888888888888888,
             "#fdca26"
            ],
            [
             1,
             "#f0f921"
            ]
           ],
           "sequentialminus": [
            [
             0,
             "#0d0887"
            ],
            [
             0.1111111111111111,
             "#46039f"
            ],
            [
             0.2222222222222222,
             "#7201a8"
            ],
            [
             0.3333333333333333,
             "#9c179e"
            ],
            [
             0.4444444444444444,
             "#bd3786"
            ],
            [
             0.5555555555555556,
             "#d8576b"
            ],
            [
             0.6666666666666666,
             "#ed7953"
            ],
            [
             0.7777777777777778,
             "#fb9f3a"
            ],
            [
             0.8888888888888888,
             "#fdca26"
            ],
            [
             1,
             "#f0f921"
            ]
           ]
          },
          "colorway": [
           "#636efa",
           "#EF553B",
           "#00cc96",
           "#ab63fa",
           "#FFA15A",
           "#19d3f3",
           "#FF6692",
           "#B6E880",
           "#FF97FF",
           "#FECB52"
          ],
          "font": {
           "color": "#2a3f5f"
          },
          "geo": {
           "bgcolor": "white",
           "lakecolor": "white",
           "landcolor": "#E5ECF6",
           "showlakes": true,
           "showland": true,
           "subunitcolor": "white"
          },
          "hoverlabel": {
           "align": "left"
          },
          "hovermode": "closest",
          "mapbox": {
           "style": "light"
          },
          "paper_bgcolor": "white",
          "plot_bgcolor": "#E5ECF6",
          "polar": {
           "angularaxis": {
            "gridcolor": "white",
            "linecolor": "white",
            "ticks": ""
           },
           "bgcolor": "#E5ECF6",
           "radialaxis": {
            "gridcolor": "white",
            "linecolor": "white",
            "ticks": ""
           }
          },
          "scene": {
           "xaxis": {
            "backgroundcolor": "#E5ECF6",
            "gridcolor": "white",
            "gridwidth": 2,
            "linecolor": "white",
            "showbackground": true,
            "ticks": "",
            "zerolinecolor": "white"
           },
           "yaxis": {
            "backgroundcolor": "#E5ECF6",
            "gridcolor": "white",
            "gridwidth": 2,
            "linecolor": "white",
            "showbackground": true,
            "ticks": "",
            "zerolinecolor": "white"
           },
           "zaxis": {
            "backgroundcolor": "#E5ECF6",
            "gridcolor": "white",
            "gridwidth": 2,
            "linecolor": "white",
            "showbackground": true,
            "ticks": "",
            "zerolinecolor": "white"
           }
          },
          "shapedefaults": {
           "line": {
            "color": "#2a3f5f"
           }
          },
          "ternary": {
           "aaxis": {
            "gridcolor": "white",
            "linecolor": "white",
            "ticks": ""
           },
           "baxis": {
            "gridcolor": "white",
            "linecolor": "white",
            "ticks": ""
           },
           "bgcolor": "#E5ECF6",
           "caxis": {
            "gridcolor": "white",
            "linecolor": "white",
            "ticks": ""
           }
          },
          "title": {
           "x": 0.05
          },
          "xaxis": {
           "automargin": true,
           "gridcolor": "white",
           "linecolor": "white",
           "ticks": "",
           "title": {
            "standoff": 15
           },
           "zerolinecolor": "white",
           "zerolinewidth": 2
          },
          "yaxis": {
           "automargin": true,
           "gridcolor": "white",
           "linecolor": "white",
           "ticks": "",
           "title": {
            "standoff": 15
           },
           "zerolinecolor": "white",
           "zerolinewidth": 2
          }
         }
        },
        "title": {
         "text": "Reproduction rate according countries"
        },
        "xaxis": {
         "anchor": "y",
         "domain": [
          0,
          0.15
         ],
         "title": {
          "text": "population_density"
         }
        },
        "xaxis2": {
         "anchor": "y2",
         "domain": [
          0.16999999999999998,
          0.31999999999999995
         ],
         "matches": "x",
         "title": {
          "text": "population_density"
         }
        },
        "xaxis3": {
         "anchor": "y3",
         "domain": [
          0.33999999999999997,
          0.49
         ],
         "matches": "x",
         "title": {
          "text": "population_density"
         }
        },
        "xaxis4": {
         "anchor": "y4",
         "domain": [
          0.51,
          0.66
         ],
         "matches": "x",
         "title": {
          "text": "population_density"
         }
        },
        "xaxis5": {
         "anchor": "y5",
         "domain": [
          0.6799999999999999,
          0.83
         ],
         "matches": "x",
         "title": {
          "text": "population_density"
         }
        },
        "xaxis6": {
         "anchor": "y6",
         "domain": [
          0.85,
          1
         ],
         "matches": "x",
         "title": {
          "text": "population_density"
         }
        },
        "yaxis": {
         "anchor": "x",
         "domain": [
          0,
          1
         ],
         "title": {
          "text": "reproduction_rate"
         }
        },
        "yaxis2": {
         "anchor": "x2",
         "domain": [
          0,
          1
         ],
         "matches": "y",
         "showticklabels": false
        },
        "yaxis3": {
         "anchor": "x3",
         "domain": [
          0,
          1
         ],
         "matches": "y",
         "showticklabels": false
        },
        "yaxis4": {
         "anchor": "x4",
         "domain": [
          0,
          1
         ],
         "matches": "y",
         "showticklabels": false
        },
        "yaxis5": {
         "anchor": "x5",
         "domain": [
          0,
          1
         ],
         "matches": "y",
         "showticklabels": false
        },
        "yaxis6": {
         "anchor": "x6",
         "domain": [
          0,
          1
         ],
         "matches": "y",
         "showticklabels": false
        }
       }
      }
     },
     "metadata": {},
     "output_type": "display_data"
    }
   ],
   "source": [
    "fig=px.scatter(df_new, x= 'population_density',y= 'reproduction_rate',color='country',facet_col='continent',title='Reproduction rate according countries')\n",
    "fig.show()"
   ]
  },
  {
   "cell_type": "code",
   "execution_count": 72,
   "metadata": {},
   "outputs": [
    {
     "data": {
      "application/vnd.plotly.v1+json": {
       "config": {
        "plotlyServerURL": "https://plot.ly"
       },
       "data": [
        {
         "alignmentgroup": "True",
         "hovertemplate": "<b>%{hovertext}</b><br><br>continent=Asia<br>median_age=%{x}<br>total_cases=%{y}<extra></extra>",
         "hovertext": [
          "Afghanistan",
          "Armenia",
          "Azerbaijan",
          "Bahrain",
          "Bangladesh",
          "Bhutan",
          "Brunei",
          "Cambodia",
          "China",
          "Georgia",
          "Hong Kong",
          "India",
          "Indonesia",
          "Iran",
          "Iraq",
          "Israel",
          "Japan",
          "Jordan",
          "Kazakhstan",
          "Kuwait",
          "Kyrgyzstan",
          "Laos",
          "Lebanon",
          "Macao",
          "Malaysia",
          "Maldives",
          "Mongolia",
          "Myanmar",
          "Nepal",
          "North Korea",
          "Oman",
          "Pakistan",
          "Palestine",
          "Philippines",
          "Qatar",
          "Saudi Arabia",
          "Singapore",
          "South Korea",
          "Sri Lanka",
          "Syria",
          "Taiwan",
          "Tajikistan",
          "Thailand",
          "Timor",
          "Turkey",
          "United Arab Emirates",
          "Uzbekistan",
          "Vietnam",
          "Yemen"
         ],
         "legendgroup": "Asia",
         "marker": {
          "color": "#636efa",
          "pattern": {
           "shape": ""
          }
         },
         "name": "Asia",
         "offsetgroup": "Asia",
         "orientation": "v",
         "showlegend": true,
         "textposition": "auto",
         "type": "bar",
         "x": [
          18.6,
          35.7,
          32.4,
          32.4,
          27.5,
          28.6,
          32.4,
          25.6,
          38.7,
          38.7,
          44.8,
          28.2,
          29.3,
          32.4,
          20,
          30.6,
          48.2,
          23.2,
          30.6,
          33.7,
          26.3,
          24.4,
          31.1,
          39.2,
          29.9,
          30.6,
          28.6,
          29.1,
          25,
          35.3,
          30.7,
          23.5,
          20.4,
          25.2,
          31.9,
          31.9,
          42.4,
          43.4,
          34.1,
          21.7,
          42.2,
          23.3,
          40.1,
          18,
          31.6,
          34,
          28.2,
          32.6,
          20.3
         ],
         "xaxis": "x",
         "y": [
          197240,
          439302,
          819518,
          676094,
          2017614,
          61419,
          224610,
          137767,
          981003,
          1762206,
          1707495,
          44539046,
          6408806,
          7542822,
          2458509,
          4650286,
          20693615,
          1745032,
          1482564,
          657745,
          205920,
          215448,
          1213769,
          793,
          4818890,
          184966,
          981963,
          618898,
          999241,
          1,
          397993,
          1571894,
          702768,
          3920693,
          441445,
          815195,
          1875275,
          24413873,
          670596,
          57220,
          5970438,
          17786,
          4673629,
          23239,
          16852382,
          1022960,
          244023,
          11458449,
          11932
         ],
         "yaxis": "y"
        },
        {
         "alignmentgroup": "True",
         "hovertemplate": "<b>%{hovertext}</b><br><br>continent=Europe<br>median_age=%{x}<br>total_cases=%{y}<extra></extra>",
         "hovertext": [
          "Albania",
          "Andorra",
          "Austria",
          "Belarus",
          "Belgium",
          "Bosnia and Herzegovina",
          "Bulgaria",
          "Croatia",
          "Cyprus",
          "Czechia",
          "Denmark",
          "Estonia",
          "Faeroe Islands",
          "Finland",
          "France",
          "Germany",
          "Gibraltar",
          "Greece",
          "Hungary",
          "Iceland",
          "Ireland",
          "Isle of Man",
          "Italy",
          "Jersey",
          "Kosovo",
          "Latvia",
          "Liechtenstein",
          "Lithuania",
          "Luxembourg",
          "Malta",
          "Moldova",
          "Monaco",
          "Montenegro",
          "Netherlands",
          "North Macedonia",
          "Norway",
          "Poland",
          "Portugal",
          "Romania",
          "Russia",
          "San Marino",
          "Serbia",
          "Slovakia",
          "Slovenia",
          "Spain",
          "Sweden",
          "Switzerland",
          "Ukraine",
          "United Kingdom",
          "Vatican"
         ],
         "legendgroup": "Europe",
         "marker": {
          "color": "#EF553B",
          "pattern": {
           "shape": ""
          }
         },
         "name": "Europe",
         "offsetgroup": "Europe",
         "orientation": "v",
         "showlegend": true,
         "textposition": "auto",
         "type": "bar",
         "x": [
          38,
          0,
          44.4,
          40.3,
          41.8,
          42.5,
          44.7,
          44,
          37.3,
          43.3,
          42.3,
          42.7,
          0,
          42.8,
          42,
          46.6,
          0,
          45.3,
          43.4,
          37.3,
          38.7,
          0,
          47.9,
          0,
          0,
          43.9,
          0,
          43.5,
          39.7,
          42.4,
          37.6,
          0,
          39.1,
          43.2,
          39.1,
          39.7,
          41.8,
          46.2,
          43,
          39.6,
          0,
          41.2,
          41.2,
          44.5,
          45.5,
          41,
          43.1,
          41.4,
          40.8,
          0
         ],
         "xaxis": "x",
         "y": [
          331583,
          46147,
          5024113,
          994037,
          4511590,
          397822,
          1251669,
          1224837,
          582381,
          4074269,
          3285290,
          599596,
          34658,
          1277473,
          34922264,
          32680356,
          20069,
          4838811,
          2070443,
          205284,
          1660635,
          38008,
          22161016,
          0,
          271998,
          913371,
          19419,
          1235373,
          288721,
          114411,
          583183,
          14501,
          278386,
          8416314,
          342075,
          1461513,
          6244650,
          5456778,
          3253082,
          20143127,
          20552,
          2333969,
          2616071,
          1157071,
          13384876,
          2578521,
          4073348,
          5392365,
          23585304,
          29
         ],
         "yaxis": "y"
        },
        {
         "alignmentgroup": "True",
         "hovertemplate": "<b>%{hovertext}</b><br><br>continent=Africa<br>median_age=%{x}<br>total_cases=%{y}<extra></extra>",
         "hovertext": [
          "Algeria",
          "Angola",
          "Benin",
          "Botswana",
          "Burkina Faso",
          "Burundi",
          "Cameroon",
          "Cape Verde",
          "Central African Republic",
          "Chad",
          "Comoros",
          "Congo",
          "Cote d'Ivoire",
          "Democratic Republic of Congo",
          "Djibouti",
          "Egypt",
          "Equatorial Guinea",
          "Eritrea",
          "Eswatini",
          "Ethiopia",
          "Gabon",
          "Gambia",
          "Ghana",
          "Guinea",
          "Guinea-Bissau",
          "Kenya",
          "Lesotho",
          "Liberia",
          "Libya",
          "Madagascar",
          "Malawi",
          "Mali",
          "Mauritania",
          "Mauritius",
          "Morocco",
          "Mozambique",
          "Namibia",
          "Niger",
          "Nigeria",
          "Rwanda",
          "Saint Helena",
          "Sao Tome and Principe",
          "Senegal",
          "Seychelles",
          "Sierra Leone",
          "Somalia",
          "South Africa",
          "South Sudan",
          "Sudan",
          "Tanzania",
          "Togo",
          "Tunisia",
          "Uganda",
          "Zambia",
          "Zimbabwe"
         ],
         "legendgroup": "Africa",
         "marker": {
          "color": "#00cc96",
          "pattern": {
           "shape": ""
          }
         },
         "name": "Africa",
         "offsetgroup": "Africa",
         "orientation": "v",
         "showlegend": true,
         "textposition": "auto",
         "type": "bar",
         "x": [
          29.1,
          16.8,
          18.8,
          25.8,
          17.6,
          17.5,
          18.8,
          25.7,
          18.3,
          16.7,
          20.4,
          19,
          18.7,
          17,
          25.4,
          25.3,
          22.4,
          19.3,
          21.5,
          19.8,
          23.1,
          17.5,
          21.1,
          19,
          19.4,
          20,
          22.2,
          19.2,
          29,
          19.6,
          18.1,
          16.4,
          20.3,
          37.4,
          29.6,
          17.7,
          22,
          15.1,
          18.1,
          20.3,
          0,
          18.7,
          18.7,
          36.2,
          19.1,
          16.8,
          27.3,
          19.2,
          19.7,
          17.7,
          19.4,
          32.7,
          16.4,
          17.7,
          19.6
         ],
         "xaxis": "x",
         "y": [
          270609,
          103131,
          27638,
          326127,
          21128,
          49882,
          121652,
          62354,
          14904,
          7560,
          8467,
          24837,
          87031,
          92751,
          15690,
          515645,
          16991,
          10164,
          73379,
          493430,
          48682,
          12508,
          168616,
          37652,
          8796,
          338341,
          34490,
          7929,
          506926,
          66660,
          87980,
          32508,
          62784,
          260947,
          1264779,
          230219,
          169253,
          9931,
          264933,
          132486,
          7,
          6193,
          88268,
          46358,
          7750,
          27197,
          4015880,
          17823,
          63275,
          39253,
          38741,
          1145163,
          169396,
          333382,
          256996
         ],
         "yaxis": "y"
        },
        {
         "alignmentgroup": "True",
         "hovertemplate": "<b>%{hovertext}</b><br><br>continent=North America<br>median_age=%{x}<br>total_cases=%{y}<extra></extra>",
         "hovertext": [
          "Anguilla",
          "Antigua and Barbuda",
          "Aruba",
          "Bahamas",
          "Barbados",
          "Belize",
          "Bermuda",
          "Bonaire Sint Eustatius and Saba",
          "British Virgin Islands",
          "Canada",
          "Cayman Islands",
          "Costa Rica",
          "Cuba",
          "Curacao",
          "Dominica",
          "Dominican Republic",
          "El Salvador",
          "Greenland",
          "Grenada",
          "Guatemala",
          "Haiti",
          "Honduras",
          "Jamaica",
          "Mexico",
          "Montserrat",
          "Nicaragua",
          "Panama",
          "Saint Kitts and Nevis",
          "Saint Lucia",
          "Saint Pierre and Miquelon",
          "Saint Vincent and the Grenadines",
          "Trinidad and Tobago",
          "Turks and Caicos Islands",
          "United States"
         ],
         "legendgroup": "North America",
         "marker": {
          "color": "#ab63fa",
          "pattern": {
           "shape": ""
          }
         },
         "name": "North America",
         "offsetgroup": "North America",
         "orientation": "v",
         "showlegend": true,
         "textposition": "auto",
         "type": "bar",
         "x": [
          0,
          32.1,
          41.2,
          34.3,
          39.8,
          25,
          0,
          0,
          0,
          41.4,
          0,
          33.6,
          43.1,
          41.7,
          0,
          27.6,
          27.6,
          0,
          29.4,
          22.9,
          24.3,
          24.9,
          31.4,
          29.3,
          0,
          27.3,
          29.7,
          0,
          34.9,
          0,
          31.8,
          36.2,
          0,
          38.3
         ],
         "xaxis": "x",
         "y": [
          3856,
          9008,
          42970,
          37187,
          102193,
          68704,
          18077,
          11306,
          7305,
          4245082,
          30545,
          1105792,
          1111031,
          45345,
          14852,
          644016,
          201785,
          11971,
          19473,
          1114951,
          33721,
          455836,
          151269,
          7069764,
          1326,
          14990,
          984234,
          6541,
          28959,
          3166,
          9446,
          182247,
          6380,
          95658236
         ],
         "yaxis": "y"
        },
        {
         "alignmentgroup": "True",
         "hovertemplate": "<b>%{hovertext}</b><br><br>continent=South America<br>median_age=%{x}<br>total_cases=%{y}<extra></extra>",
         "hovertext": [
          "Argentina",
          "Bolivia",
          "Brazil",
          "Chile",
          "Colombia",
          "Ecuador",
          "Falkland Islands",
          "Guyana",
          "Paraguay",
          "Peru",
          "Suriname",
          "Uruguay",
          "Venezuela"
         ],
         "legendgroup": "South America",
         "marker": {
          "color": "#FFA15A",
          "pattern": {
           "shape": ""
          }
         },
         "name": "South America",
         "offsetgroup": "South America",
         "orientation": "v",
         "showlegend": true,
         "textposition": "auto",
         "type": "bar",
         "x": [
          31.9,
          25.4,
          33.5,
          35.4,
          32.2,
          28.1,
          0,
          26.3,
          26.5,
          29.1,
          29.6,
          35.6,
          29
         ],
         "xaxis": "x",
         "y": [
          9703938,
          1107139,
          34568833,
          4568495,
          6305562,
          1000214,
          1886,
          71256,
          716009,
          4132687,
          81078,
          982846,
          544210
         ],
         "yaxis": "y"
        },
        {
         "alignmentgroup": "True",
         "hovertemplate": "<b>%{hovertext}</b><br><br>continent=Oceania<br>median_age=%{x}<br>total_cases=%{y}<extra></extra>",
         "hovertext": [
          "Australia",
          "Cook Islands",
          "Fiji",
          "French Polynesia",
          "Kiribati",
          "Marshall Islands",
          "Micronesia (country)",
          "Nauru",
          "New Caledonia",
          "New Zealand",
          "Palau",
          "Papua New Guinea",
          "Samoa",
          "Solomon Islands",
          "Tonga",
          "Tuvalu",
          "Vanuatu",
          "Wallis and Futuna"
         ],
         "legendgroup": "Oceania",
         "marker": {
          "color": "#19d3f3",
          "pattern": {
           "shape": ""
          }
         },
         "name": "Oceania",
         "offsetgroup": "Oceania",
         "orientation": "v",
         "showlegend": true,
         "textposition": "auto",
         "type": "bar",
         "x": [
          37.9,
          0,
          28.6,
          32.7,
          23.2,
          0,
          23,
          0,
          33.4,
          37.9,
          0,
          22.6,
          22,
          20.8,
          22.3,
          0,
          23.1,
          0
         ],
         "xaxis": "x",
         "y": [
          10159613,
          6389,
          68223,
          76578,
          3430,
          15213,
          10010,
          4611,
          74222,
          1762204,
          5445,
          44931,
          15889,
          21544,
          16182,
          20,
          11937,
          761
         ],
         "yaxis": "y"
        }
       ],
       "layout": {
        "barmode": "relative",
        "legend": {
         "title": {
          "text": "continent"
         },
         "tracegroupgap": 0
        },
        "template": {
         "data": {
          "bar": [
           {
            "error_x": {
             "color": "#2a3f5f"
            },
            "error_y": {
             "color": "#2a3f5f"
            },
            "marker": {
             "line": {
              "color": "#E5ECF6",
              "width": 0.5
             },
             "pattern": {
              "fillmode": "overlay",
              "size": 10,
              "solidity": 0.2
             }
            },
            "type": "bar"
           }
          ],
          "barpolar": [
           {
            "marker": {
             "line": {
              "color": "#E5ECF6",
              "width": 0.5
             },
             "pattern": {
              "fillmode": "overlay",
              "size": 10,
              "solidity": 0.2
             }
            },
            "type": "barpolar"
           }
          ],
          "carpet": [
           {
            "aaxis": {
             "endlinecolor": "#2a3f5f",
             "gridcolor": "white",
             "linecolor": "white",
             "minorgridcolor": "white",
             "startlinecolor": "#2a3f5f"
            },
            "baxis": {
             "endlinecolor": "#2a3f5f",
             "gridcolor": "white",
             "linecolor": "white",
             "minorgridcolor": "white",
             "startlinecolor": "#2a3f5f"
            },
            "type": "carpet"
           }
          ],
          "choropleth": [
           {
            "colorbar": {
             "outlinewidth": 0,
             "ticks": ""
            },
            "type": "choropleth"
           }
          ],
          "contour": [
           {
            "colorbar": {
             "outlinewidth": 0,
             "ticks": ""
            },
            "colorscale": [
             [
              0,
              "#0d0887"
             ],
             [
              0.1111111111111111,
              "#46039f"
             ],
             [
              0.2222222222222222,
              "#7201a8"
             ],
             [
              0.3333333333333333,
              "#9c179e"
             ],
             [
              0.4444444444444444,
              "#bd3786"
             ],
             [
              0.5555555555555556,
              "#d8576b"
             ],
             [
              0.6666666666666666,
              "#ed7953"
             ],
             [
              0.7777777777777778,
              "#fb9f3a"
             ],
             [
              0.8888888888888888,
              "#fdca26"
             ],
             [
              1,
              "#f0f921"
             ]
            ],
            "type": "contour"
           }
          ],
          "contourcarpet": [
           {
            "colorbar": {
             "outlinewidth": 0,
             "ticks": ""
            },
            "type": "contourcarpet"
           }
          ],
          "heatmap": [
           {
            "colorbar": {
             "outlinewidth": 0,
             "ticks": ""
            },
            "colorscale": [
             [
              0,
              "#0d0887"
             ],
             [
              0.1111111111111111,
              "#46039f"
             ],
             [
              0.2222222222222222,
              "#7201a8"
             ],
             [
              0.3333333333333333,
              "#9c179e"
             ],
             [
              0.4444444444444444,
              "#bd3786"
             ],
             [
              0.5555555555555556,
              "#d8576b"
             ],
             [
              0.6666666666666666,
              "#ed7953"
             ],
             [
              0.7777777777777778,
              "#fb9f3a"
             ],
             [
              0.8888888888888888,
              "#fdca26"
             ],
             [
              1,
              "#f0f921"
             ]
            ],
            "type": "heatmap"
           }
          ],
          "heatmapgl": [
           {
            "colorbar": {
             "outlinewidth": 0,
             "ticks": ""
            },
            "colorscale": [
             [
              0,
              "#0d0887"
             ],
             [
              0.1111111111111111,
              "#46039f"
             ],
             [
              0.2222222222222222,
              "#7201a8"
             ],
             [
              0.3333333333333333,
              "#9c179e"
             ],
             [
              0.4444444444444444,
              "#bd3786"
             ],
             [
              0.5555555555555556,
              "#d8576b"
             ],
             [
              0.6666666666666666,
              "#ed7953"
             ],
             [
              0.7777777777777778,
              "#fb9f3a"
             ],
             [
              0.8888888888888888,
              "#fdca26"
             ],
             [
              1,
              "#f0f921"
             ]
            ],
            "type": "heatmapgl"
           }
          ],
          "histogram": [
           {
            "marker": {
             "pattern": {
              "fillmode": "overlay",
              "size": 10,
              "solidity": 0.2
             }
            },
            "type": "histogram"
           }
          ],
          "histogram2d": [
           {
            "colorbar": {
             "outlinewidth": 0,
             "ticks": ""
            },
            "colorscale": [
             [
              0,
              "#0d0887"
             ],
             [
              0.1111111111111111,
              "#46039f"
             ],
             [
              0.2222222222222222,
              "#7201a8"
             ],
             [
              0.3333333333333333,
              "#9c179e"
             ],
             [
              0.4444444444444444,
              "#bd3786"
             ],
             [
              0.5555555555555556,
              "#d8576b"
             ],
             [
              0.6666666666666666,
              "#ed7953"
             ],
             [
              0.7777777777777778,
              "#fb9f3a"
             ],
             [
              0.8888888888888888,
              "#fdca26"
             ],
             [
              1,
              "#f0f921"
             ]
            ],
            "type": "histogram2d"
           }
          ],
          "histogram2dcontour": [
           {
            "colorbar": {
             "outlinewidth": 0,
             "ticks": ""
            },
            "colorscale": [
             [
              0,
              "#0d0887"
             ],
             [
              0.1111111111111111,
              "#46039f"
             ],
             [
              0.2222222222222222,
              "#7201a8"
             ],
             [
              0.3333333333333333,
              "#9c179e"
             ],
             [
              0.4444444444444444,
              "#bd3786"
             ],
             [
              0.5555555555555556,
              "#d8576b"
             ],
             [
              0.6666666666666666,
              "#ed7953"
             ],
             [
              0.7777777777777778,
              "#fb9f3a"
             ],
             [
              0.8888888888888888,
              "#fdca26"
             ],
             [
              1,
              "#f0f921"
             ]
            ],
            "type": "histogram2dcontour"
           }
          ],
          "mesh3d": [
           {
            "colorbar": {
             "outlinewidth": 0,
             "ticks": ""
            },
            "type": "mesh3d"
           }
          ],
          "parcoords": [
           {
            "line": {
             "colorbar": {
              "outlinewidth": 0,
              "ticks": ""
             }
            },
            "type": "parcoords"
           }
          ],
          "pie": [
           {
            "automargin": true,
            "type": "pie"
           }
          ],
          "scatter": [
           {
            "fillpattern": {
             "fillmode": "overlay",
             "size": 10,
             "solidity": 0.2
            },
            "type": "scatter"
           }
          ],
          "scatter3d": [
           {
            "line": {
             "colorbar": {
              "outlinewidth": 0,
              "ticks": ""
             }
            },
            "marker": {
             "colorbar": {
              "outlinewidth": 0,
              "ticks": ""
             }
            },
            "type": "scatter3d"
           }
          ],
          "scattercarpet": [
           {
            "marker": {
             "colorbar": {
              "outlinewidth": 0,
              "ticks": ""
             }
            },
            "type": "scattercarpet"
           }
          ],
          "scattergeo": [
           {
            "marker": {
             "colorbar": {
              "outlinewidth": 0,
              "ticks": ""
             }
            },
            "type": "scattergeo"
           }
          ],
          "scattergl": [
           {
            "marker": {
             "colorbar": {
              "outlinewidth": 0,
              "ticks": ""
             }
            },
            "type": "scattergl"
           }
          ],
          "scattermapbox": [
           {
            "marker": {
             "colorbar": {
              "outlinewidth": 0,
              "ticks": ""
             }
            },
            "type": "scattermapbox"
           }
          ],
          "scatterpolar": [
           {
            "marker": {
             "colorbar": {
              "outlinewidth": 0,
              "ticks": ""
             }
            },
            "type": "scatterpolar"
           }
          ],
          "scatterpolargl": [
           {
            "marker": {
             "colorbar": {
              "outlinewidth": 0,
              "ticks": ""
             }
            },
            "type": "scatterpolargl"
           }
          ],
          "scatterternary": [
           {
            "marker": {
             "colorbar": {
              "outlinewidth": 0,
              "ticks": ""
             }
            },
            "type": "scatterternary"
           }
          ],
          "surface": [
           {
            "colorbar": {
             "outlinewidth": 0,
             "ticks": ""
            },
            "colorscale": [
             [
              0,
              "#0d0887"
             ],
             [
              0.1111111111111111,
              "#46039f"
             ],
             [
              0.2222222222222222,
              "#7201a8"
             ],
             [
              0.3333333333333333,
              "#9c179e"
             ],
             [
              0.4444444444444444,
              "#bd3786"
             ],
             [
              0.5555555555555556,
              "#d8576b"
             ],
             [
              0.6666666666666666,
              "#ed7953"
             ],
             [
              0.7777777777777778,
              "#fb9f3a"
             ],
             [
              0.8888888888888888,
              "#fdca26"
             ],
             [
              1,
              "#f0f921"
             ]
            ],
            "type": "surface"
           }
          ],
          "table": [
           {
            "cells": {
             "fill": {
              "color": "#EBF0F8"
             },
             "line": {
              "color": "white"
             }
            },
            "header": {
             "fill": {
              "color": "#C8D4E3"
             },
             "line": {
              "color": "white"
             }
            },
            "type": "table"
           }
          ]
         },
         "layout": {
          "annotationdefaults": {
           "arrowcolor": "#2a3f5f",
           "arrowhead": 0,
           "arrowwidth": 1
          },
          "autotypenumbers": "strict",
          "coloraxis": {
           "colorbar": {
            "outlinewidth": 0,
            "ticks": ""
           }
          },
          "colorscale": {
           "diverging": [
            [
             0,
             "#8e0152"
            ],
            [
             0.1,
             "#c51b7d"
            ],
            [
             0.2,
             "#de77ae"
            ],
            [
             0.3,
             "#f1b6da"
            ],
            [
             0.4,
             "#fde0ef"
            ],
            [
             0.5,
             "#f7f7f7"
            ],
            [
             0.6,
             "#e6f5d0"
            ],
            [
             0.7,
             "#b8e186"
            ],
            [
             0.8,
             "#7fbc41"
            ],
            [
             0.9,
             "#4d9221"
            ],
            [
             1,
             "#276419"
            ]
           ],
           "sequential": [
            [
             0,
             "#0d0887"
            ],
            [
             0.1111111111111111,
             "#46039f"
            ],
            [
             0.2222222222222222,
             "#7201a8"
            ],
            [
             0.3333333333333333,
             "#9c179e"
            ],
            [
             0.4444444444444444,
             "#bd3786"
            ],
            [
             0.5555555555555556,
             "#d8576b"
            ],
            [
             0.6666666666666666,
             "#ed7953"
            ],
            [
             0.7777777777777778,
             "#fb9f3a"
            ],
            [
             0.8888888888888888,
             "#fdca26"
            ],
            [
             1,
             "#f0f921"
            ]
           ],
           "sequentialminus": [
            [
             0,
             "#0d0887"
            ],
            [
             0.1111111111111111,
             "#46039f"
            ],
            [
             0.2222222222222222,
             "#7201a8"
            ],
            [
             0.3333333333333333,
             "#9c179e"
            ],
            [
             0.4444444444444444,
             "#bd3786"
            ],
            [
             0.5555555555555556,
             "#d8576b"
            ],
            [
             0.6666666666666666,
             "#ed7953"
            ],
            [
             0.7777777777777778,
             "#fb9f3a"
            ],
            [
             0.8888888888888888,
             "#fdca26"
            ],
            [
             1,
             "#f0f921"
            ]
           ]
          },
          "colorway": [
           "#636efa",
           "#EF553B",
           "#00cc96",
           "#ab63fa",
           "#FFA15A",
           "#19d3f3",
           "#FF6692",
           "#B6E880",
           "#FF97FF",
           "#FECB52"
          ],
          "font": {
           "color": "#2a3f5f"
          },
          "geo": {
           "bgcolor": "white",
           "lakecolor": "white",
           "landcolor": "#E5ECF6",
           "showlakes": true,
           "showland": true,
           "subunitcolor": "white"
          },
          "hoverlabel": {
           "align": "left"
          },
          "hovermode": "closest",
          "mapbox": {
           "style": "light"
          },
          "paper_bgcolor": "white",
          "plot_bgcolor": "#E5ECF6",
          "polar": {
           "angularaxis": {
            "gridcolor": "white",
            "linecolor": "white",
            "ticks": ""
           },
           "bgcolor": "#E5ECF6",
           "radialaxis": {
            "gridcolor": "white",
            "linecolor": "white",
            "ticks": ""
           }
          },
          "scene": {
           "xaxis": {
            "backgroundcolor": "#E5ECF6",
            "gridcolor": "white",
            "gridwidth": 2,
            "linecolor": "white",
            "showbackground": true,
            "ticks": "",
            "zerolinecolor": "white"
           },
           "yaxis": {
            "backgroundcolor": "#E5ECF6",
            "gridcolor": "white",
            "gridwidth": 2,
            "linecolor": "white",
            "showbackground": true,
            "ticks": "",
            "zerolinecolor": "white"
           },
           "zaxis": {
            "backgroundcolor": "#E5ECF6",
            "gridcolor": "white",
            "gridwidth": 2,
            "linecolor": "white",
            "showbackground": true,
            "ticks": "",
            "zerolinecolor": "white"
           }
          },
          "shapedefaults": {
           "line": {
            "color": "#2a3f5f"
           }
          },
          "ternary": {
           "aaxis": {
            "gridcolor": "white",
            "linecolor": "white",
            "ticks": ""
           },
           "baxis": {
            "gridcolor": "white",
            "linecolor": "white",
            "ticks": ""
           },
           "bgcolor": "#E5ECF6",
           "caxis": {
            "gridcolor": "white",
            "linecolor": "white",
            "ticks": ""
           }
          },
          "title": {
           "x": 0.05
          },
          "xaxis": {
           "automargin": true,
           "gridcolor": "white",
           "linecolor": "white",
           "ticks": "",
           "title": {
            "standoff": 15
           },
           "zerolinecolor": "white",
           "zerolinewidth": 2
          },
          "yaxis": {
           "automargin": true,
           "gridcolor": "white",
           "linecolor": "white",
           "ticks": "",
           "title": {
            "standoff": 15
           },
           "zerolinecolor": "white",
           "zerolinewidth": 2
          }
         }
        },
        "title": {
         "text": "Numer of cases based on age group"
        },
        "xaxis": {
         "anchor": "y",
         "domain": [
          0,
          1
         ],
         "title": {
          "text": "median_age"
         }
        },
        "yaxis": {
         "anchor": "x",
         "domain": [
          0,
          1
         ],
         "title": {
          "text": "total_cases"
         }
        }
       }
      }
     },
     "metadata": {},
     "output_type": "display_data"
    }
   ],
   "source": [
    "fig=px.bar(df_new, x= 'median_age',y= 'total_cases',color='continent',title='Numer of cases based on age group',hover_name='country')\n",
    "fig.show()"
   ]
  },
  {
   "cell_type": "code",
   "execution_count": 71,
   "metadata": {},
   "outputs": [
    {
     "data": {
      "application/vnd.plotly.v1+json": {
       "config": {
        "plotlyServerURL": "https://plot.ly"
       },
       "data": [
        {
         "domain": {
          "x": [
           0,
           1
          ],
          "y": [
           0,
           1
          ]
         },
         "hovertemplate": "continent=%{label}<br>life_expectancy=%{value}<extra></extra>",
         "labels": [
          "Asia",
          "Europe",
          "Africa",
          "Europe",
          "Africa",
          "North America",
          "North America",
          "South America",
          "Asia",
          "North America",
          "Oceania",
          "Europe",
          "Asia",
          "North America",
          "Asia",
          "Asia",
          "North America",
          "Europe",
          "Europe",
          "North America",
          "Africa",
          "North America",
          "Asia",
          "South America",
          "North America",
          "Europe",
          "Africa",
          "South America",
          "North America",
          "Asia",
          "Europe",
          "Africa",
          "Africa",
          "Asia",
          "Africa",
          "North America",
          "Africa",
          "North America",
          "Africa",
          "Africa",
          "South America",
          "Asia",
          "South America",
          "Africa",
          "Africa",
          "Oceania",
          "North America",
          "Africa",
          "Europe",
          "North America",
          "North America",
          "Europe",
          "Europe",
          "Africa",
          "Europe",
          "Africa",
          "North America",
          "North America",
          "South America",
          "Africa",
          "North America",
          "Africa",
          "Africa",
          "Europe",
          "Africa",
          "Africa",
          "Europe",
          "South America",
          "Oceania",
          "Europe",
          "Europe",
          "Oceania",
          "Africa",
          "Africa",
          "Asia",
          "Europe",
          "Africa",
          "Europe",
          "Europe",
          "North America",
          "North America",
          "North America",
          "Africa",
          "Africa",
          "South America",
          "North America",
          "North America",
          "Asia",
          "Europe",
          "Europe",
          "Asia",
          "Asia",
          "Asia",
          "Asia",
          "Europe",
          "Europe",
          "Asia",
          "Europe",
          "North America",
          "Asia",
          "Europe",
          "Asia",
          "Asia",
          "Africa",
          "Oceania",
          "Europe",
          "Asia",
          "Asia",
          "Asia",
          "Europe",
          "Asia",
          "Africa",
          "Africa",
          "Africa",
          "Europe",
          "Europe",
          "Europe",
          "Asia",
          "Africa",
          "Africa",
          "Asia",
          "Asia",
          "Africa",
          "Europe",
          "Oceania",
          "Africa",
          "Africa",
          "North America",
          "Oceania",
          "Europe",
          "Europe",
          "Asia",
          "Europe",
          "North America",
          "Africa",
          "Africa",
          "Asia",
          "Africa",
          "Oceania",
          "Asia",
          "Europe",
          "Oceania",
          "Oceania",
          "North America",
          "Africa",
          "Africa",
          "Asia",
          "Europe",
          "Europe",
          "Asia",
          "Asia",
          "Oceania",
          "Asia",
          "North America",
          "Oceania",
          "South America",
          "South America",
          "Asia",
          "Europe",
          "Europe",
          "Asia",
          "Europe",
          "Europe",
          "Africa",
          "Africa",
          "North America",
          "North America",
          "North America",
          "North America",
          "Oceania",
          "Europe",
          "Africa",
          "Asia",
          "Africa",
          "Europe",
          "Africa",
          "Africa",
          "Asia",
          "Europe",
          "Europe",
          "Oceania",
          "Africa",
          "Africa",
          "Asia",
          "Africa",
          "Europe",
          "Asia",
          "Africa",
          "South America",
          "Europe",
          "Europe",
          "Asia",
          "Asia",
          "Asia",
          "Africa",
          "Asia",
          "Asia",
          "Africa",
          "Oceania",
          "North America",
          "Africa",
          "Asia",
          "North America",
          "Oceania",
          "Africa",
          "Europe",
          "Asia",
          "Europe",
          "North America",
          "South America",
          "Asia",
          "Oceania",
          "Europe",
          "South America",
          "Asia",
          "Oceania",
          "Asia",
          "Africa",
          "Africa"
         ],
         "legendgroup": "",
         "name": "",
         "showlegend": true,
         "type": "pie",
         "values": [
          64.83,
          78.57,
          76.88,
          83.73,
          61.15,
          81.88,
          77.02,
          76.67,
          75.09,
          76.29,
          83.44,
          81.54,
          73,
          73.92,
          77.29,
          72.59,
          79.19,
          74.79,
          81.63,
          74.62,
          61.77,
          82.59,
          71.78,
          71.51,
          77.79,
          77.4,
          69.59,
          75.88,
          79.07,
          75.86,
          75.05,
          61.58,
          61.58,
          69.82,
          59.29,
          82.43,
          72.98,
          83.92,
          53.28,
          54.24,
          80.18,
          76.91,
          77.29,
          64.32,
          64.57,
          76.25,
          80.28,
          57.78,
          78.49,
          78.8,
          78.88,
          80.98,
          79.38,
          60.68,
          80.9,
          67.11,
          75,
          74.08,
          77.01,
          71.99,
          73.32,
          58.74,
          66.32,
          78.74,
          60.19,
          66.6,
          80.67,
          81.44,
          67.44,
          81.91,
          82.66,
          77.66,
          66.47,
          62.05,
          73.77,
          81.33,
          64.07,
          79.93,
          82.24,
          71.7,
          72.4,
          74.3,
          61.6,
          58.32,
          69.91,
          64,
          75.27,
          84.86,
          76.88,
          82.99,
          69.66,
          71.72,
          76.68,
          70.6,
          82.3,
          81.4,
          82.97,
          83.51,
          74.47,
          84.63,
          0,
          74.53,
          73.6,
          66.7,
          68.37,
          0,
          75.49,
          71.45,
          67.92,
          75.29,
          78.93,
          54.33,
          64.1,
          72.91,
          82.49,
          75.93,
          82.25,
          84.24,
          67.04,
          64.26,
          76.16,
          78.92,
          59.31,
          82.53,
          73.7,
          64.92,
          74.99,
          75.05,
          67.88,
          71.9,
          86.75,
          69.87,
          76.88,
          74.16,
          76.68,
          60.85,
          67.13,
          63.71,
          59.96,
          70.78,
          82.28,
          77.55,
          82.29,
          74.48,
          62.42,
          54.69,
          72.27,
          75.8,
          82.4,
          77.86,
          67.27,
          73.7,
          74.05,
          78.51,
          64.5,
          74.25,
          76.74,
          71.23,
          78.73,
          82.05,
          80.23,
          76.05,
          72.58,
          69.02,
          80.56,
          76.23,
          76.2,
          81.07,
          72.53,
          73.32,
          84.97,
          70.39,
          75.13,
          67.94,
          76,
          73.4,
          54.7,
          83.62,
          77.54,
          81.32,
          73,
          57.4,
          64.13,
          83.03,
          57.85,
          83.56,
          76.98,
          65.31,
          71.68,
          82.8,
          83.78,
          72.7,
          80.46,
          71.1,
          65.46,
          77.15,
          69.5,
          61.04,
          70.91,
          73.51,
          76.7,
          77.69,
          80.22,
          67.57,
          63.37,
          72.06,
          77.97,
          81.32,
          78.86,
          77.91,
          71.72,
          70.47,
          75.12,
          72.06,
          75.4,
          79.94,
          66.12,
          63.89,
          61.49
         ]
        }
       ],
       "layout": {
        "legend": {
         "tracegroupgap": 0
        },
        "template": {
         "data": {
          "bar": [
           {
            "error_x": {
             "color": "#2a3f5f"
            },
            "error_y": {
             "color": "#2a3f5f"
            },
            "marker": {
             "line": {
              "color": "#E5ECF6",
              "width": 0.5
             },
             "pattern": {
              "fillmode": "overlay",
              "size": 10,
              "solidity": 0.2
             }
            },
            "type": "bar"
           }
          ],
          "barpolar": [
           {
            "marker": {
             "line": {
              "color": "#E5ECF6",
              "width": 0.5
             },
             "pattern": {
              "fillmode": "overlay",
              "size": 10,
              "solidity": 0.2
             }
            },
            "type": "barpolar"
           }
          ],
          "carpet": [
           {
            "aaxis": {
             "endlinecolor": "#2a3f5f",
             "gridcolor": "white",
             "linecolor": "white",
             "minorgridcolor": "white",
             "startlinecolor": "#2a3f5f"
            },
            "baxis": {
             "endlinecolor": "#2a3f5f",
             "gridcolor": "white",
             "linecolor": "white",
             "minorgridcolor": "white",
             "startlinecolor": "#2a3f5f"
            },
            "type": "carpet"
           }
          ],
          "choropleth": [
           {
            "colorbar": {
             "outlinewidth": 0,
             "ticks": ""
            },
            "type": "choropleth"
           }
          ],
          "contour": [
           {
            "colorbar": {
             "outlinewidth": 0,
             "ticks": ""
            },
            "colorscale": [
             [
              0,
              "#0d0887"
             ],
             [
              0.1111111111111111,
              "#46039f"
             ],
             [
              0.2222222222222222,
              "#7201a8"
             ],
             [
              0.3333333333333333,
              "#9c179e"
             ],
             [
              0.4444444444444444,
              "#bd3786"
             ],
             [
              0.5555555555555556,
              "#d8576b"
             ],
             [
              0.6666666666666666,
              "#ed7953"
             ],
             [
              0.7777777777777778,
              "#fb9f3a"
             ],
             [
              0.8888888888888888,
              "#fdca26"
             ],
             [
              1,
              "#f0f921"
             ]
            ],
            "type": "contour"
           }
          ],
          "contourcarpet": [
           {
            "colorbar": {
             "outlinewidth": 0,
             "ticks": ""
            },
            "type": "contourcarpet"
           }
          ],
          "heatmap": [
           {
            "colorbar": {
             "outlinewidth": 0,
             "ticks": ""
            },
            "colorscale": [
             [
              0,
              "#0d0887"
             ],
             [
              0.1111111111111111,
              "#46039f"
             ],
             [
              0.2222222222222222,
              "#7201a8"
             ],
             [
              0.3333333333333333,
              "#9c179e"
             ],
             [
              0.4444444444444444,
              "#bd3786"
             ],
             [
              0.5555555555555556,
              "#d8576b"
             ],
             [
              0.6666666666666666,
              "#ed7953"
             ],
             [
              0.7777777777777778,
              "#fb9f3a"
             ],
             [
              0.8888888888888888,
              "#fdca26"
             ],
             [
              1,
              "#f0f921"
             ]
            ],
            "type": "heatmap"
           }
          ],
          "heatmapgl": [
           {
            "colorbar": {
             "outlinewidth": 0,
             "ticks": ""
            },
            "colorscale": [
             [
              0,
              "#0d0887"
             ],
             [
              0.1111111111111111,
              "#46039f"
             ],
             [
              0.2222222222222222,
              "#7201a8"
             ],
             [
              0.3333333333333333,
              "#9c179e"
             ],
             [
              0.4444444444444444,
              "#bd3786"
             ],
             [
              0.5555555555555556,
              "#d8576b"
             ],
             [
              0.6666666666666666,
              "#ed7953"
             ],
             [
              0.7777777777777778,
              "#fb9f3a"
             ],
             [
              0.8888888888888888,
              "#fdca26"
             ],
             [
              1,
              "#f0f921"
             ]
            ],
            "type": "heatmapgl"
           }
          ],
          "histogram": [
           {
            "marker": {
             "pattern": {
              "fillmode": "overlay",
              "size": 10,
              "solidity": 0.2
             }
            },
            "type": "histogram"
           }
          ],
          "histogram2d": [
           {
            "colorbar": {
             "outlinewidth": 0,
             "ticks": ""
            },
            "colorscale": [
             [
              0,
              "#0d0887"
             ],
             [
              0.1111111111111111,
              "#46039f"
             ],
             [
              0.2222222222222222,
              "#7201a8"
             ],
             [
              0.3333333333333333,
              "#9c179e"
             ],
             [
              0.4444444444444444,
              "#bd3786"
             ],
             [
              0.5555555555555556,
              "#d8576b"
             ],
             [
              0.6666666666666666,
              "#ed7953"
             ],
             [
              0.7777777777777778,
              "#fb9f3a"
             ],
             [
              0.8888888888888888,
              "#fdca26"
             ],
             [
              1,
              "#f0f921"
             ]
            ],
            "type": "histogram2d"
           }
          ],
          "histogram2dcontour": [
           {
            "colorbar": {
             "outlinewidth": 0,
             "ticks": ""
            },
            "colorscale": [
             [
              0,
              "#0d0887"
             ],
             [
              0.1111111111111111,
              "#46039f"
             ],
             [
              0.2222222222222222,
              "#7201a8"
             ],
             [
              0.3333333333333333,
              "#9c179e"
             ],
             [
              0.4444444444444444,
              "#bd3786"
             ],
             [
              0.5555555555555556,
              "#d8576b"
             ],
             [
              0.6666666666666666,
              "#ed7953"
             ],
             [
              0.7777777777777778,
              "#fb9f3a"
             ],
             [
              0.8888888888888888,
              "#fdca26"
             ],
             [
              1,
              "#f0f921"
             ]
            ],
            "type": "histogram2dcontour"
           }
          ],
          "mesh3d": [
           {
            "colorbar": {
             "outlinewidth": 0,
             "ticks": ""
            },
            "type": "mesh3d"
           }
          ],
          "parcoords": [
           {
            "line": {
             "colorbar": {
              "outlinewidth": 0,
              "ticks": ""
             }
            },
            "type": "parcoords"
           }
          ],
          "pie": [
           {
            "automargin": true,
            "type": "pie"
           }
          ],
          "scatter": [
           {
            "fillpattern": {
             "fillmode": "overlay",
             "size": 10,
             "solidity": 0.2
            },
            "type": "scatter"
           }
          ],
          "scatter3d": [
           {
            "line": {
             "colorbar": {
              "outlinewidth": 0,
              "ticks": ""
             }
            },
            "marker": {
             "colorbar": {
              "outlinewidth": 0,
              "ticks": ""
             }
            },
            "type": "scatter3d"
           }
          ],
          "scattercarpet": [
           {
            "marker": {
             "colorbar": {
              "outlinewidth": 0,
              "ticks": ""
             }
            },
            "type": "scattercarpet"
           }
          ],
          "scattergeo": [
           {
            "marker": {
             "colorbar": {
              "outlinewidth": 0,
              "ticks": ""
             }
            },
            "type": "scattergeo"
           }
          ],
          "scattergl": [
           {
            "marker": {
             "colorbar": {
              "outlinewidth": 0,
              "ticks": ""
             }
            },
            "type": "scattergl"
           }
          ],
          "scattermapbox": [
           {
            "marker": {
             "colorbar": {
              "outlinewidth": 0,
              "ticks": ""
             }
            },
            "type": "scattermapbox"
           }
          ],
          "scatterpolar": [
           {
            "marker": {
             "colorbar": {
              "outlinewidth": 0,
              "ticks": ""
             }
            },
            "type": "scatterpolar"
           }
          ],
          "scatterpolargl": [
           {
            "marker": {
             "colorbar": {
              "outlinewidth": 0,
              "ticks": ""
             }
            },
            "type": "scatterpolargl"
           }
          ],
          "scatterternary": [
           {
            "marker": {
             "colorbar": {
              "outlinewidth": 0,
              "ticks": ""
             }
            },
            "type": "scatterternary"
           }
          ],
          "surface": [
           {
            "colorbar": {
             "outlinewidth": 0,
             "ticks": ""
            },
            "colorscale": [
             [
              0,
              "#0d0887"
             ],
             [
              0.1111111111111111,
              "#46039f"
             ],
             [
              0.2222222222222222,
              "#7201a8"
             ],
             [
              0.3333333333333333,
              "#9c179e"
             ],
             [
              0.4444444444444444,
              "#bd3786"
             ],
             [
              0.5555555555555556,
              "#d8576b"
             ],
             [
              0.6666666666666666,
              "#ed7953"
             ],
             [
              0.7777777777777778,
              "#fb9f3a"
             ],
             [
              0.8888888888888888,
              "#fdca26"
             ],
             [
              1,
              "#f0f921"
             ]
            ],
            "type": "surface"
           }
          ],
          "table": [
           {
            "cells": {
             "fill": {
              "color": "#EBF0F8"
             },
             "line": {
              "color": "white"
             }
            },
            "header": {
             "fill": {
              "color": "#C8D4E3"
             },
             "line": {
              "color": "white"
             }
            },
            "type": "table"
           }
          ]
         },
         "layout": {
          "annotationdefaults": {
           "arrowcolor": "#2a3f5f",
           "arrowhead": 0,
           "arrowwidth": 1
          },
          "autotypenumbers": "strict",
          "coloraxis": {
           "colorbar": {
            "outlinewidth": 0,
            "ticks": ""
           }
          },
          "colorscale": {
           "diverging": [
            [
             0,
             "#8e0152"
            ],
            [
             0.1,
             "#c51b7d"
            ],
            [
             0.2,
             "#de77ae"
            ],
            [
             0.3,
             "#f1b6da"
            ],
            [
             0.4,
             "#fde0ef"
            ],
            [
             0.5,
             "#f7f7f7"
            ],
            [
             0.6,
             "#e6f5d0"
            ],
            [
             0.7,
             "#b8e186"
            ],
            [
             0.8,
             "#7fbc41"
            ],
            [
             0.9,
             "#4d9221"
            ],
            [
             1,
             "#276419"
            ]
           ],
           "sequential": [
            [
             0,
             "#0d0887"
            ],
            [
             0.1111111111111111,
             "#46039f"
            ],
            [
             0.2222222222222222,
             "#7201a8"
            ],
            [
             0.3333333333333333,
             "#9c179e"
            ],
            [
             0.4444444444444444,
             "#bd3786"
            ],
            [
             0.5555555555555556,
             "#d8576b"
            ],
            [
             0.6666666666666666,
             "#ed7953"
            ],
            [
             0.7777777777777778,
             "#fb9f3a"
            ],
            [
             0.8888888888888888,
             "#fdca26"
            ],
            [
             1,
             "#f0f921"
            ]
           ],
           "sequentialminus": [
            [
             0,
             "#0d0887"
            ],
            [
             0.1111111111111111,
             "#46039f"
            ],
            [
             0.2222222222222222,
             "#7201a8"
            ],
            [
             0.3333333333333333,
             "#9c179e"
            ],
            [
             0.4444444444444444,
             "#bd3786"
            ],
            [
             0.5555555555555556,
             "#d8576b"
            ],
            [
             0.6666666666666666,
             "#ed7953"
            ],
            [
             0.7777777777777778,
             "#fb9f3a"
            ],
            [
             0.8888888888888888,
             "#fdca26"
            ],
            [
             1,
             "#f0f921"
            ]
           ]
          },
          "colorway": [
           "#636efa",
           "#EF553B",
           "#00cc96",
           "#ab63fa",
           "#FFA15A",
           "#19d3f3",
           "#FF6692",
           "#B6E880",
           "#FF97FF",
           "#FECB52"
          ],
          "font": {
           "color": "#2a3f5f"
          },
          "geo": {
           "bgcolor": "white",
           "lakecolor": "white",
           "landcolor": "#E5ECF6",
           "showlakes": true,
           "showland": true,
           "subunitcolor": "white"
          },
          "hoverlabel": {
           "align": "left"
          },
          "hovermode": "closest",
          "mapbox": {
           "style": "light"
          },
          "paper_bgcolor": "white",
          "plot_bgcolor": "#E5ECF6",
          "polar": {
           "angularaxis": {
            "gridcolor": "white",
            "linecolor": "white",
            "ticks": ""
           },
           "bgcolor": "#E5ECF6",
           "radialaxis": {
            "gridcolor": "white",
            "linecolor": "white",
            "ticks": ""
           }
          },
          "scene": {
           "xaxis": {
            "backgroundcolor": "#E5ECF6",
            "gridcolor": "white",
            "gridwidth": 2,
            "linecolor": "white",
            "showbackground": true,
            "ticks": "",
            "zerolinecolor": "white"
           },
           "yaxis": {
            "backgroundcolor": "#E5ECF6",
            "gridcolor": "white",
            "gridwidth": 2,
            "linecolor": "white",
            "showbackground": true,
            "ticks": "",
            "zerolinecolor": "white"
           },
           "zaxis": {
            "backgroundcolor": "#E5ECF6",
            "gridcolor": "white",
            "gridwidth": 2,
            "linecolor": "white",
            "showbackground": true,
            "ticks": "",
            "zerolinecolor": "white"
           }
          },
          "shapedefaults": {
           "line": {
            "color": "#2a3f5f"
           }
          },
          "ternary": {
           "aaxis": {
            "gridcolor": "white",
            "linecolor": "white",
            "ticks": ""
           },
           "baxis": {
            "gridcolor": "white",
            "linecolor": "white",
            "ticks": ""
           },
           "bgcolor": "#E5ECF6",
           "caxis": {
            "gridcolor": "white",
            "linecolor": "white",
            "ticks": ""
           }
          },
          "title": {
           "x": 0.05
          },
          "xaxis": {
           "automargin": true,
           "gridcolor": "white",
           "linecolor": "white",
           "ticks": "",
           "title": {
            "standoff": 15
           },
           "zerolinecolor": "white",
           "zerolinewidth": 2
          },
          "yaxis": {
           "automargin": true,
           "gridcolor": "white",
           "linecolor": "white",
           "ticks": "",
           "title": {
            "standoff": 15
           },
           "zerolinecolor": "white",
           "zerolinewidth": 2
          }
         }
        },
        "title": {
         "text": "Expectancy of life of different continents"
        }
       }
      }
     },
     "metadata": {},
     "output_type": "display_data"
    }
   ],
   "source": [
    "fig=px.pie(df_new, names='continent',values='life_expectancy',title='Expectancy of life of different continents')\n",
    "fig.show()"
   ]
  },
  {
   "cell_type": "markdown",
   "metadata": {},
   "source": [
    "### conclusion: \n",
    "\n",
    "1. Cases are increasing in 'JAPAN' most, among all the countries of evry continent, whereas few countries have no cases.\n",
    "\n",
    "2. Highest death rate has been found in 'United States'of North America. High population density can be a reason behind it.\n",
    "3. Reproduction rate is highest in Austria of Europe.\n",
    "4. People between 35-40 age group are being affected most.\n",
    "5. Expectancy of life has been found high in 'Europe' and 'Asia'. \n",
    "\n"
   ]
  },
  {
   "cell_type": "code",
   "execution_count": null,
   "metadata": {},
   "outputs": [],
   "source": []
  }
 ],
 "metadata": {
  "kernelspec": {
   "display_name": "Python 3.8.7 64-bit",
   "language": "python",
   "name": "python3"
  },
  "language_info": {
   "codemirror_mode": {
    "name": "ipython",
    "version": 3
   },
   "file_extension": ".py",
   "mimetype": "text/x-python",
   "name": "python",
   "nbconvert_exporter": "python",
   "pygments_lexer": "ipython3",
   "version": "3.8.7"
  },
  "orig_nbformat": 4,
  "vscode": {
   "interpreter": {
    "hash": "6a926afa313b26ae1264fdcf81c726a97e69f6ba2ba780f6aa901948710f8d6e"
   }
  }
 },
 "nbformat": 4,
 "nbformat_minor": 2
}
